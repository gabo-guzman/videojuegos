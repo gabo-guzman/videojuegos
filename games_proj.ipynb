{
 "cells": [
  {
   "cell_type": "markdown",
   "metadata": {},
   "source": [
    "¡Hola!\n",
    "\n",
    "Mi nombre es Marcos Torres y tengo el gusto de revisar tu código el día de hoy.\n",
    "\n",
    "Cuando vea algo notable o algún asunto en el notebook, te dejaré un comentario o un hint. Se que encontraras la mejor respuesta para resolver todos los comentarios, de no ser así, no te preocupes en futuras iteraciones dejaré comentarios y pistas más específicos.\n",
    "\n",
    "Encontrarás comentarios en verde, amarillo o rojo como los siguientes:\n",
    "\n",
    "<div class=\"alert alert-block alert-success\">\n",
    "<b>Comentario del revisor</b> <a class=\"tocSkip\"></a>\n",
    "\n",
    "Buen trabajo. ¡Lo hiciste muy bien!\n",
    "</div>\n",
    "\n",
    "<div class=\"alert alert-block alert-warning\">\n",
    "<b>Comentario del revisor</b> <a class=\"tocSkip\"></a>\n",
    "\n",
    "Nota. Se puede mejorar.\n",
    "</div>\n",
    "\n",
    "<div class=\"alert alert-block alert-danger\">\n",
    "<b>Comentario del revisor</b> <a class=\"tocSkip\"></a>\n",
    "\n",
    "Necesitas corregirlo. Este bloque indica que se requiere una correción. El trabajo no se acepta si tiene estos bloques.\n",
    "</div>\n",
    "\n",
    "Puedes responder a mis comentarios usando estos bloques:\n",
    "\n",
    "<div class=\"alert alert-block alert-info\">\n",
    "<b>Respuesta del estudiante.</b> <a class=\"tocSkip\"></a>\n",
    "</div>"
   ]
  },
  {
   "cell_type": "markdown",
   "metadata": {
    "tags": [
     "e5c1f0c2-db9f-43a0-99b9-4875c52427e8"
    ]
   },
   "source": [
    "# Proyecto de anális de datos para la marca Ice, como objetivo: planificar una campaña publicitaria \n"
   ]
  },
  {
   "cell_type": "markdown",
   "metadata": {},
   "source": [
    "## Introducción\n"
   ]
  },
  {
   "cell_type": "markdown",
   "metadata": {},
   "source": [
    "En este apartado, voy a ir aperturando la info del data set, descubrir sus carecterísticas y posibles falloos que proximamente revisaré "
   ]
  },
  {
   "cell_type": "code",
   "execution_count": 1,
   "metadata": {
    "trusted": true
   },
   "outputs": [],
   "source": [
    "#librerias\n",
    "import pandas as pd\n",
    "import matplotlib.pyplot as plt\n",
    "import seaborn as sns\n",
    "import scipy.stats as sts"
   ]
  },
  {
   "cell_type": "code",
   "execution_count": null,
   "metadata": {
    "trusted": true
   },
   "outputs": [],
   "source": [
    "#carga de l archivo\n",
    "df_sucio=pd.read_csv(\"C:\\Users\\gabri\\proy_concluidos\\games.csv\")"
   ]
  },
  {
   "cell_type": "markdown",
   "metadata": {},
   "source": [
    "<div class=\"alert alert-block alert-success\">\n",
    "<b>Comentario del revisor</b> <a class=\"tocSkip\"></a>\n",
    "\n",
    "Bien, usaste una celda independiente para importar las librerías y otra para leer los datos.\n",
    "</div>"
   ]
  },
  {
   "cell_type": "markdown",
   "metadata": {},
   "source": [
    "## correción y previsualización inicial\n",
    "\n"
   ]
  },
  {
   "cell_type": "markdown",
   "metadata": {},
   "source": [
    "Seguiremos dando un primer vistazo y a empezar con correcciones de sintaxis y orden en el data set"
   ]
  },
  {
   "cell_type": "code",
   "execution_count": 3,
   "metadata": {
    "trusted": true
   },
   "outputs": [
    {
     "data": {
      "text/plain": [
       "Index(['Name', 'Platform', 'Year_of_Release', 'Genre', 'NA_sales', 'EU_sales',\n",
       "       'JP_sales', 'Other_sales', 'Critic_Score', 'User_Score', 'Rating'],\n",
       "      dtype='object')"
      ]
     },
     "execution_count": 3,
     "metadata": {},
     "output_type": "execute_result"
    }
   ],
   "source": [
    "df_sucio.columns"
   ]
  },
  {
   "cell_type": "code",
   "execution_count": 4,
   "metadata": {
    "trusted": true
   },
   "outputs": [],
   "source": [
    "new_column_name=[]\n",
    "for column_name in df_sucio.columns:\n",
    "    new_column_name.append(column_name.lower())\n",
    "    \n",
    "\n",
    "df_sucio.columns=new_column_name\n",
    "\n"
   ]
  },
  {
   "cell_type": "code",
   "execution_count": 5,
   "metadata": {
    "scrolled": true,
    "trusted": true
   },
   "outputs": [
    {
     "name": "stdout",
     "output_type": "stream",
     "text": [
      "<class 'pandas.core.frame.DataFrame'>\n",
      "RangeIndex: 16715 entries, 0 to 16714\n",
      "Data columns (total 11 columns):\n",
      " #   Column           Non-Null Count  Dtype  \n",
      "---  ------           --------------  -----  \n",
      " 0   name             16713 non-null  object \n",
      " 1   platform         16715 non-null  object \n",
      " 2   year_of_release  16446 non-null  float64\n",
      " 3   genre            16713 non-null  object \n",
      " 4   na_sales         16715 non-null  float64\n",
      " 5   eu_sales         16715 non-null  float64\n",
      " 6   jp_sales         16715 non-null  float64\n",
      " 7   other_sales      16715 non-null  float64\n",
      " 8   critic_score     8137 non-null   float64\n",
      " 9   user_score       10014 non-null  object \n",
      " 10  rating           9949 non-null   object \n",
      "dtypes: float64(6), object(5)\n",
      "memory usage: 1.4+ MB\n"
     ]
    }
   ],
   "source": [
    "df_sucio.info()\n"
   ]
  },
  {
   "cell_type": "code",
   "execution_count": 6,
   "metadata": {
    "scrolled": false,
    "trusted": true
   },
   "outputs": [
    {
     "data": {
      "text/plain": [
       "name                  2\n",
       "platform              0\n",
       "year_of_release     269\n",
       "genre                 2\n",
       "na_sales              0\n",
       "eu_sales              0\n",
       "jp_sales              0\n",
       "other_sales           0\n",
       "critic_score       8578\n",
       "user_score         6701\n",
       "rating             6766\n",
       "dtype: int64"
      ]
     },
     "execution_count": 6,
     "metadata": {},
     "output_type": "execute_result"
    }
   ],
   "source": [
    "df_sucio.isna().sum()"
   ]
  },
  {
   "cell_type": "markdown",
   "metadata": {},
   "source": [
    "<div class=\"alert alert-block alert-success\">\n",
    "<b>Comentario del revisor</b> <a class=\"tocSkip\"></a>\n",
    "\n",
    "Buen uso de los métodos de pandas para explorar los datos.\n",
    "</div>"
   ]
  },
  {
   "cell_type": "code",
   "execution_count": 7,
   "metadata": {
    "trusted": true
   },
   "outputs": [
    {
     "data": {
      "text/html": [
       "<div>\n",
       "<style scoped>\n",
       "    .dataframe tbody tr th:only-of-type {\n",
       "        vertical-align: middle;\n",
       "    }\n",
       "\n",
       "    .dataframe tbody tr th {\n",
       "        vertical-align: top;\n",
       "    }\n",
       "\n",
       "    .dataframe thead th {\n",
       "        text-align: right;\n",
       "    }\n",
       "</style>\n",
       "<table border=\"1\" class=\"dataframe\">\n",
       "  <thead>\n",
       "    <tr style=\"text-align: right;\">\n",
       "      <th></th>\n",
       "      <th>name</th>\n",
       "      <th>platform</th>\n",
       "      <th>year_of_release</th>\n",
       "      <th>genre</th>\n",
       "      <th>na_sales</th>\n",
       "      <th>eu_sales</th>\n",
       "      <th>jp_sales</th>\n",
       "      <th>other_sales</th>\n",
       "      <th>critic_score</th>\n",
       "      <th>user_score</th>\n",
       "      <th>rating</th>\n",
       "    </tr>\n",
       "  </thead>\n",
       "  <tbody>\n",
       "    <tr>\n",
       "      <th>23</th>\n",
       "      <td>Grand Theft Auto V</td>\n",
       "      <td>X360</td>\n",
       "      <td>2013.0</td>\n",
       "      <td>Action</td>\n",
       "      <td>9.66</td>\n",
       "      <td>5.14</td>\n",
       "      <td>0.06</td>\n",
       "      <td>1.41</td>\n",
       "      <td>97.0</td>\n",
       "      <td>8.1</td>\n",
       "      <td>M</td>\n",
       "    </tr>\n",
       "    <tr>\n",
       "      <th>35</th>\n",
       "      <td>Call of Duty: Black Ops II</td>\n",
       "      <td>X360</td>\n",
       "      <td>2012.0</td>\n",
       "      <td>Shooter</td>\n",
       "      <td>8.25</td>\n",
       "      <td>4.24</td>\n",
       "      <td>0.07</td>\n",
       "      <td>1.12</td>\n",
       "      <td>83.0</td>\n",
       "      <td>4.8</td>\n",
       "      <td>M</td>\n",
       "    </tr>\n",
       "    <tr>\n",
       "      <th>37</th>\n",
       "      <td>Call of Duty: Modern Warfare 3</td>\n",
       "      <td>PS3</td>\n",
       "      <td>2011.0</td>\n",
       "      <td>Shooter</td>\n",
       "      <td>5.54</td>\n",
       "      <td>5.73</td>\n",
       "      <td>0.49</td>\n",
       "      <td>1.57</td>\n",
       "      <td>88.0</td>\n",
       "      <td>3.2</td>\n",
       "      <td>M</td>\n",
       "    </tr>\n",
       "    <tr>\n",
       "      <th>41</th>\n",
       "      <td>Call of Duty: Black Ops</td>\n",
       "      <td>PS3</td>\n",
       "      <td>2010.0</td>\n",
       "      <td>Shooter</td>\n",
       "      <td>5.99</td>\n",
       "      <td>4.37</td>\n",
       "      <td>0.48</td>\n",
       "      <td>1.79</td>\n",
       "      <td>88.0</td>\n",
       "      <td>6.4</td>\n",
       "      <td>M</td>\n",
       "    </tr>\n",
       "    <tr>\n",
       "      <th>42</th>\n",
       "      <td>Grand Theft Auto V</td>\n",
       "      <td>PS4</td>\n",
       "      <td>2014.0</td>\n",
       "      <td>Action</td>\n",
       "      <td>3.96</td>\n",
       "      <td>6.31</td>\n",
       "      <td>0.38</td>\n",
       "      <td>1.97</td>\n",
       "      <td>97.0</td>\n",
       "      <td>8.3</td>\n",
       "      <td>M</td>\n",
       "    </tr>\n",
       "    <tr>\n",
       "      <th>...</th>\n",
       "      <td>...</td>\n",
       "      <td>...</td>\n",
       "      <td>...</td>\n",
       "      <td>...</td>\n",
       "      <td>...</td>\n",
       "      <td>...</td>\n",
       "      <td>...</td>\n",
       "      <td>...</td>\n",
       "      <td>...</td>\n",
       "      <td>...</td>\n",
       "      <td>...</td>\n",
       "    </tr>\n",
       "    <tr>\n",
       "      <th>16706</th>\n",
       "      <td>Men in Black II: Alien Escape</td>\n",
       "      <td>GC</td>\n",
       "      <td>2003.0</td>\n",
       "      <td>Shooter</td>\n",
       "      <td>0.01</td>\n",
       "      <td>0.00</td>\n",
       "      <td>0.00</td>\n",
       "      <td>0.00</td>\n",
       "      <td>NaN</td>\n",
       "      <td>tbd</td>\n",
       "      <td>T</td>\n",
       "    </tr>\n",
       "    <tr>\n",
       "      <th>16709</th>\n",
       "      <td>SCORE International Baja 1000: The Official Game</td>\n",
       "      <td>PS2</td>\n",
       "      <td>2008.0</td>\n",
       "      <td>Racing</td>\n",
       "      <td>0.00</td>\n",
       "      <td>0.00</td>\n",
       "      <td>0.00</td>\n",
       "      <td>0.00</td>\n",
       "      <td>NaN</td>\n",
       "      <td>NaN</td>\n",
       "      <td>NaN</td>\n",
       "    </tr>\n",
       "    <tr>\n",
       "      <th>16710</th>\n",
       "      <td>Samurai Warriors: Sanada Maru</td>\n",
       "      <td>PS3</td>\n",
       "      <td>2016.0</td>\n",
       "      <td>Action</td>\n",
       "      <td>0.00</td>\n",
       "      <td>0.00</td>\n",
       "      <td>0.01</td>\n",
       "      <td>0.00</td>\n",
       "      <td>NaN</td>\n",
       "      <td>NaN</td>\n",
       "      <td>NaN</td>\n",
       "    </tr>\n",
       "    <tr>\n",
       "      <th>16713</th>\n",
       "      <td>Spirits &amp; Spells</td>\n",
       "      <td>GBA</td>\n",
       "      <td>2003.0</td>\n",
       "      <td>Platform</td>\n",
       "      <td>0.01</td>\n",
       "      <td>0.00</td>\n",
       "      <td>0.00</td>\n",
       "      <td>0.00</td>\n",
       "      <td>NaN</td>\n",
       "      <td>NaN</td>\n",
       "      <td>NaN</td>\n",
       "    </tr>\n",
       "    <tr>\n",
       "      <th>16714</th>\n",
       "      <td>Winning Post 8 2016</td>\n",
       "      <td>PSV</td>\n",
       "      <td>2016.0</td>\n",
       "      <td>Simulation</td>\n",
       "      <td>0.00</td>\n",
       "      <td>0.00</td>\n",
       "      <td>0.01</td>\n",
       "      <td>0.00</td>\n",
       "      <td>NaN</td>\n",
       "      <td>NaN</td>\n",
       "      <td>NaN</td>\n",
       "    </tr>\n",
       "  </tbody>\n",
       "</table>\n",
       "<p>5152 rows × 11 columns</p>\n",
       "</div>"
      ],
      "text/plain": [
       "                                                   name platform  \\\n",
       "23                                   Grand Theft Auto V     X360   \n",
       "35                           Call of Duty: Black Ops II     X360   \n",
       "37                       Call of Duty: Modern Warfare 3      PS3   \n",
       "41                              Call of Duty: Black Ops      PS3   \n",
       "42                                   Grand Theft Auto V      PS4   \n",
       "...                                                 ...      ...   \n",
       "16706                     Men in Black II: Alien Escape       GC   \n",
       "16709  SCORE International Baja 1000: The Official Game      PS2   \n",
       "16710                     Samurai Warriors: Sanada Maru      PS3   \n",
       "16713                                  Spirits & Spells      GBA   \n",
       "16714                               Winning Post 8 2016      PSV   \n",
       "\n",
       "       year_of_release       genre  na_sales  eu_sales  jp_sales  other_sales  \\\n",
       "23              2013.0      Action      9.66      5.14      0.06         1.41   \n",
       "35              2012.0     Shooter      8.25      4.24      0.07         1.12   \n",
       "37              2011.0     Shooter      5.54      5.73      0.49         1.57   \n",
       "41              2010.0     Shooter      5.99      4.37      0.48         1.79   \n",
       "42              2014.0      Action      3.96      6.31      0.38         1.97   \n",
       "...                ...         ...       ...       ...       ...          ...   \n",
       "16706           2003.0     Shooter      0.01      0.00      0.00         0.00   \n",
       "16709           2008.0      Racing      0.00      0.00      0.00         0.00   \n",
       "16710           2016.0      Action      0.00      0.00      0.01         0.00   \n",
       "16713           2003.0    Platform      0.01      0.00      0.00         0.00   \n",
       "16714           2016.0  Simulation      0.00      0.00      0.01         0.00   \n",
       "\n",
       "       critic_score user_score rating  \n",
       "23             97.0        8.1      M  \n",
       "35             83.0        4.8      M  \n",
       "37             88.0        3.2      M  \n",
       "41             88.0        6.4      M  \n",
       "42             97.0        8.3      M  \n",
       "...             ...        ...    ...  \n",
       "16706           NaN        tbd      T  \n",
       "16709           NaN        NaN    NaN  \n",
       "16710           NaN        NaN    NaN  \n",
       "16713           NaN        NaN    NaN  \n",
       "16714           NaN        NaN    NaN  \n",
       "\n",
       "[5152 rows x 11 columns]"
      ]
     },
     "execution_count": 7,
     "metadata": {},
     "output_type": "execute_result"
    }
   ],
   "source": [
    "df_duplicated=df_sucio[(df_sucio[[\"name\"]].duplicated())&(df_sucio[[\"platform\"]].duplicated())]\n",
    "df_duplicated"
   ]
  },
  {
   "cell_type": "markdown",
   "metadata": {},
   "source": [
    "al parecer no hay duplicados relevantes "
   ]
  },
  {
   "cell_type": "code",
   "execution_count": 8,
   "metadata": {
    "trusted": true
   },
   "outputs": [
    {
     "data": {
      "text/plain": [
       "269"
      ]
     },
     "execution_count": 8,
     "metadata": {},
     "output_type": "execute_result"
    }
   ],
   "source": [
    "df_sucio[\"year_of_release\"].isna().sum()\n",
    "\n"
   ]
  },
  {
   "cell_type": "code",
   "execution_count": 9,
   "metadata": {
    "trusted": true
   },
   "outputs": [],
   "source": [
    "df_sucio[\"year_of_release\"]=df_sucio[\"year_of_release\"].fillna(0).astype(\"int64\")"
   ]
  },
  {
   "cell_type": "code",
   "execution_count": 10,
   "metadata": {
    "trusted": true
   },
   "outputs": [],
   "source": [
    "\n",
    "df_games=df_sucio.dropna(subset=[\"name\"])"
   ]
  },
  {
   "cell_type": "markdown",
   "metadata": {},
   "source": [
    "<div class=\"alert alert-block alert-success\">\n",
    "<b>Comentario del revisor</b> <a class=\"tocSkip\"></a>\n",
    "\n",
    "Buen manejo de los datos faltantes.\n",
    "</div>"
   ]
  },
  {
   "cell_type": "markdown",
   "metadata": {},
   "source": [
    " **considero que no debería hacer más modificaciones en los tipos de datos porque alteraria el análisis, tal vez podria poner la mediana del año o la mediana del rating para eliminar los NaN pero no me parece que contribuya a un análisis real; en mi análisis prefiero evadir esta info en caso de ser necesario, tambien decidí eliminar los dos elementos que no contenian el nombrr dado que considero que aporten información  norelevante. Tambienn es importante recalcar que al trabajar con el año de lanzamiento se debe trabajar con su mediana dado que el año NaN se remplazó con cero.**"
   ]
  },
  {
   "cell_type": "code",
   "execution_count": 11,
   "metadata": {
    "trusted": true
   },
   "outputs": [
    {
     "data": {
      "text/html": [
       "<div>\n",
       "<style scoped>\n",
       "    .dataframe tbody tr th:only-of-type {\n",
       "        vertical-align: middle;\n",
       "    }\n",
       "\n",
       "    .dataframe tbody tr th {\n",
       "        vertical-align: top;\n",
       "    }\n",
       "\n",
       "    .dataframe thead th {\n",
       "        text-align: right;\n",
       "    }\n",
       "</style>\n",
       "<table border=\"1\" class=\"dataframe\">\n",
       "  <thead>\n",
       "    <tr style=\"text-align: right;\">\n",
       "      <th></th>\n",
       "      <th>name</th>\n",
       "      <th>platform</th>\n",
       "      <th>year_of_release</th>\n",
       "      <th>genre</th>\n",
       "      <th>na_sales</th>\n",
       "      <th>eu_sales</th>\n",
       "      <th>jp_sales</th>\n",
       "      <th>other_sales</th>\n",
       "      <th>critic_score</th>\n",
       "      <th>user_score</th>\n",
       "      <th>rating</th>\n",
       "    </tr>\n",
       "  </thead>\n",
       "  <tbody>\n",
       "    <tr>\n",
       "      <th>0</th>\n",
       "      <td>Wii Sports</td>\n",
       "      <td>Wii</td>\n",
       "      <td>2006</td>\n",
       "      <td>Sports</td>\n",
       "      <td>41.36</td>\n",
       "      <td>28.96</td>\n",
       "      <td>3.77</td>\n",
       "      <td>8.45</td>\n",
       "      <td>76.0</td>\n",
       "      <td>8</td>\n",
       "      <td>E</td>\n",
       "    </tr>\n",
       "    <tr>\n",
       "      <th>1</th>\n",
       "      <td>Super Mario Bros.</td>\n",
       "      <td>NES</td>\n",
       "      <td>1985</td>\n",
       "      <td>Platform</td>\n",
       "      <td>29.08</td>\n",
       "      <td>3.58</td>\n",
       "      <td>6.81</td>\n",
       "      <td>0.77</td>\n",
       "      <td>NaN</td>\n",
       "      <td>NaN</td>\n",
       "      <td>NaN</td>\n",
       "    </tr>\n",
       "    <tr>\n",
       "      <th>2</th>\n",
       "      <td>Mario Kart Wii</td>\n",
       "      <td>Wii</td>\n",
       "      <td>2008</td>\n",
       "      <td>Racing</td>\n",
       "      <td>15.68</td>\n",
       "      <td>12.76</td>\n",
       "      <td>3.79</td>\n",
       "      <td>3.29</td>\n",
       "      <td>82.0</td>\n",
       "      <td>8.3</td>\n",
       "      <td>E</td>\n",
       "    </tr>\n",
       "    <tr>\n",
       "      <th>3</th>\n",
       "      <td>Wii Sports Resort</td>\n",
       "      <td>Wii</td>\n",
       "      <td>2009</td>\n",
       "      <td>Sports</td>\n",
       "      <td>15.61</td>\n",
       "      <td>10.93</td>\n",
       "      <td>3.28</td>\n",
       "      <td>2.95</td>\n",
       "      <td>80.0</td>\n",
       "      <td>8</td>\n",
       "      <td>E</td>\n",
       "    </tr>\n",
       "    <tr>\n",
       "      <th>4</th>\n",
       "      <td>Pokemon Red/Pokemon Blue</td>\n",
       "      <td>GB</td>\n",
       "      <td>1996</td>\n",
       "      <td>Role-Playing</td>\n",
       "      <td>11.27</td>\n",
       "      <td>8.89</td>\n",
       "      <td>10.22</td>\n",
       "      <td>1.00</td>\n",
       "      <td>NaN</td>\n",
       "      <td>NaN</td>\n",
       "      <td>NaN</td>\n",
       "    </tr>\n",
       "  </tbody>\n",
       "</table>\n",
       "</div>"
      ],
      "text/plain": [
       "                       name platform  year_of_release         genre  na_sales  \\\n",
       "0                Wii Sports      Wii             2006        Sports     41.36   \n",
       "1         Super Mario Bros.      NES             1985      Platform     29.08   \n",
       "2            Mario Kart Wii      Wii             2008        Racing     15.68   \n",
       "3         Wii Sports Resort      Wii             2009        Sports     15.61   \n",
       "4  Pokemon Red/Pokemon Blue       GB             1996  Role-Playing     11.27   \n",
       "\n",
       "   eu_sales  jp_sales  other_sales  critic_score user_score rating  \n",
       "0     28.96      3.77         8.45          76.0          8      E  \n",
       "1      3.58      6.81         0.77           NaN        NaN    NaN  \n",
       "2     12.76      3.79         3.29          82.0        8.3      E  \n",
       "3     10.93      3.28         2.95          80.0          8      E  \n",
       "4      8.89     10.22         1.00           NaN        NaN    NaN  "
      ]
     },
     "execution_count": 11,
     "metadata": {},
     "output_type": "execute_result"
    }
   ],
   "source": [
    "df_games.head()\n"
   ]
  },
  {
   "cell_type": "markdown",
   "metadata": {},
   "source": [
    "### clasificación de ventas según región\n"
   ]
  },
  {
   "cell_type": "code",
   "execution_count": 12,
   "metadata": {
    "trusted": true
   },
   "outputs": [],
   "source": [
    "#agrupo según región\n",
    "df_sales = df_games.pivot_table(\n",
    "    index=\"name\",\n",
    "    values=[\"na_sales\", \"eu_sales\", \"jp_sales\", \"other_sales\"],\n",
    "    aggfunc=\"sum\"\n",
    ")\n",
    "\n",
    "\n",
    "\n"
   ]
  },
  {
   "cell_type": "code",
   "execution_count": 13,
   "metadata": {
    "trusted": true
   },
   "outputs": [
    {
     "data": {
      "text/html": [
       "<div>\n",
       "<style scoped>\n",
       "    .dataframe tbody tr th:only-of-type {\n",
       "        vertical-align: middle;\n",
       "    }\n",
       "\n",
       "    .dataframe tbody tr th {\n",
       "        vertical-align: top;\n",
       "    }\n",
       "\n",
       "    .dataframe thead th {\n",
       "        text-align: right;\n",
       "    }\n",
       "</style>\n",
       "<table border=\"1\" class=\"dataframe\">\n",
       "  <thead>\n",
       "    <tr style=\"text-align: right;\">\n",
       "      <th></th>\n",
       "      <th>name</th>\n",
       "      <th>total_sales</th>\n",
       "    </tr>\n",
       "  </thead>\n",
       "  <tbody>\n",
       "    <tr>\n",
       "      <th>0</th>\n",
       "      <td>Beyblade Burst</td>\n",
       "      <td>0.03</td>\n",
       "    </tr>\n",
       "    <tr>\n",
       "      <th>1</th>\n",
       "      <td>Fire Emblem Fates</td>\n",
       "      <td>1.67</td>\n",
       "    </tr>\n",
       "    <tr>\n",
       "      <th>2</th>\n",
       "      <td>Frozen: Olaf's Quest</td>\n",
       "      <td>1.10</td>\n",
       "    </tr>\n",
       "    <tr>\n",
       "      <th>3</th>\n",
       "      <td>Haikyu!! Cross Team Match!</td>\n",
       "      <td>0.04</td>\n",
       "    </tr>\n",
       "    <tr>\n",
       "      <th>4</th>\n",
       "      <td>Tales of Xillia 2</td>\n",
       "      <td>0.84</td>\n",
       "    </tr>\n",
       "    <tr>\n",
       "      <th>...</th>\n",
       "      <td>...</td>\n",
       "      <td>...</td>\n",
       "    </tr>\n",
       "    <tr>\n",
       "      <th>11554</th>\n",
       "      <td>thinkSMART: Chess for Kids</td>\n",
       "      <td>0.01</td>\n",
       "    </tr>\n",
       "    <tr>\n",
       "      <th>11555</th>\n",
       "      <td>uDraw Studio</td>\n",
       "      <td>2.42</td>\n",
       "    </tr>\n",
       "    <tr>\n",
       "      <th>11556</th>\n",
       "      <td>uDraw Studio: Instant Artist</td>\n",
       "      <td>0.19</td>\n",
       "    </tr>\n",
       "    <tr>\n",
       "      <th>11557</th>\n",
       "      <td>wwe Smackdown vs. Raw 2006</td>\n",
       "      <td>3.00</td>\n",
       "    </tr>\n",
       "    <tr>\n",
       "      <th>11558</th>\n",
       "      <td>¡Shin Chan Flipa en colores!</td>\n",
       "      <td>0.14</td>\n",
       "    </tr>\n",
       "  </tbody>\n",
       "</table>\n",
       "<p>11559 rows × 2 columns</p>\n",
       "</div>"
      ],
      "text/plain": [
       "                               name  total_sales\n",
       "0                    Beyblade Burst         0.03\n",
       "1                 Fire Emblem Fates         1.67\n",
       "2              Frozen: Olaf's Quest         1.10\n",
       "3        Haikyu!! Cross Team Match!         0.04\n",
       "4                 Tales of Xillia 2         0.84\n",
       "...                             ...          ...\n",
       "11554    thinkSMART: Chess for Kids         0.01\n",
       "11555                  uDraw Studio         2.42\n",
       "11556  uDraw Studio: Instant Artist         0.19\n",
       "11557    wwe Smackdown vs. Raw 2006         3.00\n",
       "11558  ¡Shin Chan Flipa en colores!         0.14\n",
       "\n",
       "[11559 rows x 2 columns]"
      ]
     },
     "execution_count": 13,
     "metadata": {},
     "output_type": "execute_result"
    }
   ],
   "source": [
    "#agrupo la info general en una sola columna \n",
    "df_sales[\"total_sales\"] = df_sales.sum(axis=1)  \n",
    "df_sales = df_sales.reset_index()\n",
    "df_sales=df_sales[[\"name\", \"total_sales\"]]\n",
    "df_sales"
   ]
  },
  {
   "cell_type": "code",
   "execution_count": 14,
   "metadata": {
    "trusted": true
   },
   "outputs": [],
   "source": [
    "games_sales=df_games.merge(df_sales, on= \"name\", how=\"inner\")"
   ]
  },
  {
   "cell_type": "markdown",
   "metadata": {},
   "source": [
    "En esta tabla encontramos la info general de cada juego y además, le agregamos un total de las ventas en todas las regiones a cáda uno."
   ]
  },
  {
   "cell_type": "code",
   "execution_count": 15,
   "metadata": {
    "trusted": true
   },
   "outputs": [
    {
     "data": {
      "text/html": [
       "<div>\n",
       "<style scoped>\n",
       "    .dataframe tbody tr th:only-of-type {\n",
       "        vertical-align: middle;\n",
       "    }\n",
       "\n",
       "    .dataframe tbody tr th {\n",
       "        vertical-align: top;\n",
       "    }\n",
       "\n",
       "    .dataframe thead th {\n",
       "        text-align: right;\n",
       "    }\n",
       "</style>\n",
       "<table border=\"1\" class=\"dataframe\">\n",
       "  <thead>\n",
       "    <tr style=\"text-align: right;\">\n",
       "      <th></th>\n",
       "      <th>name</th>\n",
       "      <th>platform</th>\n",
       "      <th>year_of_release</th>\n",
       "      <th>genre</th>\n",
       "      <th>na_sales</th>\n",
       "      <th>eu_sales</th>\n",
       "      <th>jp_sales</th>\n",
       "      <th>other_sales</th>\n",
       "      <th>critic_score</th>\n",
       "      <th>user_score</th>\n",
       "      <th>rating</th>\n",
       "      <th>total_sales</th>\n",
       "    </tr>\n",
       "  </thead>\n",
       "  <tbody>\n",
       "    <tr>\n",
       "      <th>0</th>\n",
       "      <td>Wii Sports</td>\n",
       "      <td>Wii</td>\n",
       "      <td>2006</td>\n",
       "      <td>Sports</td>\n",
       "      <td>41.36</td>\n",
       "      <td>28.96</td>\n",
       "      <td>3.77</td>\n",
       "      <td>8.45</td>\n",
       "      <td>76.0</td>\n",
       "      <td>8</td>\n",
       "      <td>E</td>\n",
       "      <td>82.54</td>\n",
       "    </tr>\n",
       "    <tr>\n",
       "      <th>1</th>\n",
       "      <td>Super Mario Bros.</td>\n",
       "      <td>NES</td>\n",
       "      <td>1985</td>\n",
       "      <td>Platform</td>\n",
       "      <td>29.08</td>\n",
       "      <td>3.58</td>\n",
       "      <td>6.81</td>\n",
       "      <td>0.77</td>\n",
       "      <td>NaN</td>\n",
       "      <td>NaN</td>\n",
       "      <td>NaN</td>\n",
       "      <td>45.31</td>\n",
       "    </tr>\n",
       "    <tr>\n",
       "      <th>2</th>\n",
       "      <td>Super Mario Bros.</td>\n",
       "      <td>GB</td>\n",
       "      <td>1999</td>\n",
       "      <td>Platform</td>\n",
       "      <td>3.40</td>\n",
       "      <td>1.30</td>\n",
       "      <td>0.15</td>\n",
       "      <td>0.22</td>\n",
       "      <td>NaN</td>\n",
       "      <td>NaN</td>\n",
       "      <td>NaN</td>\n",
       "      <td>45.31</td>\n",
       "    </tr>\n",
       "    <tr>\n",
       "      <th>3</th>\n",
       "      <td>Mario Kart Wii</td>\n",
       "      <td>Wii</td>\n",
       "      <td>2008</td>\n",
       "      <td>Racing</td>\n",
       "      <td>15.68</td>\n",
       "      <td>12.76</td>\n",
       "      <td>3.79</td>\n",
       "      <td>3.29</td>\n",
       "      <td>82.0</td>\n",
       "      <td>8.3</td>\n",
       "      <td>E</td>\n",
       "      <td>35.52</td>\n",
       "    </tr>\n",
       "    <tr>\n",
       "      <th>4</th>\n",
       "      <td>Wii Sports Resort</td>\n",
       "      <td>Wii</td>\n",
       "      <td>2009</td>\n",
       "      <td>Sports</td>\n",
       "      <td>15.61</td>\n",
       "      <td>10.93</td>\n",
       "      <td>3.28</td>\n",
       "      <td>2.95</td>\n",
       "      <td>80.0</td>\n",
       "      <td>8</td>\n",
       "      <td>E</td>\n",
       "      <td>32.77</td>\n",
       "    </tr>\n",
       "    <tr>\n",
       "      <th>...</th>\n",
       "      <td>...</td>\n",
       "      <td>...</td>\n",
       "      <td>...</td>\n",
       "      <td>...</td>\n",
       "      <td>...</td>\n",
       "      <td>...</td>\n",
       "      <td>...</td>\n",
       "      <td>...</td>\n",
       "      <td>...</td>\n",
       "      <td>...</td>\n",
       "      <td>...</td>\n",
       "      <td>...</td>\n",
       "    </tr>\n",
       "    <tr>\n",
       "      <th>16708</th>\n",
       "      <td>15 Days</td>\n",
       "      <td>PC</td>\n",
       "      <td>2009</td>\n",
       "      <td>Adventure</td>\n",
       "      <td>0.00</td>\n",
       "      <td>0.01</td>\n",
       "      <td>0.00</td>\n",
       "      <td>0.00</td>\n",
       "      <td>63.0</td>\n",
       "      <td>5.8</td>\n",
       "      <td>NaN</td>\n",
       "      <td>0.01</td>\n",
       "    </tr>\n",
       "    <tr>\n",
       "      <th>16709</th>\n",
       "      <td>Aiyoku no Eustia</td>\n",
       "      <td>PSV</td>\n",
       "      <td>2014</td>\n",
       "      <td>Misc</td>\n",
       "      <td>0.00</td>\n",
       "      <td>0.00</td>\n",
       "      <td>0.01</td>\n",
       "      <td>0.00</td>\n",
       "      <td>NaN</td>\n",
       "      <td>NaN</td>\n",
       "      <td>NaN</td>\n",
       "      <td>0.01</td>\n",
       "    </tr>\n",
       "    <tr>\n",
       "      <th>16710</th>\n",
       "      <td>Woody Woodpecker in Crazy Castle 5</td>\n",
       "      <td>GBA</td>\n",
       "      <td>2002</td>\n",
       "      <td>Platform</td>\n",
       "      <td>0.01</td>\n",
       "      <td>0.00</td>\n",
       "      <td>0.00</td>\n",
       "      <td>0.00</td>\n",
       "      <td>NaN</td>\n",
       "      <td>NaN</td>\n",
       "      <td>NaN</td>\n",
       "      <td>0.01</td>\n",
       "    </tr>\n",
       "    <tr>\n",
       "      <th>16711</th>\n",
       "      <td>LMA Manager 2007</td>\n",
       "      <td>X360</td>\n",
       "      <td>2006</td>\n",
       "      <td>Sports</td>\n",
       "      <td>0.00</td>\n",
       "      <td>0.01</td>\n",
       "      <td>0.00</td>\n",
       "      <td>0.00</td>\n",
       "      <td>NaN</td>\n",
       "      <td>NaN</td>\n",
       "      <td>NaN</td>\n",
       "      <td>0.01</td>\n",
       "    </tr>\n",
       "    <tr>\n",
       "      <th>16712</th>\n",
       "      <td>Haitaka no Psychedelica</td>\n",
       "      <td>PSV</td>\n",
       "      <td>2016</td>\n",
       "      <td>Adventure</td>\n",
       "      <td>0.00</td>\n",
       "      <td>0.00</td>\n",
       "      <td>0.01</td>\n",
       "      <td>0.00</td>\n",
       "      <td>NaN</td>\n",
       "      <td>NaN</td>\n",
       "      <td>NaN</td>\n",
       "      <td>0.01</td>\n",
       "    </tr>\n",
       "  </tbody>\n",
       "</table>\n",
       "<p>16713 rows × 12 columns</p>\n",
       "</div>"
      ],
      "text/plain": [
       "                                     name platform  year_of_release  \\\n",
       "0                              Wii Sports      Wii             2006   \n",
       "1                       Super Mario Bros.      NES             1985   \n",
       "2                       Super Mario Bros.       GB             1999   \n",
       "3                          Mario Kart Wii      Wii             2008   \n",
       "4                       Wii Sports Resort      Wii             2009   \n",
       "...                                   ...      ...              ...   \n",
       "16708                             15 Days       PC             2009   \n",
       "16709                    Aiyoku no Eustia      PSV             2014   \n",
       "16710  Woody Woodpecker in Crazy Castle 5      GBA             2002   \n",
       "16711                    LMA Manager 2007     X360             2006   \n",
       "16712             Haitaka no Psychedelica      PSV             2016   \n",
       "\n",
       "           genre  na_sales  eu_sales  jp_sales  other_sales  critic_score  \\\n",
       "0         Sports     41.36     28.96      3.77         8.45          76.0   \n",
       "1       Platform     29.08      3.58      6.81         0.77           NaN   \n",
       "2       Platform      3.40      1.30      0.15         0.22           NaN   \n",
       "3         Racing     15.68     12.76      3.79         3.29          82.0   \n",
       "4         Sports     15.61     10.93      3.28         2.95          80.0   \n",
       "...          ...       ...       ...       ...          ...           ...   \n",
       "16708  Adventure      0.00      0.01      0.00         0.00          63.0   \n",
       "16709       Misc      0.00      0.00      0.01         0.00           NaN   \n",
       "16710   Platform      0.01      0.00      0.00         0.00           NaN   \n",
       "16711     Sports      0.00      0.01      0.00         0.00           NaN   \n",
       "16712  Adventure      0.00      0.00      0.01         0.00           NaN   \n",
       "\n",
       "      user_score rating  total_sales  \n",
       "0              8      E        82.54  \n",
       "1            NaN    NaN        45.31  \n",
       "2            NaN    NaN        45.31  \n",
       "3            8.3      E        35.52  \n",
       "4              8      E        32.77  \n",
       "...          ...    ...          ...  \n",
       "16708        5.8    NaN         0.01  \n",
       "16709        NaN    NaN         0.01  \n",
       "16710        NaN    NaN         0.01  \n",
       "16711        NaN    NaN         0.01  \n",
       "16712        NaN    NaN         0.01  \n",
       "\n",
       "[16713 rows x 12 columns]"
      ]
     },
     "execution_count": 15,
     "metadata": {},
     "output_type": "execute_result"
    }
   ],
   "source": [
    "games_sales"
   ]
  },
  {
   "cell_type": "markdown",
   "metadata": {},
   "source": [
    "<div class=\"alert alert-block alert-success\">\n",
    "<b>Comentario del revisor</b> <a class=\"tocSkip\"></a>\n",
    "\n",
    "Buien hecho.\n",
    "</div>"
   ]
  },
  {
   "cell_type": "markdown",
   "metadata": {},
   "source": [
    "## analisis inicial"
   ]
  },
  {
   "cell_type": "code",
   "execution_count": 16,
   "metadata": {
    "trusted": true
   },
   "outputs": [
    {
     "data": {
      "text/plain": [
       "array(['8', nan, '8.3', '8.5', '6.6', '8.4', '8.6', '7.7', '6.3', '7.4',\n",
       "       '8.2', '8.1', '7.9', '9', '8.9', '7.5', '8.7', '8.8', '7.1', '3.4',\n",
       "       '3.2', '2.5', '1.8', '6.4', '5.2', '5.8', '6', '5.3', '4.8', '4.2',\n",
       "       '6.9', '7.8', '2.6', '3.7', '4.3', '7.2', '9.2', '7', '7.3', '4.4',\n",
       "       '2.9', '5.6', '6.1', '1.6', '6.2', '4.1', '7.6', '3.3', '5.7',\n",
       "       '5.4', '4.9', '4.5', '5', '5.5', '1.7', '9.1', '6.5', 'tbd', '3.8',\n",
       "       '4.6', '6.7', '3.1', '2.4', '9.4', '6.8', '4.7', '4', '9.3', '3',\n",
       "       '5.1', '3.5', '5.9', '3.9', '2.7', '3.6', '2.2', '2', '0.7', '0.2',\n",
       "       '1.9', '1.4', '9.5', '2.1', '9.7', '2.8', '0', '9.6', '0.6', '1.5',\n",
       "       '1.1', '0.5', '0.3', '1.3', '2.3', '1.2', '0.9', '1'], dtype=object)"
      ]
     },
     "execution_count": 16,
     "metadata": {},
     "output_type": "execute_result"
    }
   ],
   "source": [
    "games_sales[\"user_score\"].unique()"
   ]
  },
  {
   "cell_type": "markdown",
   "metadata": {},
   "source": [
    "### juegos lanzados por año"
   ]
  },
  {
   "cell_type": "code",
   "execution_count": 17,
   "metadata": {
    "trusted": true
   },
   "outputs": [
    {
     "data": {
      "text/plain": [
       "<AxesSubplot:title={'center':'total de lanzamientos por año'}, xlabel='año de lanzamiento', ylabel='cantidad'>"
      ]
     },
     "execution_count": 17,
     "metadata": {},
     "output_type": "execute_result"
    },
    {
     "data": {
      "image/png": "[encoded data removed]",
      "text/plain": [
       "<Figure size 640x480 with 1 Axes>"
      ]
     },
     "metadata": {},
     "output_type": "display_data"
    }
   ],
   "source": [
    "\n",
    "\n",
    "\n",
    "juegos_lanzados_por_año=games_sales.pivot_table(index=\"year_of_release\", values=\"name\", aggfunc=\"count\").reset_index()\n",
    "juegos_lanzados_por_año.columns=[\"year_of_release\", \"games_release\"]\n",
    "juegos_lanzados_por_año.plot(kind=\"bar\", x=\"year_of_release\", y=\"games_release\", title=\"total de lanzamientos por año\",  xlabel=\"año de lanzamiento\", ylabel=\"cantidad\", legend=False)"
   ]
  },
  {
   "cell_type": "markdown",
   "metadata": {},
   "source": [
    "vemos que loss años con mayor número de lanzamientos en este periodo son en el 2008 y 2009 que coinciden con la resesión económica; tal vez tienen  una relación directa. tambien se observa un crecimiento exponencial desde 1988 hasta 2008, y luego una caida drástica en el número de lanzamientos\n"
   ]
  },
  {
   "cell_type": "markdown",
   "metadata": {},
   "source": [
    "<div class=\"alert alert-block alert-success\">\n",
    "<b>Comentario del revisor</b> <a class=\"tocSkip\"></a>\n",
    "\n",
    "¡Muy bien! Esta gráfica muestra correctamente las ventas a lo largo del año.\n",
    "</div>"
   ]
  },
  {
   "cell_type": "markdown",
   "metadata": {},
   "source": [
    "### clasificación según plataforma"
   ]
  },
  {
   "cell_type": "code",
   "execution_count": 18,
   "metadata": {
    "trusted": true
   },
   "outputs": [],
   "source": [
    "platform_sales=games_sales.pivot_table(index=\"platform\", values=\"total_sales\", aggfunc=\"sum\")\n",
    "top_sales=platform_sales.sort_values(by=\"total_sales\", ascending=False).reset_index().head(10)"
   ]
  },
  {
   "cell_type": "code",
   "execution_count": 19,
   "metadata": {
    "trusted": true
   },
   "outputs": [
    {
     "data": {
      "text/html": [
       "<div>\n",
       "<style scoped>\n",
       "    .dataframe tbody tr th:only-of-type {\n",
       "        vertical-align: middle;\n",
       "    }\n",
       "\n",
       "    .dataframe tbody tr th {\n",
       "        vertical-align: top;\n",
       "    }\n",
       "\n",
       "    .dataframe thead th {\n",
       "        text-align: right;\n",
       "    }\n",
       "</style>\n",
       "<table border=\"1\" class=\"dataframe\">\n",
       "  <thead>\n",
       "    <tr style=\"text-align: right;\">\n",
       "      <th></th>\n",
       "      <th>platform</th>\n",
       "    </tr>\n",
       "  </thead>\n",
       "  <tbody>\n",
       "    <tr>\n",
       "      <th>0</th>\n",
       "      <td>X360</td>\n",
       "    </tr>\n",
       "    <tr>\n",
       "      <th>1</th>\n",
       "      <td>PS3</td>\n",
       "    </tr>\n",
       "    <tr>\n",
       "      <th>2</th>\n",
       "      <td>PS2</td>\n",
       "    </tr>\n",
       "    <tr>\n",
       "      <th>3</th>\n",
       "      <td>PC</td>\n",
       "    </tr>\n",
       "    <tr>\n",
       "      <th>4</th>\n",
       "      <td>Wii</td>\n",
       "    </tr>\n",
       "    <tr>\n",
       "      <th>5</th>\n",
       "      <td>DS</td>\n",
       "    </tr>\n",
       "    <tr>\n",
       "      <th>6</th>\n",
       "      <td>XB</td>\n",
       "    </tr>\n",
       "    <tr>\n",
       "      <th>7</th>\n",
       "      <td>PSP</td>\n",
       "    </tr>\n",
       "    <tr>\n",
       "      <th>8</th>\n",
       "      <td>PS</td>\n",
       "    </tr>\n",
       "    <tr>\n",
       "      <th>9</th>\n",
       "      <td>GC</td>\n",
       "    </tr>\n",
       "  </tbody>\n",
       "</table>\n",
       "</div>"
      ],
      "text/plain": [
       "  platform\n",
       "0     X360\n",
       "1      PS3\n",
       "2      PS2\n",
       "3       PC\n",
       "4      Wii\n",
       "5       DS\n",
       "6       XB\n",
       "7      PSP\n",
       "8       PS\n",
       "9       GC"
      ]
     },
     "execution_count": 19,
     "metadata": {},
     "output_type": "execute_result"
    }
   ],
   "source": [
    "top_sales=top_sales.iloc[:, 0:-1]\n",
    "top_sales"
   ]
  },
  {
   "cell_type": "code",
   "execution_count": 20,
   "metadata": {
    "scrolled": true,
    "trusted": true
   },
   "outputs": [
    {
     "data": {
      "text/html": [
       "<div>\n",
       "<style scoped>\n",
       "    .dataframe tbody tr th:only-of-type {\n",
       "        vertical-align: middle;\n",
       "    }\n",
       "\n",
       "    .dataframe tbody tr th {\n",
       "        vertical-align: top;\n",
       "    }\n",
       "\n",
       "    .dataframe thead th {\n",
       "        text-align: right;\n",
       "    }\n",
       "</style>\n",
       "<table border=\"1\" class=\"dataframe\">\n",
       "  <thead>\n",
       "    <tr style=\"text-align: right;\">\n",
       "      <th></th>\n",
       "      <th>name</th>\n",
       "      <th>platform</th>\n",
       "      <th>year_of_release</th>\n",
       "      <th>genre</th>\n",
       "      <th>na_sales</th>\n",
       "      <th>eu_sales</th>\n",
       "      <th>jp_sales</th>\n",
       "      <th>other_sales</th>\n",
       "      <th>critic_score</th>\n",
       "      <th>user_score</th>\n",
       "      <th>rating</th>\n",
       "      <th>total_sales</th>\n",
       "    </tr>\n",
       "  </thead>\n",
       "  <tbody>\n",
       "    <tr>\n",
       "      <th>0</th>\n",
       "      <td>Wii Sports</td>\n",
       "      <td>Wii</td>\n",
       "      <td>2006</td>\n",
       "      <td>Sports</td>\n",
       "      <td>41.36</td>\n",
       "      <td>28.96</td>\n",
       "      <td>3.77</td>\n",
       "      <td>8.45</td>\n",
       "      <td>76.0</td>\n",
       "      <td>8</td>\n",
       "      <td>E</td>\n",
       "      <td>82.54</td>\n",
       "    </tr>\n",
       "    <tr>\n",
       "      <th>1</th>\n",
       "      <td>Mario Kart Wii</td>\n",
       "      <td>Wii</td>\n",
       "      <td>2008</td>\n",
       "      <td>Racing</td>\n",
       "      <td>15.68</td>\n",
       "      <td>12.76</td>\n",
       "      <td>3.79</td>\n",
       "      <td>3.29</td>\n",
       "      <td>82.0</td>\n",
       "      <td>8.3</td>\n",
       "      <td>E</td>\n",
       "      <td>35.52</td>\n",
       "    </tr>\n",
       "    <tr>\n",
       "      <th>2</th>\n",
       "      <td>Wii Sports Resort</td>\n",
       "      <td>Wii</td>\n",
       "      <td>2009</td>\n",
       "      <td>Sports</td>\n",
       "      <td>15.61</td>\n",
       "      <td>10.93</td>\n",
       "      <td>3.28</td>\n",
       "      <td>2.95</td>\n",
       "      <td>80.0</td>\n",
       "      <td>8</td>\n",
       "      <td>E</td>\n",
       "      <td>32.77</td>\n",
       "    </tr>\n",
       "    <tr>\n",
       "      <th>3</th>\n",
       "      <td>Wii Play</td>\n",
       "      <td>Wii</td>\n",
       "      <td>2006</td>\n",
       "      <td>Misc</td>\n",
       "      <td>13.96</td>\n",
       "      <td>9.18</td>\n",
       "      <td>2.93</td>\n",
       "      <td>2.84</td>\n",
       "      <td>58.0</td>\n",
       "      <td>6.6</td>\n",
       "      <td>E</td>\n",
       "      <td>28.91</td>\n",
       "    </tr>\n",
       "    <tr>\n",
       "      <th>4</th>\n",
       "      <td>New Super Mario Bros. Wii</td>\n",
       "      <td>Wii</td>\n",
       "      <td>2009</td>\n",
       "      <td>Platform</td>\n",
       "      <td>14.44</td>\n",
       "      <td>6.94</td>\n",
       "      <td>4.70</td>\n",
       "      <td>2.24</td>\n",
       "      <td>87.0</td>\n",
       "      <td>8.4</td>\n",
       "      <td>E</td>\n",
       "      <td>28.32</td>\n",
       "    </tr>\n",
       "    <tr>\n",
       "      <th>...</th>\n",
       "      <td>...</td>\n",
       "      <td>...</td>\n",
       "      <td>...</td>\n",
       "      <td>...</td>\n",
       "      <td>...</td>\n",
       "      <td>...</td>\n",
       "      <td>...</td>\n",
       "      <td>...</td>\n",
       "      <td>...</td>\n",
       "      <td>...</td>\n",
       "      <td>...</td>\n",
       "      <td>...</td>\n",
       "    </tr>\n",
       "    <tr>\n",
       "      <th>12980</th>\n",
       "      <td>Army Men: Air Combat - The Elite Missions</td>\n",
       "      <td>GC</td>\n",
       "      <td>2003</td>\n",
       "      <td>Shooter</td>\n",
       "      <td>0.01</td>\n",
       "      <td>0.00</td>\n",
       "      <td>0.00</td>\n",
       "      <td>0.00</td>\n",
       "      <td>NaN</td>\n",
       "      <td>NaN</td>\n",
       "      <td>NaN</td>\n",
       "      <td>0.01</td>\n",
       "    </tr>\n",
       "    <tr>\n",
       "      <th>12981</th>\n",
       "      <td>Rally Championship</td>\n",
       "      <td>GC</td>\n",
       "      <td>2003</td>\n",
       "      <td>Racing</td>\n",
       "      <td>0.01</td>\n",
       "      <td>0.00</td>\n",
       "      <td>0.00</td>\n",
       "      <td>0.00</td>\n",
       "      <td>63.0</td>\n",
       "      <td>tbd</td>\n",
       "      <td>E</td>\n",
       "      <td>0.01</td>\n",
       "    </tr>\n",
       "    <tr>\n",
       "      <th>12982</th>\n",
       "      <td>Darkened Skye</td>\n",
       "      <td>GC</td>\n",
       "      <td>2002</td>\n",
       "      <td>Adventure</td>\n",
       "      <td>0.01</td>\n",
       "      <td>0.00</td>\n",
       "      <td>0.00</td>\n",
       "      <td>0.00</td>\n",
       "      <td>61.0</td>\n",
       "      <td>6.4</td>\n",
       "      <td>T</td>\n",
       "      <td>0.01</td>\n",
       "    </tr>\n",
       "    <tr>\n",
       "      <th>12983</th>\n",
       "      <td>Space Raiders</td>\n",
       "      <td>GC</td>\n",
       "      <td>2003</td>\n",
       "      <td>Shooter</td>\n",
       "      <td>0.01</td>\n",
       "      <td>0.00</td>\n",
       "      <td>0.00</td>\n",
       "      <td>0.00</td>\n",
       "      <td>40.0</td>\n",
       "      <td>tbd</td>\n",
       "      <td>T</td>\n",
       "      <td>0.01</td>\n",
       "    </tr>\n",
       "    <tr>\n",
       "      <th>12984</th>\n",
       "      <td>Bust-A-Move 3000</td>\n",
       "      <td>GC</td>\n",
       "      <td>2003</td>\n",
       "      <td>Puzzle</td>\n",
       "      <td>0.01</td>\n",
       "      <td>0.00</td>\n",
       "      <td>0.00</td>\n",
       "      <td>0.00</td>\n",
       "      <td>53.0</td>\n",
       "      <td>tbd</td>\n",
       "      <td>E</td>\n",
       "      <td>0.01</td>\n",
       "    </tr>\n",
       "  </tbody>\n",
       "</table>\n",
       "<p>12985 rows × 12 columns</p>\n",
       "</div>"
      ],
      "text/plain": [
       "                                            name platform  year_of_release  \\\n",
       "0                                     Wii Sports      Wii             2006   \n",
       "1                                 Mario Kart Wii      Wii             2008   \n",
       "2                              Wii Sports Resort      Wii             2009   \n",
       "3                                       Wii Play      Wii             2006   \n",
       "4                      New Super Mario Bros. Wii      Wii             2009   \n",
       "...                                          ...      ...              ...   \n",
       "12980  Army Men: Air Combat - The Elite Missions       GC             2003   \n",
       "12981                         Rally Championship       GC             2003   \n",
       "12982                              Darkened Skye       GC             2002   \n",
       "12983                              Space Raiders       GC             2003   \n",
       "12984                           Bust-A-Move 3000       GC             2003   \n",
       "\n",
       "           genre  na_sales  eu_sales  jp_sales  other_sales  critic_score  \\\n",
       "0         Sports     41.36     28.96      3.77         8.45          76.0   \n",
       "1         Racing     15.68     12.76      3.79         3.29          82.0   \n",
       "2         Sports     15.61     10.93      3.28         2.95          80.0   \n",
       "3           Misc     13.96      9.18      2.93         2.84          58.0   \n",
       "4       Platform     14.44      6.94      4.70         2.24          87.0   \n",
       "...          ...       ...       ...       ...          ...           ...   \n",
       "12980    Shooter      0.01      0.00      0.00         0.00           NaN   \n",
       "12981     Racing      0.01      0.00      0.00         0.00          63.0   \n",
       "12982  Adventure      0.01      0.00      0.00         0.00          61.0   \n",
       "12983    Shooter      0.01      0.00      0.00         0.00          40.0   \n",
       "12984     Puzzle      0.01      0.00      0.00         0.00          53.0   \n",
       "\n",
       "      user_score rating  total_sales  \n",
       "0              8      E        82.54  \n",
       "1            8.3      E        35.52  \n",
       "2              8      E        32.77  \n",
       "3            6.6      E        28.91  \n",
       "4            8.4      E        28.32  \n",
       "...          ...    ...          ...  \n",
       "12980        NaN    NaN         0.01  \n",
       "12981        tbd      E         0.01  \n",
       "12982        6.4      T         0.01  \n",
       "12983        tbd      T         0.01  \n",
       "12984        tbd      E         0.01  \n",
       "\n",
       "[12985 rows x 12 columns]"
      ]
     },
     "execution_count": 20,
     "metadata": {},
     "output_type": "execute_result"
    }
   ],
   "source": [
    "\n",
    "top_sales_by_platform=games_sales.merge(top_sales, on=\"platform\")\n",
    "top_sales_by_platform"
   ]
  },
  {
   "cell_type": "code",
   "execution_count": 21,
   "metadata": {
    "trusted": true
   },
   "outputs": [],
   "source": [
    "top_sales_by_platform=top_sales_by_platform.pivot_table(index=[\"platform\", \"year_of_release\"], values=\"total_sales\", aggfunc=\"sum\").reset_index()"
   ]
  },
  {
   "cell_type": "code",
   "execution_count": 22,
   "metadata": {
    "trusted": true
   },
   "outputs": [
    {
     "data": {
      "image/png": "[encoded data removed]",
      "text/plain": [
       "<Figure size 640x480 with 1 Axes>"
      ]
     },
     "metadata": {},
     "output_type": "display_data"
    }
   ],
   "source": [
    "x360_sales= top_sales_by_platform[top_sales_by_platform[\"platform\"]==\"X360\"]\n",
    "x360_sales.plot(\n",
    "    kind=\"bar\",\n",
    "    x=\"year_of_release\", \n",
    "    y=\"total_sales\", \n",
    "    title=\"ventas por año\",  \n",
    "    xlabel=\"año de lanzamiento\",\n",
    "    ylabel=\"cantidad\",\n",
    "    legend=False\n",
    ")\n",
    "plt.show()"
   ]
  },
  {
   "cell_type": "code",
   "execution_count": 23,
   "metadata": {
    "trusted": true
   },
   "outputs": [
    {
     "data": {
      "text/plain": [
       "<AxesSubplot:title={'center':'ventas por año'}, xlabel='año de lanzamiento', ylabel='cantidad'>"
      ]
     },
     "execution_count": 23,
     "metadata": {},
     "output_type": "execute_result"
    },
    {
     "data": {
      "image/png": "[encoded data removed]",
      "text/plain": [
       "<Figure size 640x480 with 1 Axes>"
      ]
     },
     "metadata": {},
     "output_type": "display_data"
    }
   ],
   "source": [
    "ps3_sales=top_sales_by_platform[top_sales_by_platform[\"platform\"]==\"PS3\"]\n",
    "ps3_sales.plot(\n",
    "    kind=\"bar\",\n",
    "    x=\"year_of_release\", \n",
    "    y=\"total_sales\", \n",
    "    title=\"ventas por año\",  \n",
    "    xlabel=\"año de lanzamiento\",\n",
    "    ylabel=\"cantidad\",\n",
    "    legend=False\n",
    ")"
   ]
  },
  {
   "cell_type": "code",
   "execution_count": 24,
   "metadata": {
    "scrolled": true,
    "trusted": true
   },
   "outputs": [
    {
     "data": {
      "text/plain": [
       "<AxesSubplot:title={'center':'ventas por año'}, xlabel='año de lanzamiento', ylabel='cantidad'>"
      ]
     },
     "execution_count": 24,
     "metadata": {},
     "output_type": "execute_result"
    },
    {
     "data": {
      "image/png": "[encoded data removed]",
      "text/plain": [
       "<Figure size 640x480 with 1 Axes>"
      ]
     },
     "metadata": {},
     "output_type": "display_data"
    }
   ],
   "source": [
    "ps2_sales=top_sales_by_platform[top_sales_by_platform[\"platform\"]==\"PS2\"]\n",
    "ps2_sales.plot(\n",
    "    kind=\"bar\",\n",
    "    x=\"year_of_release\", \n",
    "    y=\"total_sales\", \n",
    "    title=\"ventas por año\",  \n",
    "    xlabel=\"año de lanzamiento\",\n",
    "    ylabel=\"cantidad\",\n",
    "    legend=False\n",
    ")"
   ]
  },
  {
   "cell_type": "markdown",
   "metadata": {},
   "source": [
    "<div class=\"alert alert-block alert-warning\">\n",
    "<b>Comentario del revisor</b> <a class=\"tocSkip\"></a>\n",
    "\n",
    "Buen trabajo. Se visualizan las ventas de estas dos plataformas. Sería interesante verlas juntas tal vez en una gráfica de dos barras o en una línea.\n",
    "</div>"
   ]
  },
  {
   "cell_type": "code",
   "execution_count": 25,
   "metadata": {
    "trusted": true
   },
   "outputs": [
    {
     "data": {
      "text/plain": [
       "<AxesSubplot:title={'center':'ventas por año'}, xlabel='año de lanzamiento', ylabel='cantidad'>"
      ]
     },
     "execution_count": 25,
     "metadata": {},
     "output_type": "execute_result"
    },
    {
     "data": {
      "image/png": "[encoded data removed]",
      "text/plain": [
       "<Figure size 640x480 with 1 Axes>"
      ]
     },
     "metadata": {},
     "output_type": "display_data"
    }
   ],
   "source": [
    "pc_sales=top_sales_by_platform[top_sales_by_platform[\"platform\"]==\"PC\"]\n",
    "pc_sales.plot(\n",
    "    kind=\"bar\",\n",
    "    x=\"year_of_release\", \n",
    "    y=\"total_sales\", \n",
    "    title=\"ventas por año\",  \n",
    "    xlabel=\"año de lanzamiento\",\n",
    "    ylabel=\"cantidad\",\n",
    "    legend=False\n",
    ")"
   ]
  },
  {
   "cell_type": "code",
   "execution_count": 26,
   "metadata": {
    "trusted": true
   },
   "outputs": [
    {
     "data": {
      "text/plain": [
       "<AxesSubplot:title={'center':'ventas por año'}, xlabel='año de lanzamiento', ylabel='cantidad'>"
      ]
     },
     "execution_count": 26,
     "metadata": {},
     "output_type": "execute_result"
    },
    {
     "data": {
      "image/png": "[encoded data removed]",
      "text/plain": [
       "<Figure size 640x480 with 1 Axes>"
      ]
     },
     "metadata": {},
     "output_type": "display_data"
    }
   ],
   "source": [
    "wii_sales=top_sales_by_platform[top_sales_by_platform[\"platform\"]==\"Wii\"]\n",
    "wii_sales.plot(\n",
    "    kind=\"bar\",\n",
    "    x=\"year_of_release\", \n",
    "    y=\"total_sales\", \n",
    "    title=\"ventas por año\",  \n",
    "    xlabel=\"año de lanzamiento\",\n",
    "    ylabel=\"cantidad\",\n",
    "    legend=False\n",
    ")"
   ]
  },
  {
   "cell_type": "markdown",
   "metadata": {},
   "source": [
    "**todas estas son plataformas históricas pero que realmente estan desactualizádas, a excepción del pc que como lo muestra la gráfica ha venido en auge y a pesar que en algunos años baja en ventas, en los próximos años recupera aumentando aún más su cífra de ventas, por lo que voy a hacer un análisis alterno de la splataformas según losjuegos  cuyo lanzamiento es posterior al 2013(elegí el 2013 como referencia dado que es cuando el ps4 toma mas relevancia que el ps3)**"
   ]
  },
  {
   "cell_type": "code",
   "execution_count": 27,
   "metadata": {
    "trusted": true
   },
   "outputs": [
    {
     "data": {
      "text/html": [
       "<div>\n",
       "<style scoped>\n",
       "    .dataframe tbody tr th:only-of-type {\n",
       "        vertical-align: middle;\n",
       "    }\n",
       "\n",
       "    .dataframe tbody tr th {\n",
       "        vertical-align: top;\n",
       "    }\n",
       "\n",
       "    .dataframe thead th {\n",
       "        text-align: right;\n",
       "    }\n",
       "</style>\n",
       "<table border=\"1\" class=\"dataframe\">\n",
       "  <thead>\n",
       "    <tr style=\"text-align: right;\">\n",
       "      <th></th>\n",
       "      <th>name</th>\n",
       "      <th>platform</th>\n",
       "      <th>year_of_release</th>\n",
       "      <th>genre</th>\n",
       "      <th>na_sales</th>\n",
       "      <th>eu_sales</th>\n",
       "      <th>jp_sales</th>\n",
       "      <th>other_sales</th>\n",
       "      <th>critic_score</th>\n",
       "      <th>user_score</th>\n",
       "      <th>rating</th>\n",
       "      <th>total_sales</th>\n",
       "    </tr>\n",
       "  </thead>\n",
       "  <tbody>\n",
       "    <tr>\n",
       "      <th>18</th>\n",
       "      <td>Grand Theft Auto V</td>\n",
       "      <td>PS3</td>\n",
       "      <td>2013</td>\n",
       "      <td>Action</td>\n",
       "      <td>7.02</td>\n",
       "      <td>9.09</td>\n",
       "      <td>0.98</td>\n",
       "      <td>3.96</td>\n",
       "      <td>97.0</td>\n",
       "      <td>8.2</td>\n",
       "      <td>M</td>\n",
       "      <td>56.58</td>\n",
       "    </tr>\n",
       "    <tr>\n",
       "      <th>19</th>\n",
       "      <td>Grand Theft Auto V</td>\n",
       "      <td>X360</td>\n",
       "      <td>2013</td>\n",
       "      <td>Action</td>\n",
       "      <td>9.66</td>\n",
       "      <td>5.14</td>\n",
       "      <td>0.06</td>\n",
       "      <td>1.41</td>\n",
       "      <td>97.0</td>\n",
       "      <td>8.1</td>\n",
       "      <td>M</td>\n",
       "      <td>56.58</td>\n",
       "    </tr>\n",
       "    <tr>\n",
       "      <th>20</th>\n",
       "      <td>Grand Theft Auto V</td>\n",
       "      <td>PS4</td>\n",
       "      <td>2014</td>\n",
       "      <td>Action</td>\n",
       "      <td>3.96</td>\n",
       "      <td>6.31</td>\n",
       "      <td>0.38</td>\n",
       "      <td>1.97</td>\n",
       "      <td>97.0</td>\n",
       "      <td>8.3</td>\n",
       "      <td>M</td>\n",
       "      <td>56.58</td>\n",
       "    </tr>\n",
       "    <tr>\n",
       "      <th>21</th>\n",
       "      <td>Grand Theft Auto V</td>\n",
       "      <td>XOne</td>\n",
       "      <td>2014</td>\n",
       "      <td>Action</td>\n",
       "      <td>2.81</td>\n",
       "      <td>2.19</td>\n",
       "      <td>0.00</td>\n",
       "      <td>0.47</td>\n",
       "      <td>97.0</td>\n",
       "      <td>7.9</td>\n",
       "      <td>M</td>\n",
       "      <td>56.58</td>\n",
       "    </tr>\n",
       "    <tr>\n",
       "      <th>22</th>\n",
       "      <td>Grand Theft Auto V</td>\n",
       "      <td>PC</td>\n",
       "      <td>2015</td>\n",
       "      <td>Action</td>\n",
       "      <td>0.39</td>\n",
       "      <td>0.69</td>\n",
       "      <td>0.00</td>\n",
       "      <td>0.09</td>\n",
       "      <td>96.0</td>\n",
       "      <td>7.9</td>\n",
       "      <td>M</td>\n",
       "      <td>56.58</td>\n",
       "    </tr>\n",
       "    <tr>\n",
       "      <th>...</th>\n",
       "      <td>...</td>\n",
       "      <td>...</td>\n",
       "      <td>...</td>\n",
       "      <td>...</td>\n",
       "      <td>...</td>\n",
       "      <td>...</td>\n",
       "      <td>...</td>\n",
       "      <td>...</td>\n",
       "      <td>...</td>\n",
       "      <td>...</td>\n",
       "      <td>...</td>\n",
       "      <td>...</td>\n",
       "    </tr>\n",
       "    <tr>\n",
       "      <th>16690</th>\n",
       "      <td>7'scarlet</td>\n",
       "      <td>PSV</td>\n",
       "      <td>2016</td>\n",
       "      <td>Adventure</td>\n",
       "      <td>0.00</td>\n",
       "      <td>0.00</td>\n",
       "      <td>0.01</td>\n",
       "      <td>0.00</td>\n",
       "      <td>NaN</td>\n",
       "      <td>NaN</td>\n",
       "      <td>NaN</td>\n",
       "      <td>0.01</td>\n",
       "    </tr>\n",
       "    <tr>\n",
       "      <th>16702</th>\n",
       "      <td>The Longest 5 Minutes</td>\n",
       "      <td>PSV</td>\n",
       "      <td>2016</td>\n",
       "      <td>Action</td>\n",
       "      <td>0.00</td>\n",
       "      <td>0.00</td>\n",
       "      <td>0.01</td>\n",
       "      <td>0.00</td>\n",
       "      <td>NaN</td>\n",
       "      <td>NaN</td>\n",
       "      <td>NaN</td>\n",
       "      <td>0.01</td>\n",
       "    </tr>\n",
       "    <tr>\n",
       "      <th>16706</th>\n",
       "      <td>Strawberry Nauts</td>\n",
       "      <td>PSV</td>\n",
       "      <td>2016</td>\n",
       "      <td>Adventure</td>\n",
       "      <td>0.00</td>\n",
       "      <td>0.00</td>\n",
       "      <td>0.01</td>\n",
       "      <td>0.00</td>\n",
       "      <td>NaN</td>\n",
       "      <td>NaN</td>\n",
       "      <td>NaN</td>\n",
       "      <td>0.01</td>\n",
       "    </tr>\n",
       "    <tr>\n",
       "      <th>16709</th>\n",
       "      <td>Aiyoku no Eustia</td>\n",
       "      <td>PSV</td>\n",
       "      <td>2014</td>\n",
       "      <td>Misc</td>\n",
       "      <td>0.00</td>\n",
       "      <td>0.00</td>\n",
       "      <td>0.01</td>\n",
       "      <td>0.00</td>\n",
       "      <td>NaN</td>\n",
       "      <td>NaN</td>\n",
       "      <td>NaN</td>\n",
       "      <td>0.01</td>\n",
       "    </tr>\n",
       "    <tr>\n",
       "      <th>16712</th>\n",
       "      <td>Haitaka no Psychedelica</td>\n",
       "      <td>PSV</td>\n",
       "      <td>2016</td>\n",
       "      <td>Adventure</td>\n",
       "      <td>0.00</td>\n",
       "      <td>0.00</td>\n",
       "      <td>0.01</td>\n",
       "      <td>0.00</td>\n",
       "      <td>NaN</td>\n",
       "      <td>NaN</td>\n",
       "      <td>NaN</td>\n",
       "      <td>0.01</td>\n",
       "    </tr>\n",
       "  </tbody>\n",
       "</table>\n",
       "<p>2233 rows × 12 columns</p>\n",
       "</div>"
      ],
      "text/plain": [
       "                          name platform  year_of_release      genre  na_sales  \\\n",
       "18          Grand Theft Auto V      PS3             2013     Action      7.02   \n",
       "19          Grand Theft Auto V     X360             2013     Action      9.66   \n",
       "20          Grand Theft Auto V      PS4             2014     Action      3.96   \n",
       "21          Grand Theft Auto V     XOne             2014     Action      2.81   \n",
       "22          Grand Theft Auto V       PC             2015     Action      0.39   \n",
       "...                        ...      ...              ...        ...       ...   \n",
       "16690                7'scarlet      PSV             2016  Adventure      0.00   \n",
       "16702    The Longest 5 Minutes      PSV             2016     Action      0.00   \n",
       "16706         Strawberry Nauts      PSV             2016  Adventure      0.00   \n",
       "16709         Aiyoku no Eustia      PSV             2014       Misc      0.00   \n",
       "16712  Haitaka no Psychedelica      PSV             2016  Adventure      0.00   \n",
       "\n",
       "       eu_sales  jp_sales  other_sales  critic_score user_score rating  \\\n",
       "18         9.09      0.98         3.96          97.0        8.2      M   \n",
       "19         5.14      0.06         1.41          97.0        8.1      M   \n",
       "20         6.31      0.38         1.97          97.0        8.3      M   \n",
       "21         2.19      0.00         0.47          97.0        7.9      M   \n",
       "22         0.69      0.00         0.09          96.0        7.9      M   \n",
       "...         ...       ...          ...           ...        ...    ...   \n",
       "16690      0.00      0.01         0.00           NaN        NaN    NaN   \n",
       "16702      0.00      0.01         0.00           NaN        NaN    NaN   \n",
       "16706      0.00      0.01         0.00           NaN        NaN    NaN   \n",
       "16709      0.00      0.01         0.00           NaN        NaN    NaN   \n",
       "16712      0.00      0.01         0.00           NaN        NaN    NaN   \n",
       "\n",
       "       total_sales  \n",
       "18           56.58  \n",
       "19           56.58  \n",
       "20           56.58  \n",
       "21           56.58  \n",
       "22           56.58  \n",
       "...            ...  \n",
       "16690         0.01  \n",
       "16702         0.01  \n",
       "16706         0.01  \n",
       "16709         0.01  \n",
       "16712         0.01  \n",
       "\n",
       "[2233 rows x 12 columns]"
      ]
     },
     "execution_count": 27,
     "metadata": {},
     "output_type": "execute_result"
    }
   ],
   "source": [
    "resent_games=games_sales[games_sales[\"year_of_release\"]>=2013]\n",
    "resent_games"
   ]
  },
  {
   "cell_type": "code",
   "execution_count": 28,
   "metadata": {
    "trusted": true
   },
   "outputs": [
    {
     "data": {
      "text/html": [
       "<div>\n",
       "<style scoped>\n",
       "    .dataframe tbody tr th:only-of-type {\n",
       "        vertical-align: middle;\n",
       "    }\n",
       "\n",
       "    .dataframe tbody tr th {\n",
       "        vertical-align: top;\n",
       "    }\n",
       "\n",
       "    .dataframe thead th {\n",
       "        text-align: right;\n",
       "    }\n",
       "</style>\n",
       "<table border=\"1\" class=\"dataframe\">\n",
       "  <thead>\n",
       "    <tr style=\"text-align: right;\">\n",
       "      <th></th>\n",
       "      <th>platform</th>\n",
       "      <th>total_sales</th>\n",
       "    </tr>\n",
       "  </thead>\n",
       "  <tbody>\n",
       "    <tr>\n",
       "      <th>0</th>\n",
       "      <td>PS4</td>\n",
       "      <td>802.15</td>\n",
       "    </tr>\n",
       "    <tr>\n",
       "      <th>1</th>\n",
       "      <td>XOne</td>\n",
       "      <td>741.93</td>\n",
       "    </tr>\n",
       "    <tr>\n",
       "      <th>2</th>\n",
       "      <td>PS3</td>\n",
       "      <td>662.07</td>\n",
       "    </tr>\n",
       "    <tr>\n",
       "      <th>3</th>\n",
       "      <td>X360</td>\n",
       "      <td>597.48</td>\n",
       "    </tr>\n",
       "    <tr>\n",
       "      <th>4</th>\n",
       "      <td>PC</td>\n",
       "      <td>527.98</td>\n",
       "    </tr>\n",
       "  </tbody>\n",
       "</table>\n",
       "</div>"
      ],
      "text/plain": [
       "  platform  total_sales\n",
       "0      PS4       802.15\n",
       "1     XOne       741.93\n",
       "2      PS3       662.07\n",
       "3     X360       597.48\n",
       "4       PC       527.98"
      ]
     },
     "execution_count": 28,
     "metadata": {},
     "output_type": "execute_result"
    }
   ],
   "source": [
    "\n",
    "resent_games.pivot_table(index=\"platform\", values=\"total_sales\", aggfunc=\"sum\" ).sort_values(by=\"total_sales\", ascending=False).reset_index().head()"
   ]
  },
  {
   "cell_type": "code",
   "execution_count": 29,
   "metadata": {
    "trusted": true
   },
   "outputs": [],
   "source": [
    "resent_games=resent_games.pivot_table(index=[\"platform\", \"year_of_release\"], values=\"total_sales\", aggfunc=\"sum\").reset_index()\n"
   ]
  },
  {
   "cell_type": "code",
   "execution_count": 30,
   "metadata": {
    "trusted": true
   },
   "outputs": [
    {
     "data": {
      "image/png": "[encoded data removed]",
      "text/plain": [
       "<Figure size 640x480 with 1 Axes>"
      ]
     },
     "metadata": {},
     "output_type": "display_data"
    }
   ],
   "source": [
    "ps4_sales=resent_games[resent_games [\"platform\"]==\"PS4\"]\n",
    "ps4_sales.plot(\n",
    "    kind=\"bar\",\n",
    "    x=\"year_of_release\", \n",
    "    y=\"total_sales\", \n",
    "    title=\"ventas por año\",  \n",
    "    xlabel=\"año de lanzamiento\",\n",
    "    ylabel=\"cantidad\",\n",
    "    legend=False\n",
    ")\n",
    "plt.show()"
   ]
  },
  {
   "cell_type": "code",
   "execution_count": 31,
   "metadata": {
    "trusted": true
   },
   "outputs": [
    {
     "data": {
      "image/png": "[encoded data removed]",
      "text/plain": [
       "<Figure size 640x480 with 1 Axes>"
      ]
     },
     "metadata": {},
     "output_type": "display_data"
    }
   ],
   "source": [
    "x_one_sales=resent_games[resent_games [\"platform\"]==\"XOne\"]\n",
    "ps4_sales.plot(\n",
    "    kind=\"bar\",\n",
    "    x=\"year_of_release\", \n",
    "    y=\"total_sales\", \n",
    "    title=\"ventas por año\",  \n",
    "    xlabel=\"año de lanzamiento\",\n",
    "    ylabel=\"cantidad\",\n",
    "    legend=False\n",
    ")\n",
    "plt.show()"
   ]
  },
  {
   "cell_type": "code",
   "execution_count": 32,
   "metadata": {
    "trusted": true
   },
   "outputs": [
    {
     "data": {
      "image/png": "[encoded data removed]",
      "text/plain": [
       "<Figure size 640x480 with 1 Axes>"
      ]
     },
     "metadata": {},
     "output_type": "display_data"
    }
   ],
   "source": [
    "ps3_sales=resent_games[resent_games [\"platform\"]==\"PS3\"]\n",
    "ps3_sales.plot(\n",
    "    kind=\"bar\",\n",
    "    x=\"year_of_release\", \n",
    "    y=\"total_sales\", \n",
    "    title=\"ventas por año\",  \n",
    "    xlabel=\"año de lanzamiento\",\n",
    "    ylabel=\"cantidad\",\n",
    "    legend=False\n",
    ")\n",
    "plt.show()"
   ]
  },
  {
   "cell_type": "code",
   "execution_count": 33,
   "metadata": {
    "trusted": true
   },
   "outputs": [
    {
     "data": {
      "image/png": "[encoded data removed]",
      "text/plain": [
       "<Figure size 640x480 with 1 Axes>"
      ]
     },
     "metadata": {},
     "output_type": "display_data"
    }
   ],
   "source": [
    "x360_sales=resent_games[resent_games [\"platform\"]==\"X360\"]\n",
    "x360_sales.plot(\n",
    "    kind=\"bar\",\n",
    "    x=\"year_of_release\", \n",
    "    y=\"total_sales\", \n",
    "    title=\"ventas por año\",  \n",
    "    xlabel=\"año de lanzamiento\",\n",
    "    ylabel=\"cantidad\",\n",
    "    legend=False\n",
    ")\n",
    "plt.show()"
   ]
  },
  {
   "cell_type": "code",
   "execution_count": 34,
   "metadata": {
    "trusted": true
   },
   "outputs": [
    {
     "data": {
      "image/png": "[encoded data removed]",
      "text/plain": [
       "<Figure size 640x480 with 1 Axes>"
      ]
     },
     "metadata": {},
     "output_type": "display_data"
    }
   ],
   "source": [
    "pc_sales=resent_games[resent_games [\"platform\"]==\"PC\"]\n",
    "pc_sales.plot(\n",
    "    kind=\"bar\",\n",
    "    x=\"year_of_release\", \n",
    "    y=\"total_sales\", \n",
    "    title=\"ventas por año\",  \n",
    "    xlabel=\"año de lanzamiento\",\n",
    "    ylabel=\"cantidad\",\n",
    "    legend=False\n",
    ")\n",
    "plt.show()"
   ]
  },
  {
   "cell_type": "code",
   "execution_count": 35,
   "metadata": {
    "trusted": true
   },
   "outputs": [
    {
     "data": {
      "image/png": "[encoded data removed]",
      "text/plain": [
       "<Figure size 640x480 with 1 Axes>"
      ]
     },
     "metadata": {},
     "output_type": "display_data"
    }
   ],
   "source": [
    "psv_sales=resent_games[resent_games [\"platform\"]==\"PSV\"]\n",
    "psv_sales.plot(\n",
    "    kind=\"bar\",\n",
    "    x=\"year_of_release\", \n",
    "    y=\"total_sales\", \n",
    "    title=\"ventas por año\",  \n",
    "    xlabel=\"año de lanzamiento\",\n",
    "    ylabel=\"cantidad\",\n",
    "    legend=False\n",
    ")\n",
    "plt.show()"
   ]
  },
  {
   "cell_type": "markdown",
   "metadata": {},
   "source": [
    "**En este análisis inicial, podemos notar que pataformas como xbox360 o ps3 tienen una caida en la vebta de sus juegos, dado que ya existen nuevas vesiones de la plataforma atualizadas, adenás vemos que el pc continúa una linea de crecimiento aunque en el 2016 la totalidad de las plataformas hasta ahora analizadas se ven afectadas, por lo que voy a dirigir mi análisis hacia descubrir si existe alguna plataforma beneficiada  o si es un comportamiento general en el mercado de los videojuegos.**"
   ]
  },
  {
   "cell_type": "markdown",
   "metadata": {},
   "source": [
    "<div class=\"alert alert-block alert-warning\">\n",
    "<b>Comentario del revisor</b> <a class=\"tocSkip\"></a>\n",
    "\n",
    "Buen análisis de las ventas por plataformas. Para poder compararlas mejor sería ideal realizar una única gráfica que contenga las principales plataformas y poderlas comparar. Te dejo un enlace con ejemplos a gráficas de línea con múltiples líneas. https://www.geeksforgeeks.org/plot-multiple-lines-in-matplotlib/\n",
    "</div>"
   ]
  },
  {
   "cell_type": "code",
   "execution_count": 36,
   "metadata": {
    "trusted": true
   },
   "outputs": [
    {
     "data": {
      "text/plain": [
       "<AxesSubplot:xlabel='year_of_release'>"
      ]
     },
     "execution_count": 36,
     "metadata": {},
     "output_type": "execute_result"
    },
    {
     "data": {
      "image/png": "[encoded data removed]",
      "text/plain": [
       "<Figure size 640x480 with 1 Axes>"
      ]
     },
     "metadata": {},
     "output_type": "display_data"
    }
   ],
   "source": [
    "games_sales.pivot_table(index=\"year_of_release\", values=\"total_sales\", aggfunc=\"sum\").reset_index().plot(kind=\"bar\", x=\"year_of_release\", y=\"total_sales\")"
   ]
  },
  {
   "cell_type": "markdown",
   "metadata": {},
   "source": [
    "con esta gráfica podemos observar que el mercado de los videojuegos se está viendo afectado y va en decaida desde el 2014, seria bueno saber qué estrategias utilizaron en el 2013 y en el 2007 para subir las ventas; tambien voy a profundizar en saber si alguna plataforma tuvo alza en las ventas en el 2016 "
   ]
  },
  {
   "cell_type": "code",
   "execution_count": 37,
   "metadata": {
    "trusted": true
   },
   "outputs": [
    {
     "data": {
      "text/html": [
       "<div>\n",
       "<style scoped>\n",
       "    .dataframe tbody tr th:only-of-type {\n",
       "        vertical-align: middle;\n",
       "    }\n",
       "\n",
       "    .dataframe tbody tr th {\n",
       "        vertical-align: top;\n",
       "    }\n",
       "\n",
       "    .dataframe thead th {\n",
       "        text-align: right;\n",
       "    }\n",
       "</style>\n",
       "<table border=\"1\" class=\"dataframe\">\n",
       "  <thead>\n",
       "    <tr style=\"text-align: right;\">\n",
       "      <th></th>\n",
       "      <th></th>\n",
       "      <th>total_sales</th>\n",
       "    </tr>\n",
       "    <tr>\n",
       "      <th>platform</th>\n",
       "      <th>year_of_release</th>\n",
       "      <th></th>\n",
       "    </tr>\n",
       "  </thead>\n",
       "  <tbody>\n",
       "    <tr>\n",
       "      <th rowspan=\"4\" valign=\"top\">3DS</th>\n",
       "      <th>2013</th>\n",
       "      <td>112.29</td>\n",
       "    </tr>\n",
       "    <tr>\n",
       "      <th>2014</th>\n",
       "      <td>86.20</td>\n",
       "    </tr>\n",
       "    <tr>\n",
       "      <th>2015</th>\n",
       "      <td>41.70</td>\n",
       "    </tr>\n",
       "    <tr>\n",
       "      <th>2016</th>\n",
       "      <td>21.88</td>\n",
       "    </tr>\n",
       "    <tr>\n",
       "      <th>DS</th>\n",
       "      <th>2013</th>\n",
       "      <td>12.66</td>\n",
       "    </tr>\n",
       "    <tr>\n",
       "      <th rowspan=\"4\" valign=\"top\">PC</th>\n",
       "      <th>2013</th>\n",
       "      <td>127.03</td>\n",
       "    </tr>\n",
       "    <tr>\n",
       "      <th>2014</th>\n",
       "      <td>138.46</td>\n",
       "    </tr>\n",
       "    <tr>\n",
       "      <th>2015</th>\n",
       "      <td>191.83</td>\n",
       "    </tr>\n",
       "    <tr>\n",
       "      <th>2016</th>\n",
       "      <td>70.66</td>\n",
       "    </tr>\n",
       "    <tr>\n",
       "      <th rowspan=\"4\" valign=\"top\">PS3</th>\n",
       "      <th>2013</th>\n",
       "      <td>306.63</td>\n",
       "    </tr>\n",
       "    <tr>\n",
       "      <th>2014</th>\n",
       "      <td>209.13</td>\n",
       "    </tr>\n",
       "    <tr>\n",
       "      <th>2015</th>\n",
       "      <td>113.91</td>\n",
       "    </tr>\n",
       "    <tr>\n",
       "      <th>2016</th>\n",
       "      <td>32.40</td>\n",
       "    </tr>\n",
       "    <tr>\n",
       "      <th rowspan=\"4\" valign=\"top\">PS4</th>\n",
       "      <th>2013</th>\n",
       "      <td>121.01</td>\n",
       "    </tr>\n",
       "    <tr>\n",
       "      <th>2014</th>\n",
       "      <td>305.40</td>\n",
       "    </tr>\n",
       "    <tr>\n",
       "      <th>2015</th>\n",
       "      <td>235.05</td>\n",
       "    </tr>\n",
       "    <tr>\n",
       "      <th>2016</th>\n",
       "      <td>140.69</td>\n",
       "    </tr>\n",
       "    <tr>\n",
       "      <th rowspan=\"3\" valign=\"top\">PSP</th>\n",
       "      <th>2013</th>\n",
       "      <td>22.48</td>\n",
       "    </tr>\n",
       "    <tr>\n",
       "      <th>2014</th>\n",
       "      <td>0.85</td>\n",
       "    </tr>\n",
       "    <tr>\n",
       "      <th>2015</th>\n",
       "      <td>0.15</td>\n",
       "    </tr>\n",
       "    <tr>\n",
       "      <th rowspan=\"4\" valign=\"top\">PSV</th>\n",
       "      <th>2013</th>\n",
       "      <td>63.67</td>\n",
       "    </tr>\n",
       "    <tr>\n",
       "      <th>2014</th>\n",
       "      <td>84.66</td>\n",
       "    </tr>\n",
       "    <tr>\n",
       "      <th>2015</th>\n",
       "      <td>21.90</td>\n",
       "    </tr>\n",
       "    <tr>\n",
       "      <th>2016</th>\n",
       "      <td>12.04</td>\n",
       "    </tr>\n",
       "    <tr>\n",
       "      <th rowspan=\"4\" valign=\"top\">Wii</th>\n",
       "      <th>2013</th>\n",
       "      <td>37.67</td>\n",
       "    </tr>\n",
       "    <tr>\n",
       "      <th>2014</th>\n",
       "      <td>27.24</td>\n",
       "    </tr>\n",
       "    <tr>\n",
       "      <th>2015</th>\n",
       "      <td>4.96</td>\n",
       "    </tr>\n",
       "    <tr>\n",
       "      <th>2016</th>\n",
       "      <td>0.43</td>\n",
       "    </tr>\n",
       "    <tr>\n",
       "      <th rowspan=\"4\" valign=\"top\">WiiU</th>\n",
       "      <th>2013</th>\n",
       "      <td>139.75</td>\n",
       "    </tr>\n",
       "    <tr>\n",
       "      <th>2014</th>\n",
       "      <td>64.59</td>\n",
       "    </tr>\n",
       "    <tr>\n",
       "      <th>2015</th>\n",
       "      <td>31.41</td>\n",
       "    </tr>\n",
       "    <tr>\n",
       "      <th>2016</th>\n",
       "      <td>34.54</td>\n",
       "    </tr>\n",
       "    <tr>\n",
       "      <th rowspan=\"4\" valign=\"top\">X360</th>\n",
       "      <th>2013</th>\n",
       "      <td>287.02</td>\n",
       "    </tr>\n",
       "    <tr>\n",
       "      <th>2014</th>\n",
       "      <td>178.77</td>\n",
       "    </tr>\n",
       "    <tr>\n",
       "      <th>2015</th>\n",
       "      <td>106.50</td>\n",
       "    </tr>\n",
       "    <tr>\n",
       "      <th>2016</th>\n",
       "      <td>25.19</td>\n",
       "    </tr>\n",
       "    <tr>\n",
       "      <th rowspan=\"4\" valign=\"top\">XOne</th>\n",
       "      <th>2013</th>\n",
       "      <td>118.96</td>\n",
       "    </tr>\n",
       "    <tr>\n",
       "      <th>2014</th>\n",
       "      <td>291.07</td>\n",
       "    </tr>\n",
       "    <tr>\n",
       "      <th>2015</th>\n",
       "      <td>214.44</td>\n",
       "    </tr>\n",
       "    <tr>\n",
       "      <th>2016</th>\n",
       "      <td>117.46</td>\n",
       "    </tr>\n",
       "  </tbody>\n",
       "</table>\n",
       "</div>"
      ],
      "text/plain": [
       "                          total_sales\n",
       "platform year_of_release             \n",
       "3DS      2013                  112.29\n",
       "         2014                   86.20\n",
       "         2015                   41.70\n",
       "         2016                   21.88\n",
       "DS       2013                   12.66\n",
       "PC       2013                  127.03\n",
       "         2014                  138.46\n",
       "         2015                  191.83\n",
       "         2016                   70.66\n",
       "PS3      2013                  306.63\n",
       "         2014                  209.13\n",
       "         2015                  113.91\n",
       "         2016                   32.40\n",
       "PS4      2013                  121.01\n",
       "         2014                  305.40\n",
       "         2015                  235.05\n",
       "         2016                  140.69\n",
       "PSP      2013                   22.48\n",
       "         2014                    0.85\n",
       "         2015                    0.15\n",
       "PSV      2013                   63.67\n",
       "         2014                   84.66\n",
       "         2015                   21.90\n",
       "         2016                   12.04\n",
       "Wii      2013                   37.67\n",
       "         2014                   27.24\n",
       "         2015                    4.96\n",
       "         2016                    0.43\n",
       "WiiU     2013                  139.75\n",
       "         2014                   64.59\n",
       "         2015                   31.41\n",
       "         2016                   34.54\n",
       "X360     2013                  287.02\n",
       "         2014                  178.77\n",
       "         2015                  106.50\n",
       "         2016                   25.19\n",
       "XOne     2013                  118.96\n",
       "         2014                  291.07\n",
       "         2015                  214.44\n",
       "         2016                  117.46"
      ]
     },
     "execution_count": 37,
     "metadata": {},
     "output_type": "execute_result"
    }
   ],
   "source": [
    "resent_games.pivot_table(index=[\"platform\",\"year_of_release\"], values=\"total_sales\", aggfunc=\"sum\")#.sort_values(by=\"year_of_release\")"
   ]
  },
  {
   "cell_type": "markdown",
   "metadata": {},
   "source": [
    "con la tabla nos podemos dar cuenta que la unica plataforma que aumento en su venta de juegos fue wiiu, lo que es interesante dado su largo tiempo en el mercado.\n",
    "además,  la XOne es la que mayor número de ventas tiene actualmente (2016)\n",
    "**podemos concluir a partir de las gráficas que las plataformas las cuales fueron renovadas por otro modelo, tienden a bajar sus ventas en juegos**"
   ]
  },
  {
   "cell_type": "markdown",
   "metadata": {},
   "source": [
    "**para el análisis de las plataformas voy a tomar dátos de las plataformas actuales dado que son las que se encuentran en tendencia de ventas(superiores al 2013)**"
   ]
  },
  {
   "cell_type": "markdown",
   "metadata": {},
   "source": [
    "<div class=\"alert alert-block alert-success\">\n",
    "<b>Comentario del revisor</b> <a class=\"tocSkip\"></a>\n",
    "\n",
    "Buen trabajo. Esta información es correcta.\n",
    "</div>"
   ]
  },
  {
   "cell_type": "markdown",
   "metadata": {},
   "source": [
    "#### rentabilidad según plataforma en los ultimos años"
   ]
  },
  {
   "cell_type": "code",
   "execution_count": 38,
   "metadata": {
    "trusted": true
   },
   "outputs": [
    {
     "data": {
      "text/html": [
       "<div>\n",
       "<style scoped>\n",
       "    .dataframe tbody tr th:only-of-type {\n",
       "        vertical-align: middle;\n",
       "    }\n",
       "\n",
       "    .dataframe tbody tr th {\n",
       "        vertical-align: top;\n",
       "    }\n",
       "\n",
       "    .dataframe thead th {\n",
       "        text-align: right;\n",
       "    }\n",
       "</style>\n",
       "<table border=\"1\" class=\"dataframe\">\n",
       "  <thead>\n",
       "    <tr style=\"text-align: right;\">\n",
       "      <th></th>\n",
       "      <th>platform</th>\n",
       "      <th>total_sales</th>\n",
       "    </tr>\n",
       "  </thead>\n",
       "  <tbody>\n",
       "    <tr>\n",
       "      <th>0</th>\n",
       "      <td>3DS</td>\n",
       "      <td>262.07</td>\n",
       "    </tr>\n",
       "    <tr>\n",
       "      <th>1</th>\n",
       "      <td>DS</td>\n",
       "      <td>12.66</td>\n",
       "    </tr>\n",
       "    <tr>\n",
       "      <th>2</th>\n",
       "      <td>PC</td>\n",
       "      <td>527.98</td>\n",
       "    </tr>\n",
       "    <tr>\n",
       "      <th>3</th>\n",
       "      <td>PS3</td>\n",
       "      <td>662.07</td>\n",
       "    </tr>\n",
       "    <tr>\n",
       "      <th>4</th>\n",
       "      <td>PS4</td>\n",
       "      <td>802.15</td>\n",
       "    </tr>\n",
       "    <tr>\n",
       "      <th>5</th>\n",
       "      <td>PSP</td>\n",
       "      <td>23.48</td>\n",
       "    </tr>\n",
       "    <tr>\n",
       "      <th>6</th>\n",
       "      <td>PSV</td>\n",
       "      <td>182.27</td>\n",
       "    </tr>\n",
       "    <tr>\n",
       "      <th>7</th>\n",
       "      <td>Wii</td>\n",
       "      <td>70.30</td>\n",
       "    </tr>\n",
       "    <tr>\n",
       "      <th>8</th>\n",
       "      <td>WiiU</td>\n",
       "      <td>270.29</td>\n",
       "    </tr>\n",
       "    <tr>\n",
       "      <th>9</th>\n",
       "      <td>X360</td>\n",
       "      <td>597.48</td>\n",
       "    </tr>\n",
       "    <tr>\n",
       "      <th>10</th>\n",
       "      <td>XOne</td>\n",
       "      <td>741.93</td>\n",
       "    </tr>\n",
       "  </tbody>\n",
       "</table>\n",
       "</div>"
      ],
      "text/plain": [
       "   platform  total_sales\n",
       "0       3DS       262.07\n",
       "1        DS        12.66\n",
       "2        PC       527.98\n",
       "3       PS3       662.07\n",
       "4       PS4       802.15\n",
       "5       PSP        23.48\n",
       "6       PSV       182.27\n",
       "7       Wii        70.30\n",
       "8      WiiU       270.29\n",
       "9      X360       597.48\n",
       "10     XOne       741.93"
      ]
     },
     "execution_count": 38,
     "metadata": {},
     "output_type": "execute_result"
    },
    {
     "data": {
      "image/png": "[encoded data removed]",
      "text/plain": [
       "<Figure size 640x480 with 1 Axes>"
      ]
     },
     "metadata": {},
     "output_type": "display_data"
    }
   ],
   "source": [
    "resent_games_general=resent_games.pivot_table(index=\"platform\", values=\"total_sales\", aggfunc=\"sum\")\n",
    "resent_games_general.reset_index().plot(kind=\"bar\", x=\"platform\", y=\"total_sales\")\n",
    "resent_games_general.reset_index()"
   ]
  },
  {
   "cell_type": "markdown",
   "metadata": {},
   "source": [
    "#### Rentabilidad en el ultimo año "
   ]
  },
  {
   "cell_type": "code",
   "execution_count": 39,
   "metadata": {
    "trusted": true
   },
   "outputs": [
    {
     "data": {
      "text/html": [
       "<div>\n",
       "<style scoped>\n",
       "    .dataframe tbody tr th:only-of-type {\n",
       "        vertical-align: middle;\n",
       "    }\n",
       "\n",
       "    .dataframe tbody tr th {\n",
       "        vertical-align: top;\n",
       "    }\n",
       "\n",
       "    .dataframe thead th {\n",
       "        text-align: right;\n",
       "    }\n",
       "</style>\n",
       "<table border=\"1\" class=\"dataframe\">\n",
       "  <thead>\n",
       "    <tr style=\"text-align: right;\">\n",
       "      <th></th>\n",
       "      <th>platform</th>\n",
       "      <th>total_sales</th>\n",
       "    </tr>\n",
       "  </thead>\n",
       "  <tbody>\n",
       "    <tr>\n",
       "      <th>3</th>\n",
       "      <td>PS4</td>\n",
       "      <td>140.69</td>\n",
       "    </tr>\n",
       "    <tr>\n",
       "      <th>8</th>\n",
       "      <td>XOne</td>\n",
       "      <td>117.46</td>\n",
       "    </tr>\n",
       "    <tr>\n",
       "      <th>1</th>\n",
       "      <td>PC</td>\n",
       "      <td>70.66</td>\n",
       "    </tr>\n",
       "    <tr>\n",
       "      <th>6</th>\n",
       "      <td>WiiU</td>\n",
       "      <td>34.54</td>\n",
       "    </tr>\n",
       "    <tr>\n",
       "      <th>2</th>\n",
       "      <td>PS3</td>\n",
       "      <td>32.40</td>\n",
       "    </tr>\n",
       "    <tr>\n",
       "      <th>7</th>\n",
       "      <td>X360</td>\n",
       "      <td>25.19</td>\n",
       "    </tr>\n",
       "    <tr>\n",
       "      <th>0</th>\n",
       "      <td>3DS</td>\n",
       "      <td>21.88</td>\n",
       "    </tr>\n",
       "    <tr>\n",
       "      <th>4</th>\n",
       "      <td>PSV</td>\n",
       "      <td>12.04</td>\n",
       "    </tr>\n",
       "    <tr>\n",
       "      <th>5</th>\n",
       "      <td>Wii</td>\n",
       "      <td>0.43</td>\n",
       "    </tr>\n",
       "  </tbody>\n",
       "</table>\n",
       "</div>"
      ],
      "text/plain": [
       "  platform  total_sales\n",
       "3      PS4       140.69\n",
       "8     XOne       117.46\n",
       "1       PC        70.66\n",
       "6     WiiU        34.54\n",
       "2      PS3        32.40\n",
       "7     X360        25.19\n",
       "0      3DS        21.88\n",
       "4      PSV        12.04\n",
       "5      Wii         0.43"
      ]
     },
     "execution_count": 39,
     "metadata": {},
     "output_type": "execute_result"
    },
    {
     "data": {
      "image/png": "[encoded data removed]",
      "text/plain": [
       "<Figure size 640x480 with 1 Axes>"
      ]
     },
     "metadata": {},
     "output_type": "display_data"
    }
   ],
   "source": [
    "resent_games_2016=resent_games[resent_games[\"year_of_release\"]==2016]\n",
    "resent_games_2016=resent_games_2016.pivot_table(index=\"platform\", values=\"total_sales\", aggfunc=\"sum\")\n",
    "resent_games_2016.reset_index().plot(kind=\"bar\", x=\"platform\", y=\"total_sales\")\n",
    "resent_games_2016.reset_index().sort_values(by=\"total_sales\",ascending=False)"
   ]
  },
  {
   "cell_type": "code",
   "execution_count": 40,
   "metadata": {
    "trusted": true
   },
   "outputs": [
    {
     "data": {
      "text/html": [
       "<div>\n",
       "<style scoped>\n",
       "    .dataframe tbody tr th:only-of-type {\n",
       "        vertical-align: middle;\n",
       "    }\n",
       "\n",
       "    .dataframe tbody tr th {\n",
       "        vertical-align: top;\n",
       "    }\n",
       "\n",
       "    .dataframe thead th {\n",
       "        text-align: right;\n",
       "    }\n",
       "</style>\n",
       "<table border=\"1\" class=\"dataframe\">\n",
       "  <thead>\n",
       "    <tr style=\"text-align: right;\">\n",
       "      <th></th>\n",
       "      <th>total_sales</th>\n",
       "    </tr>\n",
       "    <tr>\n",
       "      <th>platform</th>\n",
       "      <th></th>\n",
       "    </tr>\n",
       "  </thead>\n",
       "  <tbody>\n",
       "    <tr>\n",
       "      <th>PS4</th>\n",
       "      <td>140.69</td>\n",
       "    </tr>\n",
       "    <tr>\n",
       "      <th>XOne</th>\n",
       "      <td>117.46</td>\n",
       "    </tr>\n",
       "    <tr>\n",
       "      <th>PC</th>\n",
       "      <td>70.66</td>\n",
       "    </tr>\n",
       "    <tr>\n",
       "      <th>WiiU</th>\n",
       "      <td>34.54</td>\n",
       "    </tr>\n",
       "    <tr>\n",
       "      <th>PS3</th>\n",
       "      <td>32.40</td>\n",
       "    </tr>\n",
       "    <tr>\n",
       "      <th>X360</th>\n",
       "      <td>25.19</td>\n",
       "    </tr>\n",
       "    <tr>\n",
       "      <th>3DS</th>\n",
       "      <td>21.88</td>\n",
       "    </tr>\n",
       "    <tr>\n",
       "      <th>PSV</th>\n",
       "      <td>12.04</td>\n",
       "    </tr>\n",
       "    <tr>\n",
       "      <th>Wii</th>\n",
       "      <td>0.43</td>\n",
       "    </tr>\n",
       "  </tbody>\n",
       "</table>\n",
       "</div>"
      ],
      "text/plain": [
       "          total_sales\n",
       "platform             \n",
       "PS4            140.69\n",
       "XOne           117.46\n",
       "PC              70.66\n",
       "WiiU            34.54\n",
       "PS3             32.40\n",
       "X360            25.19\n",
       "3DS             21.88\n",
       "PSV             12.04\n",
       "Wii              0.43"
      ]
     },
     "execution_count": 40,
     "metadata": {},
     "output_type": "execute_result"
    }
   ],
   "source": [
    "resent_games_2016.sort_values(by=\"total_sales\",ascending=False)"
   ]
  },
  {
   "cell_type": "markdown",
   "metadata": {},
   "source": [
    "**al parecer, las plataformas mas rentables en este periodo anterior son el ps4 el xone y el pc, tanto en la general del 2013-2016 como en solo el 2016, por lo que me centraré en estos, aunque antes de eso voy a revisar en cuanto tiempo las nuevas plataformas toman una alza en el mercado para saber si uncluyo la psv en la lista**"
   ]
  },
  {
   "cell_type": "markdown",
   "metadata": {},
   "source": [
    "<div class=\"alert alert-block alert-success\">\n",
    "<b>Comentario del revisor</b> <a class=\"tocSkip\"></a>\n",
    "\n",
    "Bien hecho.\n",
    "</div>"
   ]
  },
  {
   "cell_type": "code",
   "execution_count": 41,
   "metadata": {
    "trusted": true
   },
   "outputs": [
    {
     "data": {
      "text/html": [
       "<div>\n",
       "<style scoped>\n",
       "    .dataframe tbody tr th:only-of-type {\n",
       "        vertical-align: middle;\n",
       "    }\n",
       "\n",
       "    .dataframe tbody tr th {\n",
       "        vertical-align: top;\n",
       "    }\n",
       "\n",
       "    .dataframe thead th {\n",
       "        text-align: right;\n",
       "    }\n",
       "</style>\n",
       "<table border=\"1\" class=\"dataframe\">\n",
       "  <thead>\n",
       "    <tr style=\"text-align: right;\">\n",
       "      <th></th>\n",
       "      <th>platform</th>\n",
       "      <th>year_of_release</th>\n",
       "      <th>total_sales</th>\n",
       "    </tr>\n",
       "  </thead>\n",
       "  <tbody>\n",
       "    <tr>\n",
       "      <th>9</th>\n",
       "      <td>PS3</td>\n",
       "      <td>2013</td>\n",
       "      <td>306.63</td>\n",
       "    </tr>\n",
       "    <tr>\n",
       "      <th>10</th>\n",
       "      <td>PS3</td>\n",
       "      <td>2014</td>\n",
       "      <td>209.13</td>\n",
       "    </tr>\n",
       "    <tr>\n",
       "      <th>11</th>\n",
       "      <td>PS3</td>\n",
       "      <td>2015</td>\n",
       "      <td>113.91</td>\n",
       "    </tr>\n",
       "    <tr>\n",
       "      <th>12</th>\n",
       "      <td>PS3</td>\n",
       "      <td>2016</td>\n",
       "      <td>32.40</td>\n",
       "    </tr>\n",
       "  </tbody>\n",
       "</table>\n",
       "</div>"
      ],
      "text/plain": [
       "   platform  year_of_release  total_sales\n",
       "9       PS3             2013       306.63\n",
       "10      PS3             2014       209.13\n",
       "11      PS3             2015       113.91\n",
       "12      PS3             2016        32.40"
      ]
     },
     "execution_count": 41,
     "metadata": {},
     "output_type": "execute_result"
    }
   ],
   "source": [
    "ps3_sales"
   ]
  },
  {
   "cell_type": "code",
   "execution_count": 42,
   "metadata": {
    "trusted": true
   },
   "outputs": [
    {
     "data": {
      "text/plain": [
       "[]"
      ]
     },
     "execution_count": 42,
     "metadata": {},
     "output_type": "execute_result"
    },
    {
     "data": {
      "image/png": "[encoded data removed]",
      "text/plain": [
       "<Figure size 640x480 with 1 Axes>"
      ]
     },
     "metadata": {},
     "output_type": "display_data"
    },
    {
     "data": {
      "image/png": "[encoded data removed]",
      "text/plain": [
       "<Figure size 640x480 with 1 Axes>"
      ]
     },
     "metadata": {},
     "output_type": "display_data"
    },
    {
     "data": {
      "image/png": "[encoded data removed]",
      "text/plain": [
       "<Figure size 640x480 with 1 Axes>"
      ]
     },
     "metadata": {},
     "output_type": "display_data"
    }
   ],
   "source": [
    "filtered_df = games_sales[\n",
    "    games_sales[\"platform\"].str.strip().str.lower().isin([\"ps3\",\"ps4\", \"psv\"])\n",
    "]\n",
    "filtered_df=filtered_df.pivot_table(index=[\"platform\",\"year_of_release\"], values=\"total_sales\", aggfunc=\"sum\").reset_index()\n",
    "ps3_sales=filtered_df[filtered_df[\"platform\"]==\"PS3\"]\n",
    "ps4_ales=filtered_df[filtered_df[\"platform\"]==\"PS4\"]\n",
    "psv_ales=filtered_df[filtered_df[\"platform\"]==\"PSV\"]\n",
    "ps3_sales.plot(kind=\"bar\",x=\"year_of_release\", y=\"total_sales\", xlabel=\"year_of_release\", label=\"ps3_sales\")\n",
    "ps4_sales.plot(kind=\"bar\",x=\"year_of_release\", y=\"total_sales\", xlabel=\"year_of_release\", label=\"ps4_sales\")\n",
    "psv_sales.plot(kind=\"bar\",x=\"year_of_release\", y=\"total_sales\", xlabel=\"year_of_release\", label=\"psv_sales\")\n",
    "plt.plot()\n"
   ]
  },
  {
   "cell_type": "markdown",
   "metadata": {},
   "source": [
    "Al parecer en el psv tiene pocas ventasen los juegos, en mi opinion, considero que es por la posibilidad de comprar un plan con mas de un juego integrádo, me parece importante mencionar esta conclusión, ya que si se quiere realizar una nueva campaña, podría considerarse cambiar el enfoque hacia un plan conjunto de juego o centrarse en la venta de videojuegos para plataformas antiguas que no permitan este tipo de planes"
   ]
  },
  {
   "cell_type": "markdown",
   "metadata": {},
   "source": [
    "<div class=\"alert alert-block alert-success\">\n",
    "<b>Comentario del revisor</b> <a class=\"tocSkip\"></a>\n",
    "\n",
    "Buen análisis de las ventas en psv.\n",
    "</div>"
   ]
  },
  {
   "cell_type": "markdown",
   "metadata": {},
   "source": [
    "#### análisis por juego según plataforma"
   ]
  },
  {
   "cell_type": "markdown",
   "metadata": {},
   "source": [
    "En este apartado vamos a observar la  distribución normal de la venta de cada juego en un gráfico de caja por las plataformas que por el anterir análisis descubrí que son las más rentábles actualmente:\n",
    "- ps4\n",
    "- XOne\n",
    "- Pc"
   ]
  },
  {
   "cell_type": "code",
   "execution_count": 43,
   "metadata": {
    "trusted": true
   },
   "outputs": [],
   "source": [
    "sales_for_game=games_sales.pivot_table(index=[\"platform\", \"name\"], values=\"total_sales\", aggfunc=\"sum\" ).reset_index()"
   ]
  },
  {
   "cell_type": "code",
   "execution_count": 44,
   "metadata": {
    "trusted": true
   },
   "outputs": [
    {
     "name": "stdout",
     "output_type": "stream",
     "text": [
      "media de la venta\n",
      "2.0463010204081633 mean\n",
      " ______________________________________________\n",
      "mediana de la venta\n",
      "0.42000000000000004 median\n",
      " ______________________________________________\n",
      "top juegos más vendidos en la plataforma \n",
      "                             name  total_sales\n",
      "0              Grand Theft Auto V        56.58\n",
      "1            Call of Duty: Ghosts        27.39\n",
      "2       Call of Duty: Black Ops 3        25.67\n",
      "3                       Minecraft        24.16\n",
      "4  Call of Duty: Advanced Warfare        21.97 \n",
      " ______________________________________________\n"
     ]
    },
    {
     "data": {
      "image/png": "[encoded data removed]",
      "text/plain": [
       "<Figure size 640x480 with 1 Axes>"
      ]
     },
     "metadata": {},
     "output_type": "display_data"
    }
   ],
   "source": [
    "boxplot_ps4=sales_for_game[sales_for_game[\"platform\"]==\"PS4\"]\n",
    "sns.boxplot(boxplot_ps4[\"total_sales\"])\n",
    "print(\"media de la venta\")\n",
    "print(boxplot_ps4[\"total_sales\"].mean(), \"mean\\n ______________________________________________\")\n",
    "print(\"mediana de la venta\")\n",
    "print(boxplot_ps4[\"total_sales\"].median(),\"median\\n ______________________________________________\")\n",
    "print(\"top juegos más vendidos en la plataforma \")\n",
    "print(boxplot_ps4.sort_values(by=\"total_sales\", ascending= False)[[\"name\", \"total_sales\"]].reset_index(drop=True).head(),\"\\n ______________________________________________\")"
   ]
  },
  {
   "cell_type": "code",
   "execution_count": 45,
   "metadata": {
    "scrolled": false,
    "trusted": true
   },
   "outputs": [
    {
     "name": "stdout",
     "output_type": "stream",
     "text": [
      "media de la venta\n",
      "3.003765182186235 mean\n",
      " ______________________________________________\n",
      "mediana de la venta\n",
      "1.3099999999999998 median\n",
      " ______________________________________________\n",
      "top juegos más vendidos en la plataforma \n",
      "                             name  total_sales\n",
      "0              Grand Theft Auto V        56.58\n",
      "1            Call of Duty: Ghosts        27.39\n",
      "2       Call of Duty: Black Ops 3        25.67\n",
      "3                       Minecraft        24.16\n",
      "4  Call of Duty: Advanced Warfare        21.97 \n",
      " ______________________________________________\n"
     ]
    },
    {
     "data": {
      "image/png": "[encoded data removed]",
      "text/plain": [
       "<Figure size 640x480 with 1 Axes>"
      ]
     },
     "metadata": {},
     "output_type": "display_data"
    }
   ],
   "source": [
    "boxplot_xone=sales_for_game[sales_for_game[\"platform\"]==\"XOne\"]\n",
    "sns.boxplot(boxplot_xone[\"total_sales\"])\n",
    "print(\"media de la venta\")\n",
    "print(boxplot_xone[\"total_sales\"].mean(), \"mean\\n ______________________________________________\")\n",
    "print(\"mediana de la venta\")\n",
    "print(boxplot_xone[\"total_sales\"].median(),\"median\\n ______________________________________________\")\n",
    "print(\"top juegos más vendidos en la plataforma \")\n",
    "print(boxplot_xone.sort_values(by=\"total_sales\", ascending= False)[[\"name\", \"total_sales\"]].reset_index(drop=True).head(),\"\\n ______________________________________________\")"
   ]
  },
  {
   "cell_type": "code",
   "execution_count": 46,
   "metadata": {
    "trusted": true
   },
   "outputs": [
    {
     "name": "stdout",
     "output_type": "stream",
     "text": [
      "media de la venta\n",
      "2.005488180883864 mean\n",
      " ______________________________________________\n",
      "mediana de la venta\n",
      "0.38 median\n",
      " ______________________________________________\n",
      "top juegos más vendidos en la plataforma \n",
      "                             name  total_sales\n",
      "0              Grand Theft Auto V        56.58\n",
      "1         Call of Duty: Black Ops        30.82\n",
      "2  Call of Duty: Modern Warfare 3        30.60\n",
      "3      Call of Duty: Black Ops II        29.40\n",
      "4     Need for Speed: Most Wanted        27.54 \n",
      " ______________________________________________\n"
     ]
    },
    {
     "data": {
      "image/png": "[encoded data removed]",
      "text/plain": [
       "<Figure size 640x480 with 1 Axes>"
      ]
     },
     "metadata": {},
     "output_type": "display_data"
    }
   ],
   "source": [
    "boxplot_pc=sales_for_game[sales_for_game[\"platform\"]==\"PC\"]\n",
    "sns.boxplot(boxplot_pc[\"total_sales\"])\n",
    "print(\"media de la venta\")\n",
    "print(boxplot_pc[\"total_sales\"].mean(), \"mean\\n ______________________________________________\")\n",
    "print(\"mediana de la venta\")\n",
    "print(boxplot_pc[\"total_sales\"].median(),\"median\\n ______________________________________________\")\n",
    "print(\"top juegos más vendidos en la plataforma \")\n",
    "print(boxplot_pc.sort_values(by=\"total_sales\", ascending= False)[[\"name\", \"total_sales\"]].reset_index(drop=True).head(),\"\\n ______________________________________________\")"
   ]
  },
  {
   "cell_type": "code",
   "execution_count": 47,
   "metadata": {
    "trusted": true
   },
   "outputs": [
    {
     "data": {
      "text/html": [
       "<div>\n",
       "<style scoped>\n",
       "    .dataframe tbody tr th:only-of-type {\n",
       "        vertical-align: middle;\n",
       "    }\n",
       "\n",
       "    .dataframe tbody tr th {\n",
       "        vertical-align: top;\n",
       "    }\n",
       "\n",
       "    .dataframe thead th {\n",
       "        text-align: right;\n",
       "    }\n",
       "</style>\n",
       "<table border=\"1\" class=\"dataframe\">\n",
       "  <thead>\n",
       "    <tr style=\"text-align: right;\">\n",
       "      <th></th>\n",
       "      <th>platform</th>\n",
       "      <th>name</th>\n",
       "      <th>total_sales</th>\n",
       "    </tr>\n",
       "  </thead>\n",
       "  <tbody>\n",
       "    <tr>\n",
       "      <th>16553</th>\n",
       "      <td>XOne</td>\n",
       "      <td>Grand Theft Auto V</td>\n",
       "      <td>56.58</td>\n",
       "    </tr>\n",
       "  </tbody>\n",
       "</table>\n",
       "</div>"
      ],
      "text/plain": [
       "      platform                name  total_sales\n",
       "16553     XOne  Grand Theft Auto V        56.58"
      ]
     },
     "execution_count": 47,
     "metadata": {},
     "output_type": "execute_result"
    }
   ],
   "source": [
    "boxplot_xone[boxplot_xone[\"name\"]==\"Grand Theft Auto V\"]"
   ]
  },
  {
   "cell_type": "code",
   "execution_count": 48,
   "metadata": {
    "trusted": true
   },
   "outputs": [
    {
     "data": {
      "text/html": [
       "<div>\n",
       "<style scoped>\n",
       "    .dataframe tbody tr th:only-of-type {\n",
       "        vertical-align: middle;\n",
       "    }\n",
       "\n",
       "    .dataframe tbody tr th {\n",
       "        vertical-align: top;\n",
       "    }\n",
       "\n",
       "    .dataframe thead th {\n",
       "        text-align: right;\n",
       "    }\n",
       "</style>\n",
       "<table border=\"1\" class=\"dataframe\">\n",
       "  <thead>\n",
       "    <tr style=\"text-align: right;\">\n",
       "      <th></th>\n",
       "      <th>name</th>\n",
       "      <th>platform</th>\n",
       "      <th>year_of_release</th>\n",
       "      <th>genre</th>\n",
       "      <th>na_sales</th>\n",
       "      <th>eu_sales</th>\n",
       "      <th>jp_sales</th>\n",
       "      <th>other_sales</th>\n",
       "      <th>critic_score</th>\n",
       "      <th>user_score</th>\n",
       "      <th>rating</th>\n",
       "      <th>total_sales</th>\n",
       "    </tr>\n",
       "  </thead>\n",
       "  <tbody>\n",
       "    <tr>\n",
       "      <th>18</th>\n",
       "      <td>Grand Theft Auto V</td>\n",
       "      <td>PS3</td>\n",
       "      <td>2013</td>\n",
       "      <td>Action</td>\n",
       "      <td>7.02</td>\n",
       "      <td>9.09</td>\n",
       "      <td>0.98</td>\n",
       "      <td>3.96</td>\n",
       "      <td>97.0</td>\n",
       "      <td>8.2</td>\n",
       "      <td>M</td>\n",
       "      <td>56.58</td>\n",
       "    </tr>\n",
       "    <tr>\n",
       "      <th>19</th>\n",
       "      <td>Grand Theft Auto V</td>\n",
       "      <td>X360</td>\n",
       "      <td>2013</td>\n",
       "      <td>Action</td>\n",
       "      <td>9.66</td>\n",
       "      <td>5.14</td>\n",
       "      <td>0.06</td>\n",
       "      <td>1.41</td>\n",
       "      <td>97.0</td>\n",
       "      <td>8.1</td>\n",
       "      <td>M</td>\n",
       "      <td>56.58</td>\n",
       "    </tr>\n",
       "    <tr>\n",
       "      <th>20</th>\n",
       "      <td>Grand Theft Auto V</td>\n",
       "      <td>PS4</td>\n",
       "      <td>2014</td>\n",
       "      <td>Action</td>\n",
       "      <td>3.96</td>\n",
       "      <td>6.31</td>\n",
       "      <td>0.38</td>\n",
       "      <td>1.97</td>\n",
       "      <td>97.0</td>\n",
       "      <td>8.3</td>\n",
       "      <td>M</td>\n",
       "      <td>56.58</td>\n",
       "    </tr>\n",
       "    <tr>\n",
       "      <th>21</th>\n",
       "      <td>Grand Theft Auto V</td>\n",
       "      <td>XOne</td>\n",
       "      <td>2014</td>\n",
       "      <td>Action</td>\n",
       "      <td>2.81</td>\n",
       "      <td>2.19</td>\n",
       "      <td>0.00</td>\n",
       "      <td>0.47</td>\n",
       "      <td>97.0</td>\n",
       "      <td>7.9</td>\n",
       "      <td>M</td>\n",
       "      <td>56.58</td>\n",
       "    </tr>\n",
       "    <tr>\n",
       "      <th>22</th>\n",
       "      <td>Grand Theft Auto V</td>\n",
       "      <td>PC</td>\n",
       "      <td>2015</td>\n",
       "      <td>Action</td>\n",
       "      <td>0.39</td>\n",
       "      <td>0.69</td>\n",
       "      <td>0.00</td>\n",
       "      <td>0.09</td>\n",
       "      <td>96.0</td>\n",
       "      <td>7.9</td>\n",
       "      <td>M</td>\n",
       "      <td>56.58</td>\n",
       "    </tr>\n",
       "  </tbody>\n",
       "</table>\n",
       "</div>"
      ],
      "text/plain": [
       "                  name platform  year_of_release   genre  na_sales  eu_sales  \\\n",
       "18  Grand Theft Auto V      PS3             2013  Action      7.02      9.09   \n",
       "19  Grand Theft Auto V     X360             2013  Action      9.66      5.14   \n",
       "20  Grand Theft Auto V      PS4             2014  Action      3.96      6.31   \n",
       "21  Grand Theft Auto V     XOne             2014  Action      2.81      2.19   \n",
       "22  Grand Theft Auto V       PC             2015  Action      0.39      0.69   \n",
       "\n",
       "    jp_sales  other_sales  critic_score user_score rating  total_sales  \n",
       "18      0.98         3.96          97.0        8.2      M        56.58  \n",
       "19      0.06         1.41          97.0        8.1      M        56.58  \n",
       "20      0.38         1.97          97.0        8.3      M        56.58  \n",
       "21      0.00         0.47          97.0        7.9      M        56.58  \n",
       "22      0.00         0.09          96.0        7.9      M        56.58  "
      ]
     },
     "execution_count": 48,
     "metadata": {},
     "output_type": "execute_result"
    }
   ],
   "source": [
    "games_sales[games_sales[\"name\"]==\"Grand Theft Auto V\"]"
   ]
  },
  {
   "cell_type": "markdown",
   "metadata": {},
   "source": [
    "**dado que hay plataformas que tienen un juego en común y solo tenemos el total_sales disponible y no un independiente por plataforma, no podremos confiarnos de la media porque se ve contamniado por un valor tan alto como el total_sales de Grand Theft Auto V, mas bien determinarémos qcon la mediana la plataforma con mayor ranfo de ventasb; por lo que en este caso la plataforma con mas ventas es el xbox one.**"
   ]
  },
  {
   "cell_type": "markdown",
   "metadata": {},
   "source": [
    "<div class=\"alert alert-block alert-success\">\n",
    "<b>Comentario del revisor</b> <a class=\"tocSkip\"></a>\n",
    "\n",
    "¡Genial! De esta manera es fácil ver los juegos más vendidos para poder hacer juegos similares.\n",
    "</div>"
   ]
  },
  {
   "cell_type": "markdown",
   "metadata": {},
   "source": [
    "#### Anális del comportamiento de vntas según la reseña "
   ]
  },
  {
   "cell_type": "markdown",
   "metadata": {},
   "source": [
    "voy a tomar como referencia al XOne, dado que tiene la mediana mas alta de venta"
   ]
  },
  {
   "cell_type": "markdown",
   "metadata": {},
   "source": []
  },
  {
   "cell_type": "code",
   "execution_count": 49,
   "metadata": {
    "trusted": true
   },
   "outputs": [
    {
     "data": {
      "text/html": [
       "<div>\n",
       "<style scoped>\n",
       "    .dataframe tbody tr th:only-of-type {\n",
       "        vertical-align: middle;\n",
       "    }\n",
       "\n",
       "    .dataframe tbody tr th {\n",
       "        vertical-align: top;\n",
       "    }\n",
       "\n",
       "    .dataframe thead th {\n",
       "        text-align: right;\n",
       "    }\n",
       "</style>\n",
       "<table border=\"1\" class=\"dataframe\">\n",
       "  <thead>\n",
       "    <tr style=\"text-align: right;\">\n",
       "      <th></th>\n",
       "      <th>name</th>\n",
       "      <th>platform</th>\n",
       "      <th>year_of_release</th>\n",
       "      <th>genre</th>\n",
       "      <th>na_sales</th>\n",
       "      <th>eu_sales</th>\n",
       "      <th>jp_sales</th>\n",
       "      <th>other_sales</th>\n",
       "      <th>critic_score</th>\n",
       "      <th>user_score</th>\n",
       "      <th>rating</th>\n",
       "      <th>total_sales</th>\n",
       "    </tr>\n",
       "  </thead>\n",
       "  <tbody>\n",
       "    <tr>\n",
       "      <th>0</th>\n",
       "      <td>Wii Sports</td>\n",
       "      <td>Wii</td>\n",
       "      <td>2006</td>\n",
       "      <td>Sports</td>\n",
       "      <td>41.36</td>\n",
       "      <td>28.96</td>\n",
       "      <td>3.77</td>\n",
       "      <td>8.45</td>\n",
       "      <td>76.0</td>\n",
       "      <td>8</td>\n",
       "      <td>E</td>\n",
       "      <td>82.54</td>\n",
       "    </tr>\n",
       "    <tr>\n",
       "      <th>1</th>\n",
       "      <td>Super Mario Bros.</td>\n",
       "      <td>NES</td>\n",
       "      <td>1985</td>\n",
       "      <td>Platform</td>\n",
       "      <td>29.08</td>\n",
       "      <td>3.58</td>\n",
       "      <td>6.81</td>\n",
       "      <td>0.77</td>\n",
       "      <td>NaN</td>\n",
       "      <td>NaN</td>\n",
       "      <td>NaN</td>\n",
       "      <td>45.31</td>\n",
       "    </tr>\n",
       "    <tr>\n",
       "      <th>2</th>\n",
       "      <td>Super Mario Bros.</td>\n",
       "      <td>GB</td>\n",
       "      <td>1999</td>\n",
       "      <td>Platform</td>\n",
       "      <td>3.40</td>\n",
       "      <td>1.30</td>\n",
       "      <td>0.15</td>\n",
       "      <td>0.22</td>\n",
       "      <td>NaN</td>\n",
       "      <td>NaN</td>\n",
       "      <td>NaN</td>\n",
       "      <td>45.31</td>\n",
       "    </tr>\n",
       "    <tr>\n",
       "      <th>3</th>\n",
       "      <td>Mario Kart Wii</td>\n",
       "      <td>Wii</td>\n",
       "      <td>2008</td>\n",
       "      <td>Racing</td>\n",
       "      <td>15.68</td>\n",
       "      <td>12.76</td>\n",
       "      <td>3.79</td>\n",
       "      <td>3.29</td>\n",
       "      <td>82.0</td>\n",
       "      <td>8.3</td>\n",
       "      <td>E</td>\n",
       "      <td>35.52</td>\n",
       "    </tr>\n",
       "    <tr>\n",
       "      <th>4</th>\n",
       "      <td>Wii Sports Resort</td>\n",
       "      <td>Wii</td>\n",
       "      <td>2009</td>\n",
       "      <td>Sports</td>\n",
       "      <td>15.61</td>\n",
       "      <td>10.93</td>\n",
       "      <td>3.28</td>\n",
       "      <td>2.95</td>\n",
       "      <td>80.0</td>\n",
       "      <td>8</td>\n",
       "      <td>E</td>\n",
       "      <td>32.77</td>\n",
       "    </tr>\n",
       "    <tr>\n",
       "      <th>...</th>\n",
       "      <td>...</td>\n",
       "      <td>...</td>\n",
       "      <td>...</td>\n",
       "      <td>...</td>\n",
       "      <td>...</td>\n",
       "      <td>...</td>\n",
       "      <td>...</td>\n",
       "      <td>...</td>\n",
       "      <td>...</td>\n",
       "      <td>...</td>\n",
       "      <td>...</td>\n",
       "      <td>...</td>\n",
       "    </tr>\n",
       "    <tr>\n",
       "      <th>16708</th>\n",
       "      <td>15 Days</td>\n",
       "      <td>PC</td>\n",
       "      <td>2009</td>\n",
       "      <td>Adventure</td>\n",
       "      <td>0.00</td>\n",
       "      <td>0.01</td>\n",
       "      <td>0.00</td>\n",
       "      <td>0.00</td>\n",
       "      <td>63.0</td>\n",
       "      <td>5.8</td>\n",
       "      <td>NaN</td>\n",
       "      <td>0.01</td>\n",
       "    </tr>\n",
       "    <tr>\n",
       "      <th>16709</th>\n",
       "      <td>Aiyoku no Eustia</td>\n",
       "      <td>PSV</td>\n",
       "      <td>2014</td>\n",
       "      <td>Misc</td>\n",
       "      <td>0.00</td>\n",
       "      <td>0.00</td>\n",
       "      <td>0.01</td>\n",
       "      <td>0.00</td>\n",
       "      <td>NaN</td>\n",
       "      <td>NaN</td>\n",
       "      <td>NaN</td>\n",
       "      <td>0.01</td>\n",
       "    </tr>\n",
       "    <tr>\n",
       "      <th>16710</th>\n",
       "      <td>Woody Woodpecker in Crazy Castle 5</td>\n",
       "      <td>GBA</td>\n",
       "      <td>2002</td>\n",
       "      <td>Platform</td>\n",
       "      <td>0.01</td>\n",
       "      <td>0.00</td>\n",
       "      <td>0.00</td>\n",
       "      <td>0.00</td>\n",
       "      <td>NaN</td>\n",
       "      <td>NaN</td>\n",
       "      <td>NaN</td>\n",
       "      <td>0.01</td>\n",
       "    </tr>\n",
       "    <tr>\n",
       "      <th>16711</th>\n",
       "      <td>LMA Manager 2007</td>\n",
       "      <td>X360</td>\n",
       "      <td>2006</td>\n",
       "      <td>Sports</td>\n",
       "      <td>0.00</td>\n",
       "      <td>0.01</td>\n",
       "      <td>0.00</td>\n",
       "      <td>0.00</td>\n",
       "      <td>NaN</td>\n",
       "      <td>NaN</td>\n",
       "      <td>NaN</td>\n",
       "      <td>0.01</td>\n",
       "    </tr>\n",
       "    <tr>\n",
       "      <th>16712</th>\n",
       "      <td>Haitaka no Psychedelica</td>\n",
       "      <td>PSV</td>\n",
       "      <td>2016</td>\n",
       "      <td>Adventure</td>\n",
       "      <td>0.00</td>\n",
       "      <td>0.00</td>\n",
       "      <td>0.01</td>\n",
       "      <td>0.00</td>\n",
       "      <td>NaN</td>\n",
       "      <td>NaN</td>\n",
       "      <td>NaN</td>\n",
       "      <td>0.01</td>\n",
       "    </tr>\n",
       "  </tbody>\n",
       "</table>\n",
       "<p>16713 rows × 12 columns</p>\n",
       "</div>"
      ],
      "text/plain": [
       "                                     name platform  year_of_release  \\\n",
       "0                              Wii Sports      Wii             2006   \n",
       "1                       Super Mario Bros.      NES             1985   \n",
       "2                       Super Mario Bros.       GB             1999   \n",
       "3                          Mario Kart Wii      Wii             2008   \n",
       "4                       Wii Sports Resort      Wii             2009   \n",
       "...                                   ...      ...              ...   \n",
       "16708                             15 Days       PC             2009   \n",
       "16709                    Aiyoku no Eustia      PSV             2014   \n",
       "16710  Woody Woodpecker in Crazy Castle 5      GBA             2002   \n",
       "16711                    LMA Manager 2007     X360             2006   \n",
       "16712             Haitaka no Psychedelica      PSV             2016   \n",
       "\n",
       "           genre  na_sales  eu_sales  jp_sales  other_sales  critic_score  \\\n",
       "0         Sports     41.36     28.96      3.77         8.45          76.0   \n",
       "1       Platform     29.08      3.58      6.81         0.77           NaN   \n",
       "2       Platform      3.40      1.30      0.15         0.22           NaN   \n",
       "3         Racing     15.68     12.76      3.79         3.29          82.0   \n",
       "4         Sports     15.61     10.93      3.28         2.95          80.0   \n",
       "...          ...       ...       ...       ...          ...           ...   \n",
       "16708  Adventure      0.00      0.01      0.00         0.00          63.0   \n",
       "16709       Misc      0.00      0.00      0.01         0.00           NaN   \n",
       "16710   Platform      0.01      0.00      0.00         0.00           NaN   \n",
       "16711     Sports      0.00      0.01      0.00         0.00           NaN   \n",
       "16712  Adventure      0.00      0.00      0.01         0.00           NaN   \n",
       "\n",
       "      user_score rating  total_sales  \n",
       "0              8      E        82.54  \n",
       "1            NaN    NaN        45.31  \n",
       "2            NaN    NaN        45.31  \n",
       "3            8.3      E        35.52  \n",
       "4              8      E        32.77  \n",
       "...          ...    ...          ...  \n",
       "16708        5.8    NaN         0.01  \n",
       "16709        NaN    NaN         0.01  \n",
       "16710        NaN    NaN         0.01  \n",
       "16711        NaN    NaN         0.01  \n",
       "16712        NaN    NaN         0.01  \n",
       "\n",
       "[16713 rows x 12 columns]"
      ]
     },
     "execution_count": 49,
     "metadata": {},
     "output_type": "execute_result"
    }
   ],
   "source": [
    "games_sales"
   ]
  },
  {
   "cell_type": "code",
   "execution_count": 52,
   "metadata": {
    "scrolled": true,
    "trusted": true
   },
   "outputs": [
    {
     "data": {
      "text/plain": [
       "<AxesSubplot:title={'center':'Ventas vs Puntuación de Usuarios (XOne)'}, xlabel='Puntuación de Usuarios', ylabel='Ventas Totales'>"
      ]
     },
     "execution_count": 52,
     "metadata": {},
     "output_type": "execute_result"
    },
    {
     "data": {
      "image/png": "[encoded data removed]",
      "text/plain": [
       "<Figure size 640x480 with 1 Axes>"
      ]
     },
     "metadata": {},
     "output_type": "display_data"
    }
   ],
   "source": [
    "\n",
    "games_sales_for_score = games_sales[\n",
    "    (games_sales[\"platform\"] == \"XOne\") &\n",
    "    (~games_sales[\"user_score\"].isna()) &\n",
    "    (games_sales[\"user_score\"]!= \"tbd\") &\n",
    "    (games_sales[\"year_of_release\"]>= 2013)\n",
    "]\n",
    "games_sales_for_score.plot.scatter(\n",
    "    x=\"user_score\",\n",
    "    y=\"total_sales\",\n",
    "    marker=\"o\",\n",
    "    title=\"Ventas vs Puntuación de Usuarios (XOne)\",\n",
    "    xlabel=\"Puntuación de Usuarios\",\n",
    "    ylabel=\"Ventas Totales\"\n",
    ")"
   ]
  },
  {
   "cell_type": "code",
   "execution_count": 76,
   "metadata": {
    "trusted": true
   },
   "outputs": [],
   "source": [
    "\n",
    "games_sales_for_score[\"user_score\"]=pd.to_numeric(games_sales_for_score[\"user_score\"], errors=\"coerce\")\n",
    "pd.options.mode.chained_assignment = None  "
   ]
  },
  {
   "cell_type": "code",
   "execution_count": 77,
   "metadata": {
    "trusted": true
   },
   "outputs": [
    {
     "name": "stdout",
     "output_type": "stream",
     "text": [
      "-0.05595999728142845\n"
     ]
    }
   ],
   "source": [
    "print(games_sales_for_score[\"user_score\"].corr(games_sales_for_score[\"total_sales\"]))\n"
   ]
  },
  {
   "cell_type": "markdown",
   "metadata": {},
   "source": [
    "**Al parecer en este caso, aunque muy sutilmente, afecta de forma negativa la buena calificación de los usuarios a la venta de los juegos, se puede observar que no les es muy relevante este apartado**"
   ]
  },
  {
   "cell_type": "code",
   "execution_count": null,
   "metadata": {
    "trusted": true
   },
   "outputs": [],
   "source": [
    "games_sales_for_critic_score = games_sales[\n",
    "    (games_sales[\"platform\"] == \"XOne\") &\n",
    "    (~games_sales[\"critic_score\"].isna()) &\n",
    "    (games_sales[\"year_of_release\"]>= 2013)\n",
    "]\n",
    "\n",
    "games_sales_for_critic_score.plot(style=\"o\", x=\"critic_score\", y=\"total_sales\")\n"
   ]
  },
  {
   "cell_type": "code",
   "execution_count": null,
   "metadata": {
    "trusted": true
   },
   "outputs": [],
   "source": [
    "print(games_sales_for_critic_score[\"critic_score\"].corr(games_sales_for_critic_score[\"total_sales\"]))"
   ]
  },
  {
   "cell_type": "markdown",
   "metadata": {},
   "source": [
    "Evidenciamos que hay al rededor de un 33% de correlación en la muestra,  a un tercio de la población le es relevante el score de la crítica; tal vez porque es la primera referencia quue tiene el cliente con respecto al juego.\n"
   ]
  },
  {
   "cell_type": "markdown",
   "metadata": {},
   "source": [
    "<div class=\"alert alert-block alert-success\">\n",
    "<b>Comentario del revisor</b> <a class=\"tocSkip\"></a>\n",
    "\n",
    "Bien, se puede ver la relación entre las críticas y las ventas de los juegos.\n",
    "</div>"
   ]
  },
  {
   "cell_type": "markdown",
   "metadata": {},
   "source": []
  },
  {
   "cell_type": "code",
   "execution_count": 79,
   "metadata": {
    "trusted": true
   },
   "outputs": [],
   "source": [
    "resent_games_sales=games_sales[games_sales[\"year_of_release\"]>=2014]"
   ]
  },
  {
   "cell_type": "code",
   "execution_count": null,
   "metadata": {
    "trusted": true
   },
   "outputs": [],
   "source": [
    "resent_games_sales"
   ]
  },
  {
   "cell_type": "code",
   "execution_count": null,
   "metadata": {
    "trusted": true
   },
   "outputs": [],
   "source": [
    "games_sales"
   ]
  },
  {
   "cell_type": "code",
   "execution_count": 80,
   "metadata": {
    "trusted": true
   },
   "outputs": [
    {
     "data": {
      "image/png": "[encoded data removed]",
      "text/plain": [
       "<Figure size 640x480 with 1 Axes>"
      ]
     },
     "metadata": {},
     "output_type": "display_data"
    },
    {
     "data": {
      "image/png": "[encoded data removed]",
      "text/plain": [
       "<Figure size 640x480 with 1 Axes>"
      ]
     },
     "metadata": {},
     "output_type": "display_data"
    },
    {
     "data": {
      "image/png": "[encoded data removed]",
      "text/plain": [
       "<Figure size 640x480 with 1 Axes>"
      ]
     },
     "metadata": {},
     "output_type": "display_data"
    }
   ],
   "source": [
    "games_sales_for_genre=resent_games_sales.pivot_table(index=\"genre\", values=\"total_sales\", aggfunc=\"sum\").reset_index().sort_values(by=\"total_sales\", ascending=False).reset_index(drop=True)\n",
    "games_sales_for_genre_count=resent_games_sales.pivot_table(index=\"genre\", values=\"total_sales\", aggfunc=\"count\").reset_index().sort_values(by=\"total_sales\", ascending=False).reset_index(drop=True)\n",
    "games_sales_for_genre_count\n",
    "games_venta_real=games_sales_for_genre.merge(games_sales_for_genre_count, on=\"genre\")\n",
    "games_sales_for_genre[\"ventas/publicados\"]= games_venta_real[\"total_sales_x\"]/games_venta_real[\"total_sales_y\"]\n",
    "games_sales_for_genre.plot(kind=\"bar\", x=\"genre\", y=\"ventas/publicados\" )\n",
    "games_sales_for_genre.plot(kind=\"bar\", x=\"genre\",y=\"total_sales\")\n",
    "games_sales_for_genre_count.plot(kind=\"bar\", x=\"genre\", y=\"total_sales\", title=\"cantidad de juegos publicados\")\n",
    "plt.show()"
   ]
  },
  {
   "cell_type": "markdown",
   "metadata": {},
   "source": [
    "**En las ventas generales, hay una gran diferencia entre los juegos de acción con los de estrategiaa;  sin embargo, esto suelecambiar según la cultura. Dada esta situación, dividiré el análisis en cada región (NA, UE, JP).\n",
    "Tambien podemos determinar que aunque action tiene un mayor numero de ventaqs, en promedio tiene mayor venta los juegos de shooter, esto se debe a que hay muchos juegos de acción publiucados, unos muy exitos como otros no tanto**\n"
   ]
  },
  {
   "cell_type": "markdown",
   "metadata": {},
   "source": [
    "<div class=\"alert alert-block alert-success\">\n",
    "<b>Comentario del revisor</b> <a class=\"tocSkip\"></a>\n",
    "\n",
    "Buen análisis .\n",
    "</div>"
   ]
  },
  {
   "cell_type": "markdown",
   "metadata": {},
   "source": [
    "#### Análisis según región\n",
    "en este apartádo determinaremos los generos y plataformas  mas representativos para cada región, además que determinarémos si las clasificaciones de ESRB afectan a las ventas"
   ]
  },
  {
   "cell_type": "markdown",
   "metadata": {},
   "source": [
    "##### top 5 generos principales\n",
    "\n"
   ]
  },
  {
   "cell_type": "code",
   "execution_count": null,
   "metadata": {
    "trusted": true
   },
   "outputs": [],
   "source": []
  },
  {
   "cell_type": "markdown",
   "metadata": {},
   "source": [
    "###### Ventas en Norte América"
   ]
  },
  {
   "cell_type": "code",
   "execution_count": null,
   "metadata": {
    "trusted": true
   },
   "outputs": [],
   "source": [
    "na_sales=resent_games_sales.pivot_table(index=\"genre\",values=\"na_sales\", aggfunc=\"sum\" ).reset_index().sort_values(by=\"na_sales\", ascending=False).reset_index(drop=True)\n",
    "\n",
    "top_na_sales= na_sales.head()\n",
    "top_na_sales.plot(kind=\"bar\", x=\"genre\", y=\"na_sales\")"
   ]
  },
  {
   "cell_type": "markdown",
   "metadata": {},
   "source": [
    "###### Ventas en Európa"
   ]
  },
  {
   "cell_type": "code",
   "execution_count": null,
   "metadata": {
    "trusted": true
   },
   "outputs": [],
   "source": [
    "eu_sales=resent_games_sales.pivot_table(index=\"genre\",values=\"eu_sales\", aggfunc=\"sum\").reset_index().sort_values(by=\"eu_sales\", ascending=False).reset_index(drop=True)\n",
    "top_eu_sales=eu_sales.head()\n",
    "top_eu_sales.plot(kind=\"bar\", x=\"genre\", y=\"eu_sales\")"
   ]
  },
  {
   "cell_type": "markdown",
   "metadata": {},
   "source": [
    "###### Ventas en Japón"
   ]
  },
  {
   "cell_type": "code",
   "execution_count": null,
   "metadata": {
    "trusted": true
   },
   "outputs": [],
   "source": [
    "jp_sales=resent_games_sales.pivot_table(index=\"genre\",values=\"jp_sales\", aggfunc=\"sum\").reset_index().sort_values(by=\"jp_sales\", ascending=False).reset_index(drop=True)\n",
    "top_jp_sales=jp_sales.head()\n",
    "top_jp_sales.plot(kind=\"bar\", x=\"genre\", y=\"jp_sales\")"
   ]
  },
  {
   "cell_type": "markdown",
   "metadata": {},
   "source": [
    "Podemos observa que endos de las tres regiones se prefiere el genero de acción, por lo que es el más rentable con casi 1400MD en ventas, sin embargo yo consideraría la alta oferta de este género teniendo en cuenta que hay mas de 3mil juegos de acción publicádos, personalmente, optaría por shooter en las regiones aparte de japón, dado que es el que es la que tiene un mayor promedio en ventas por juego publicádo."
   ]
  },
  {
   "cell_type": "markdown",
   "metadata": {},
   "source": [
    "##### top 5 plataformas principales\n",
    "\n"
   ]
  },
  {
   "cell_type": "code",
   "execution_count": 87,
   "metadata": {
    "trusted": true
   },
   "outputs": [
    {
     "data": {
      "image/png": "[encoded data removed]",
      "text/plain": [
       "<Figure size 640x480 with 1 Axes>"
      ]
     },
     "metadata": {},
     "output_type": "display_data"
    },
    {
     "data": {
      "image/png": "[encoded data removed]",
      "text/plain": [
       "<Figure size 640x480 with 1 Axes>"
      ]
     },
     "metadata": {},
     "output_type": "display_data"
    },
    {
     "data": {
      "image/png": "[encoded data removed]",
      "text/plain": [
       "<Figure size 640x480 with 1 Axes>"
      ]
     },
     "metadata": {},
     "output_type": "display_data"
    }
   ],
   "source": [
    "games_sales_for_platform=resent_games_sales.pivot_table(index=\"platform\", values=\"total_sales\", aggfunc=\"sum\").reset_index().sort_values(by=\"total_sales\", ascending=False).reset_index(drop=True)\n",
    "games_sales_for_platform_count=resent_games_sales.pivot_table(index=\"platform\", values=\"total_sales\", aggfunc=\"count\").reset_index().sort_values(by=\"total_sales\", ascending=False).reset_index(drop=True)\n",
    "games_sales_for_platform_count\n",
    "games_venta_real=games_sales_for_platform.merge(games_sales_for_platform_count, on=\"platform\")\n",
    "games_sales_for_platform[\"ventas/publicados\"]= games_venta_real[\"total_sales_x\"]/games_venta_real[\"total_sales_y\"]\n",
    "games_sales_for_platform.plot(kind=\"bar\", x=\"platform\", y=\"ventas/publicados\" )\n",
    "games_sales_for_platform.plot(kind=\"bar\", x=\"platform\",y=\"total_sales\")\n",
    "games_sales_for_platform_count.plot(kind=\"bar\", x=\"platform\", y=\"total_sales\", title=\"cantidad de juegos publicados\")\n",
    "plt.show()"
   ]
  },
  {
   "cell_type": "markdown",
   "metadata": {},
   "source": [
    "###### Ventas en Norte América"
   ]
  },
  {
   "cell_type": "code",
   "execution_count": null,
   "metadata": {
    "trusted": true
   },
   "outputs": [],
   "source": [
    "na_sales=resent_games_sales.pivot_table(index=\"platform\",values=\"na_sales\", aggfunc=\"sum\" ).reset_index().sort_values(by=\"na_sales\", ascending=False).reset_index(drop=True)\n",
    "\n",
    "top_na_sales= na_sales.head()\n",
    "top_na_sales.plot(kind=\"bar\", x=\"platform\", y=\"na_sales\")"
   ]
  },
  {
   "cell_type": "markdown",
   "metadata": {},
   "source": [
    "###### Ventas en Európa"
   ]
  },
  {
   "cell_type": "code",
   "execution_count": null,
   "metadata": {
    "trusted": true
   },
   "outputs": [],
   "source": [
    "eu_sales=resent_games_sales.pivot_table(index=\"platform\",values=\"eu_sales\", aggfunc=\"sum\").reset_index().sort_values(by=\"eu_sales\", ascending=False).reset_index(drop=True)\n",
    "top_eu_sales=eu_sales.head()\n",
    "top_eu_sales.plot(kind=\"bar\", x=\"platform\", y=\"eu_sales\")"
   ]
  },
  {
   "cell_type": "markdown",
   "metadata": {},
   "source": [
    "###### Ventas en Japón"
   ]
  },
  {
   "cell_type": "code",
   "execution_count": null,
   "metadata": {
    "trusted": true
   },
   "outputs": [],
   "source": [
    "jp_sales=resent_games_sales.pivot_table(index=\"platform\",values=\"jp_sales\", aggfunc=\"sum\").reset_index().sort_values(by=\"jp_sales\", ascending=False).reset_index(drop=True)\n",
    "top_jp_sales=jp_sales.head()\n",
    "top_jp_sales.plot(kind=\"bar\", x=\"platform\", y=\"jp_sales\")"
   ]
  },
  {
   "cell_type": "markdown",
   "metadata": {},
   "source": [
    "Podemos observa que endos de las tres regiones se prefiere el genero de acción, por lo que es el más rentable con casi 1400MD en ventas, sin embargo yo consideraría la alta oferta de este género teniendo en cuenta que hay mas de 3mil juegos de acción publicádos, personalmente, optaría por shooter en las regiones aparte de japón, dado que es el que es la que tiene un mayor promedio en ventas por juego publicádo."
   ]
  },
  {
   "cell_type": "markdown",
   "metadata": {},
   "source": [
    "<div class=\"alert alert-block alert-success\">\n",
    "<b>Comentario del revisor</b> <a class=\"tocSkip\"></a>\n",
    "\n",
    "Buen análisis de las ventas por región, el género es muy relevante al decidir de que se harán los juegos.\n",
    "</div>"
   ]
  },
  {
   "cell_type": "markdown",
   "metadata": {},
   "source": [
    "##### Efecto en las ventas según su clasificación\n",
    "\n"
   ]
  },
  {
   "cell_type": "code",
   "execution_count": 88,
   "metadata": {
    "trusted": true
   },
   "outputs": [],
   "source": [
    "sales_x_clasifición=resent_games_sales[~resent_games_sales[\"rating\"].isna()]\n"
   ]
  },
  {
   "cell_type": "code",
   "execution_count": 89,
   "metadata": {
    "trusted": true
   },
   "outputs": [
    {
     "data": {
      "text/plain": [
       "<AxesSubplot:xlabel='rating'>"
      ]
     },
     "execution_count": 89,
     "metadata": {},
     "output_type": "execute_result"
    },
    {
     "data": {
      "image/png": "[encoded data removed]",
      "text/plain": [
       "<Figure size 640x480 with 1 Axes>"
      ]
     },
     "metadata": {},
     "output_type": "display_data"
    }
   ],
   "source": [
    "sales_x_clasificación_count=resent_games_sales.pivot_table(index=\"rating\", values=\"total_sales\", aggfunc=\"count\").reset_index().sort_values(by=\"total_sales\", ascending=False).reset_index(drop=True)\n",
    "sales_x_clasificación_count.plot(kind=\"bar\", x=\"rating\", y=\"total_sales\")"
   ]
  },
  {
   "cell_type": "markdown",
   "metadata": {},
   "source": [
    "La gran parte de los videojuegos publicádos despues del 2013, son de clasificación t(teen) y M(Mature)\n"
   ]
  },
  {
   "cell_type": "code",
   "execution_count": 90,
   "metadata": {
    "trusted": true
   },
   "outputs": [
    {
     "data": {
      "text/plain": [
       "<AxesSubplot:xlabel='rating'>"
      ]
     },
     "execution_count": 90,
     "metadata": {},
     "output_type": "execute_result"
    },
    {
     "data": {
      "image/png": "[encoded data removed]",
      "text/plain": [
       "<Figure size 640x480 with 1 Axes>"
      ]
     },
     "metadata": {},
     "output_type": "display_data"
    }
   ],
   "source": [
    "sales_x_clasificación_sum=resent_games_sales.pivot_table(index=\"rating\", values=\"total_sales\", aggfunc=\"sum\").reset_index().sort_values(by=\"total_sales\", ascending=False).reset_index(drop=True)\n",
    "# sales_x_clasificación_sum.plot(kind=\"bar\", x=\"rating\", y=\"total_sales\")\n",
    "sales_media_x_clasificación=sales_x_clasificación_sum.merge(sales_x_clasificación_count, on=\"rating\", )\n",
    "sales_media_x_clasificación\n",
    "sales_media_x_clasificación[\"media\"]=sales_media_x_clasificación[\"total_sales_x\"]/sales_media_x_clasificación[\"total_sales_y\"]\n",
    "sales_media_x_clasificación.plot(kind=\"bar\", x=\"rating\", y=\"media\")"
   ]
  },
  {
   "cell_type": "markdown",
   "metadata": {},
   "source": [
    "A pesar de que la clasificación T tiene un total de ventas bastante alto, la media de éste es la menor, lo que demuestra que realmente no es muy rentable por lo que como analísta recomendaría centrarse en una población madura"
   ]
  },
  {
   "cell_type": "markdown",
   "metadata": {},
   "source": [
    "###### Ventas en Norte América"
   ]
  },
  {
   "cell_type": "code",
   "execution_count": null,
   "metadata": {
    "trusted": true
   },
   "outputs": [],
   "source": [
    "na_sales=sales_x_clasifición.pivot_table(index=\"rating\",values=\"na_sales\", aggfunc=\"sum\" ).reset_index().sort_values(by=\"na_sales\", ascending=False).reset_index(drop=True)\n",
    "\n",
    "top_na_sales= na_sales.head()\n",
    "top_na_sales.plot(kind=\"bar\", x=\"rating\", y=\"na_sales\")"
   ]
  },
  {
   "cell_type": "markdown",
   "metadata": {},
   "source": [
    "###### Ventas en Európa"
   ]
  },
  {
   "cell_type": "code",
   "execution_count": null,
   "metadata": {
    "trusted": true
   },
   "outputs": [],
   "source": [
    "eu_sales=sales_x_clasifición.pivot_table(index=\"rating\",values=\"eu_sales\", aggfunc=\"sum\").reset_index().sort_values(by=\"eu_sales\", ascending=False).reset_index(drop=True)\n",
    "top_eu_sales=eu_sales.head()\n",
    "top_eu_sales.plot(kind=\"bar\", x=\"rating\", y=\"eu_sales\")"
   ]
  },
  {
   "cell_type": "markdown",
   "metadata": {},
   "source": [
    "###### Ventas en Japón"
   ]
  },
  {
   "cell_type": "code",
   "execution_count": null,
   "metadata": {
    "trusted": true
   },
   "outputs": [],
   "source": [
    "jp_sales=sales_x_clasifición.pivot_table(index=\"rating\",values=\"jp_sales\", aggfunc=\"sum\").reset_index().sort_values(by=\"jp_sales\", ascending=False).reset_index(drop=True)\n",
    "top_jp_sales=jp_sales.head()\n",
    "top_jp_sales.plot(kind=\"bar\", x=\"rating\", y=\"jp_sales\")"
   ]
  },
  {
   "cell_type": "markdown",
   "metadata": {},
   "source": [
    "<div class=\"alert alert-block alert-success\">\n",
    "<b>Comentario del revisor</b> <a class=\"tocSkip\"></a>\n",
    "\n",
    "Buen trabajo. El rating también es relevante a la hora de hacer juegos.\n",
    "</div>"
   ]
  },
  {
   "cell_type": "markdown",
   "metadata": {},
   "source": [
    "## Pruebas de hipótesis\n",
    "**En este apartádo, se formuló y comprobó hpótesis que ayuden a determinar una ruta de acción para determinar una campaña efectíva**"
   ]
  },
  {
   "cell_type": "markdown",
   "metadata": {},
   "source": [
    "### ¿Existe diferencia entre las medias  de venta de dos de las platafomas más rentables en el mercado?"
   ]
  },
  {
   "cell_type": "code",
   "execution_count": null,
   "metadata": {
    "trusted": true
   },
   "outputs": [],
   "source": [
    "#h0= la media de ventas de las plataformas es la misma\n",
    "#h1= la media de ventas del XOne es superior a la de PC\n",
    "alpha=0.025"
   ]
  },
  {
   "cell_type": "code",
   "execution_count": 91,
   "metadata": {
    "trusted": true
   },
   "outputs": [],
   "source": [
    "pc_med_sales=games_sales[(games_sales[\"platform\"]==\"PC\")&(~games_sales[\"platform\"].isna())]\n",
    "xone_med_sales=games_sales[(games_sales[\"platform\"]==\"XOne\")&(~games_sales[\"platform\"].isna())]\n",
    "results=sts.ttest_ind(pc_med_sales[\"total_sales\"], xone_med_sales[\"total_sales\"], equal_var=False)\n"
   ]
  },
  {
   "cell_type": "code",
   "execution_count": 92,
   "metadata": {
    "trusted": true
   },
   "outputs": [
    {
     "name": "stdout",
     "output_type": "stream",
     "text": [
      "rechazamos la hipótesis nula\n"
     ]
    }
   ],
   "source": [
    "if (results.pvalue< alpha)&((xone_med_sales[\"total_sales\"].mean())>(pc_med_sales[\"total_sales\"].mean())):\n",
    "    print(\"rechazamos la hipótesis nula\")\n",
    "else:\n",
    "    print(\"aprovamos la hipótesis núla\")"
   ]
  },
  {
   "cell_type": "markdown",
   "metadata": {},
   "source": [
    "### ¿Existe diferencia entre las medias  de venta de dos de los géneros más vendidos?"
   ]
  },
  {
   "cell_type": "code",
   "execution_count": 84,
   "metadata": {
    "trusted": true
   },
   "outputs": [],
   "source": [
    "#h0= la media de ventas de los generos es la misma\n",
    "#h1= la media de ventas de disparos es superior a la de acción\n",
    "alpha=0.05"
   ]
  },
  {
   "cell_type": "code",
   "execution_count": 85,
   "metadata": {
    "trusted": true
   },
   "outputs": [],
   "source": [
    "accion_med_sales=games_sales[(games_sales[\"genre\"]==\"Action\")&(~games_sales[\"platform\"].isna())]\n",
    "deportes_med_sales=games_sales[(games_sales[\"genre\"]==\"shooter\")&(~games_sales[\"platform\"].isna())]\n",
    "results=sts.ttest_ind(accion_med_sales[\"total_sales\"], deportes_med_sales[\"total_sales\"], equal_var=False)\n"
   ]
  },
  {
   "cell_type": "code",
   "execution_count": 86,
   "metadata": {
    "trusted": true
   },
   "outputs": [
    {
     "name": "stdout",
     "output_type": "stream",
     "text": [
      "aprovamos la hipótesis núla\n"
     ]
    }
   ],
   "source": [
    "if (results.pvalue< alpha)&((deportes_med_sales[\"total_sales\"].mean())>(accion_med_sales[\"total_sales\"].mean())):\n",
    "    print(\"rechazamos la hipótesis nula\")\n",
    "else:\n",
    "    print(\"aprovamos la hipótesis núla\")"
   ]
  },
  {
   "cell_type": "markdown",
   "metadata": {},
   "source": [
    "<div class=\"alert alert-block alert-warning\">\n",
    "<b>Comentario del revisor</b> <a class=\"tocSkip\"></a>\n",
    "\n",
    "¡Muy bien! Realizaste de manera correcta la prueba de hipótesis. Solo me gustaría que también se imprimiera el p valor para poder visualizarlo.\n",
    "</div>"
   ]
  },
  {
   "cell_type": "markdown",
   "metadata": {},
   "source": [
    "## Conclusiones Generales"
   ]
  },
  {
   "cell_type": "markdown",
   "metadata": {},
   "source": [
    "# Análisis de la información\n",
    "\n",
    "## Hallazgos principales:\n",
    "1. **La media de ventas de videojuegos general va decreciendo año tras año**, posiblemente por estrategias que unifican juegos en un solo plan que para el usuario es más rentable y atractivo, lo que afecta significativamente las ventas de juegos individuales.\n",
    "\n",
    "2. **Existe una diferencia significativa entre el mercado japonés y otros países**:\n",
    "   - Es clave para diseñar estrategias comerciales.\n",
    "   -  Crear dos estrategias diferenciadas o priorizar la población norteamericana junto con la europea, evitando enfocarse en Japón.\n",
    "\n",
    "3. **Géneros como \"acción\" tienen alta rentabilidad por volumen**, pero su media de ventas es baja debido a la gran cantidad de publicaciones en este género.\n",
    "\n",
    "4. **Relevancia de las calificaciones**:\n",
    "   - Los compradores no consideran relevante la calificación de usuarios.\n",
    "   - La reseña crítica tiene **33% de correlación** con la capacidad de venta.\n",
    "\n",
    "5. **Clasificación y género más rentable**:\n",
    "   - La clasificación \"M\" (maduro) tiene la media de ventas más alta.\n",
    "   - Coincide con que el género de disparos tiene mejor desempeño en ventas promedio y entra en esta categoría.\n",
    "\n",
    "---\n",
    "\n",
    "## Conclusiones de pruebas de hipótesis (95% de certeza):\n",
    "- **\"La media de ventas de XOne es superior a la de PC\"**: Indica que XOne es una de las plataformas más rentables.  \n",
    "- **\"La media de ventas de disparos es superior a la de acción\"**: Este género destaca para proponer nuevas campañas publicitarias."
   ]
  },
  {
   "cell_type": "markdown",
   "metadata": {},
   "source": [
    "<div class=\"alert alert-block alert-success\">\n",
    "<b>Comentario del revisor</b> <a class=\"tocSkip\"></a>\n",
    "\n",
    "Buenas conclusiones basadas en todo lo observado a lo largo del proyecto.\n",
    "</div>"
   ]
  },
  {
   "cell_type": "markdown",
   "metadata": {},
   "source": [
    "<div class=\"alert alert-block alert-success\">\n",
    "<b>Comentario del revisor</b> <a class=\"tocSkip\"></a>\n",
    "\n",
    "¡Hola! Me gustó bastante tu proyecto, está completo y bien realizado, me gustaron especialmente tus gráficas, solo recuerda ordenar las barras de mayor a menor para poder comparar las clases. Deje algunos comentarios amarillos pero son opcionales. Te deseo éxito en los siguientes sprints.\n",
    "    \n",
    "Saludos, Marcos.\n",
    "</div>"
   ]
  },
  {
   "cell_type": "code",
   "execution_count": null,
   "metadata": {
    "trusted": true
   },
   "outputs": [],
   "source": []
  }
 ],
 "metadata": {
  "ExecuteTimeLog": [
   {
    "duration": 8,
    "start_time": "2025-04-24T02:37:46.194Z"
   },
   {
    "duration": 3,
    "start_time": "2025-04-24T02:38:00.678Z"
   },
   {
    "duration": 290,
    "start_time": "2025-04-24T02:38:39.719Z"
   },
   {
    "duration": 2,
    "start_time": "2025-04-24T02:38:55.381Z"
   },
   {
    "duration": 51,
    "start_time": "2025-04-24T02:39:33.047Z"
   },
   {
    "duration": 34,
    "start_time": "2025-04-24T02:41:51.871Z"
   },
   {
    "duration": 174,
    "start_time": "2025-04-24T02:45:44.812Z"
   },
   {
    "duration": 28,
    "start_time": "2025-04-24T02:45:50.538Z"
   },
   {
    "duration": 11,
    "start_time": "2025-04-24T02:45:56.226Z"
   },
   {
    "duration": 20,
    "start_time": "2025-04-24T02:48:02.583Z"
   },
   {
    "duration": 19,
    "start_time": "2025-04-24T02:48:09.715Z"
   },
   {
    "duration": 10,
    "start_time": "2025-04-24T02:48:22.208Z"
   },
   {
    "duration": 10,
    "start_time": "2025-04-24T02:50:41.816Z"
   },
   {
    "duration": 10,
    "start_time": "2025-04-24T02:51:49.232Z"
   },
   {
    "duration": 4,
    "start_time": "2025-04-24T02:51:52.104Z"
   },
   {
    "duration": 3,
    "start_time": "2025-04-24T02:52:25.149Z"
   },
   {
    "duration": 13,
    "start_time": "2025-04-24T02:54:26.836Z"
   },
   {
    "duration": 12,
    "start_time": "2025-04-24T02:54:34.433Z"
   },
   {
    "duration": 4,
    "start_time": "2025-04-24T02:54:40.167Z"
   },
   {
    "duration": 4,
    "start_time": "2025-04-24T02:54:55.388Z"
   },
   {
    "duration": 4,
    "start_time": "2025-04-24T02:55:11.470Z"
   },
   {
    "duration": 3,
    "start_time": "2025-04-24T02:55:52.115Z"
   },
   {
    "duration": 3,
    "start_time": "2025-04-24T02:55:58.759Z"
   },
   {
    "duration": 12,
    "start_time": "2025-04-24T02:56:00.435Z"
   },
   {
    "duration": 3,
    "start_time": "2025-04-24T02:59:26.652Z"
   },
   {
    "duration": 11,
    "start_time": "2025-04-24T03:04:08.811Z"
   },
   {
    "duration": 15,
    "start_time": "2025-04-24T03:06:52.248Z"
   },
   {
    "duration": 9,
    "start_time": "2025-04-24T03:06:59.953Z"
   },
   {
    "duration": 11,
    "start_time": "2025-04-24T03:07:36.197Z"
   },
   {
    "duration": 8,
    "start_time": "2025-04-24T03:07:39.097Z"
   },
   {
    "duration": 14,
    "start_time": "2025-04-24T03:07:45.051Z"
   },
   {
    "duration": 7,
    "start_time": "2025-04-24T03:07:52.277Z"
   },
   {
    "duration": 18,
    "start_time": "2025-04-24T03:08:28.062Z"
   },
   {
    "duration": 8,
    "start_time": "2025-04-24T03:08:41.895Z"
   },
   {
    "duration": 14,
    "start_time": "2025-04-24T03:10:18.561Z"
   },
   {
    "duration": 10,
    "start_time": "2025-04-24T03:10:24.727Z"
   },
   {
    "duration": 6,
    "start_time": "2025-04-24T03:13:28.114Z"
   },
   {
    "duration": 5,
    "start_time": "2025-04-24T03:13:37.788Z"
   },
   {
    "duration": 5,
    "start_time": "2025-04-24T03:14:09.803Z"
   },
   {
    "duration": 11,
    "start_time": "2025-04-24T03:14:40.051Z"
   },
   {
    "duration": 4,
    "start_time": "2025-04-24T03:15:18.891Z"
   },
   {
    "duration": 10,
    "start_time": "2025-04-24T03:15:21.181Z"
   },
   {
    "duration": 18,
    "start_time": "2025-04-24T03:19:13.820Z"
   },
   {
    "duration": 12,
    "start_time": "2025-04-24T03:19:18.283Z"
   },
   {
    "duration": 20,
    "start_time": "2025-04-24T03:19:34.121Z"
   },
   {
    "duration": 11,
    "start_time": "2025-04-24T03:19:38.469Z"
   },
   {
    "duration": 8,
    "start_time": "2025-04-24T03:19:55.018Z"
   },
   {
    "duration": 6,
    "start_time": "2025-04-24T03:20:22.445Z"
   },
   {
    "duration": 8,
    "start_time": "2025-04-24T03:20:24.305Z"
   },
   {
    "duration": 10,
    "start_time": "2025-04-24T03:20:26.918Z"
   },
   {
    "duration": 8,
    "start_time": "2025-04-24T03:20:41.056Z"
   },
   {
    "duration": 6,
    "start_time": "2025-04-24T03:28:14.366Z"
   },
   {
    "duration": 12,
    "start_time": "2025-04-24T03:28:30.996Z"
   },
   {
    "duration": 7,
    "start_time": "2025-04-24T03:28:33.474Z"
   },
   {
    "duration": 5,
    "start_time": "2025-04-24T03:28:38.178Z"
   },
   {
    "duration": 11,
    "start_time": "2025-04-24T03:28:39.709Z"
   },
   {
    "duration": 12,
    "start_time": "2025-04-24T03:29:13.371Z"
   },
   {
    "duration": 13,
    "start_time": "2025-04-24T03:29:17.453Z"
   },
   {
    "duration": 13,
    "start_time": "2025-04-24T03:29:20.200Z"
   },
   {
    "duration": 7,
    "start_time": "2025-04-24T03:29:30.967Z"
   },
   {
    "duration": 5,
    "start_time": "2025-04-24T03:29:49.119Z"
   },
   {
    "duration": 18,
    "start_time": "2025-04-24T03:30:00.439Z"
   },
   {
    "duration": 221,
    "start_time": "2025-04-24T03:30:14.627Z"
   },
   {
    "duration": 16,
    "start_time": "2025-04-24T03:30:22.199Z"
   },
   {
    "duration": 202,
    "start_time": "2025-04-24T03:31:44.797Z"
   },
   {
    "duration": 14,
    "start_time": "2025-04-24T03:31:52.856Z"
   },
   {
    "duration": 19,
    "start_time": "2025-04-24T03:34:01.357Z"
   },
   {
    "duration": 75,
    "start_time": "2025-04-24T03:35:10.880Z"
   },
   {
    "duration": 20,
    "start_time": "2025-04-24T03:35:14.239Z"
   },
   {
    "duration": 8,
    "start_time": "2025-04-24T03:35:58.822Z"
   },
   {
    "duration": 20,
    "start_time": "2025-04-24T03:36:06.236Z"
   },
   {
    "duration": 18,
    "start_time": "2025-04-24T03:36:23.139Z"
   },
   {
    "duration": 9,
    "start_time": "2025-04-24T03:36:28.773Z"
   },
   {
    "duration": 21,
    "start_time": "2025-04-24T03:36:36.021Z"
   },
   {
    "duration": 274,
    "start_time": "2025-04-24T03:44:44.043Z"
   },
   {
    "duration": 22,
    "start_time": "2025-04-24T03:48:56.682Z"
   },
   {
    "duration": 13,
    "start_time": "2025-04-24T03:54:42.948Z"
   },
   {
    "duration": 17,
    "start_time": "2025-04-24T03:54:47.940Z"
   },
   {
    "duration": 7,
    "start_time": "2025-04-24T03:54:49.860Z"
   },
   {
    "duration": 11,
    "start_time": "2025-04-24T03:54:59.860Z"
   },
   {
    "duration": 113,
    "start_time": "2025-04-24T03:58:49.543Z"
   },
   {
    "duration": 5,
    "start_time": "2025-04-24T03:58:53.709Z"
   },
   {
    "duration": 3,
    "start_time": "2025-04-24T03:59:53.578Z"
   },
   {
    "duration": 19,
    "start_time": "2025-04-24T03:59:59.609Z"
   },
   {
    "duration": 19,
    "start_time": "2025-04-24T04:00:18.951Z"
   },
   {
    "duration": 3,
    "start_time": "2025-04-24T04:00:24.571Z"
   },
   {
    "duration": 4,
    "start_time": "2025-04-24T04:00:33.249Z"
   },
   {
    "duration": 38,
    "start_time": "2025-04-24T04:00:40.240Z"
   },
   {
    "duration": 17,
    "start_time": "2025-04-24T04:00:48.999Z"
   },
   {
    "duration": 17,
    "start_time": "2025-04-24T04:00:54.249Z"
   },
   {
    "duration": 17,
    "start_time": "2025-04-24T04:00:55.349Z"
   },
   {
    "duration": 17,
    "start_time": "2025-04-24T04:03:17.561Z"
   },
   {
    "duration": 7,
    "start_time": "2025-04-24T04:03:19.275Z"
   },
   {
    "duration": 4,
    "start_time": "2025-04-24T04:03:43.160Z"
   },
   {
    "duration": 17,
    "start_time": "2025-04-24T04:04:01.982Z"
   },
   {
    "duration": 16,
    "start_time": "2025-04-24T04:04:04.907Z"
   },
   {
    "duration": 7,
    "start_time": "2025-04-24T04:04:06.641Z"
   },
   {
    "duration": 133,
    "start_time": "2025-04-24T04:04:25.916Z"
   },
   {
    "duration": 17,
    "start_time": "2025-04-24T04:05:22.328Z"
   },
   {
    "duration": 16,
    "start_time": "2025-04-24T04:05:25.969Z"
   },
   {
    "duration": 9,
    "start_time": "2025-04-24T04:05:27.247Z"
   },
   {
    "duration": 34,
    "start_time": "2025-04-24T04:05:34.522Z"
   },
   {
    "duration": 17,
    "start_time": "2025-04-24T04:06:07.778Z"
   },
   {
    "duration": 10,
    "start_time": "2025-04-24T04:06:10.236Z"
   },
   {
    "duration": 35,
    "start_time": "2025-04-24T04:06:13.451Z"
   },
   {
    "duration": 19,
    "start_time": "2025-04-24T04:06:39.938Z"
   },
   {
    "duration": 17,
    "start_time": "2025-04-24T04:06:49.609Z"
   },
   {
    "duration": 10,
    "start_time": "2025-04-24T04:06:50.682Z"
   },
   {
    "duration": 34,
    "start_time": "2025-04-24T04:06:54.607Z"
   },
   {
    "duration": 35,
    "start_time": "2025-04-24T04:07:02.920Z"
   },
   {
    "duration": 34,
    "start_time": "2025-04-24T04:07:03.712Z"
   },
   {
    "duration": 35,
    "start_time": "2025-04-24T04:07:03.942Z"
   },
   {
    "duration": 35,
    "start_time": "2025-04-24T04:07:04.131Z"
   },
   {
    "duration": 35,
    "start_time": "2025-04-24T04:07:04.297Z"
   },
   {
    "duration": 36,
    "start_time": "2025-04-24T04:07:04.458Z"
   },
   {
    "duration": 36,
    "start_time": "2025-04-24T04:07:04.617Z"
   },
   {
    "duration": 36,
    "start_time": "2025-04-24T04:07:05.392Z"
   },
   {
    "duration": 17,
    "start_time": "2025-04-24T04:07:07.998Z"
   },
   {
    "duration": 13,
    "start_time": "2025-04-24T04:07:09.914Z"
   },
   {
    "duration": 36,
    "start_time": "2025-04-24T04:07:11.682Z"
   },
   {
    "duration": 19,
    "start_time": "2025-04-24T04:10:20.046Z"
   },
   {
    "duration": 19,
    "start_time": "2025-04-24T04:10:21.265Z"
   },
   {
    "duration": 5,
    "start_time": "2025-04-24T04:10:23.119Z"
   },
   {
    "duration": 16,
    "start_time": "2025-04-24T04:10:24.977Z"
   },
   {
    "duration": 5,
    "start_time": "2025-04-24T04:10:26.625Z"
   },
   {
    "duration": 8,
    "start_time": "2025-04-24T04:10:27.208Z"
   },
   {
    "duration": 14,
    "start_time": "2025-04-24T04:11:03.523Z"
   },
   {
    "duration": 38,
    "start_time": "2025-04-24T04:11:08.769Z"
   },
   {
    "duration": 98,
    "start_time": "2025-04-24T04:11:32.586Z"
   },
   {
    "duration": 43,
    "start_time": "2025-04-24T04:11:37.189Z"
   },
   {
    "duration": 44,
    "start_time": "2025-04-24T04:11:46.256Z"
   },
   {
    "duration": 19,
    "start_time": "2025-04-24T04:12:35.732Z"
   },
   {
    "duration": 19,
    "start_time": "2025-04-24T04:12:47.749Z"
   },
   {
    "duration": 18,
    "start_time": "2025-04-24T04:12:49.542Z"
   },
   {
    "duration": 18,
    "start_time": "2025-04-24T04:12:54.311Z"
   },
   {
    "duration": 12,
    "start_time": "2025-04-24T04:12:55.576Z"
   },
   {
    "duration": 14,
    "start_time": "2025-04-24T04:13:07.346Z"
   },
   {
    "duration": 43,
    "start_time": "2025-04-24T04:14:10.757Z"
   },
   {
    "duration": 47,
    "start_time": "2025-04-24T04:14:27.046Z"
   },
   {
    "duration": 149,
    "start_time": "2025-04-24T04:14:41.412Z"
   },
   {
    "duration": 41,
    "start_time": "2025-04-24T04:14:49.360Z"
   },
   {
    "duration": 42,
    "start_time": "2025-04-24T04:16:13.930Z"
   },
   {
    "duration": 17,
    "start_time": "2025-04-24T04:16:32.555Z"
   },
   {
    "duration": 7,
    "start_time": "2025-04-24T04:16:34.245Z"
   },
   {
    "duration": 46,
    "start_time": "2025-04-24T04:16:36.411Z"
   },
   {
    "duration": 6,
    "start_time": "2025-04-24T04:16:39.685Z"
   },
   {
    "duration": 6,
    "start_time": "2025-04-24T04:16:47.204Z"
   },
   {
    "duration": 14,
    "start_time": "2025-04-24T04:16:52.548Z"
   },
   {
    "duration": 44,
    "start_time": "2025-04-24T04:16:57.578Z"
   },
   {
    "duration": 12,
    "start_time": "2025-04-24T04:17:00.717Z"
   },
   {
    "duration": 44,
    "start_time": "2025-04-24T04:17:08.176Z"
   },
   {
    "duration": 52,
    "start_time": "2025-04-24T04:17:52.028Z"
   },
   {
    "duration": 16,
    "start_time": "2025-04-24T04:18:11.556Z"
   },
   {
    "duration": 11,
    "start_time": "2025-04-24T04:18:13.617Z"
   },
   {
    "duration": 46,
    "start_time": "2025-04-24T04:18:16.342Z"
   },
   {
    "duration": 29,
    "start_time": "2025-04-24T04:21:22.491Z"
   },
   {
    "duration": 19,
    "start_time": "2025-04-24T04:21:32.079Z"
   },
   {
    "duration": 2,
    "start_time": "2025-04-24T04:22:40.995Z"
   },
   {
    "duration": 18,
    "start_time": "2025-04-24T04:22:43.370Z"
   },
   {
    "duration": 168,
    "start_time": "2025-04-25T01:48:14.900Z"
   },
   {
    "duration": 318,
    "start_time": "2025-04-25T01:48:25.823Z"
   },
   {
    "duration": 48,
    "start_time": "2025-04-25T01:48:26.143Z"
   },
   {
    "duration": 6,
    "start_time": "2025-04-25T01:48:26.193Z"
   },
   {
    "duration": 3,
    "start_time": "2025-04-25T01:48:26.201Z"
   },
   {
    "duration": 12,
    "start_time": "2025-04-25T01:48:26.208Z"
   },
   {
    "duration": 19,
    "start_time": "2025-04-25T01:48:26.221Z"
   },
   {
    "duration": 26,
    "start_time": "2025-04-25T01:48:26.243Z"
   },
   {
    "duration": 6,
    "start_time": "2025-04-25T01:48:26.271Z"
   },
   {
    "duration": 12,
    "start_time": "2025-04-25T01:48:26.279Z"
   },
   {
    "duration": 6,
    "start_time": "2025-04-25T01:48:26.293Z"
   },
   {
    "duration": 227,
    "start_time": "2025-04-25T01:48:26.300Z"
   },
   {
    "duration": 0,
    "start_time": "2025-04-25T01:48:26.535Z"
   },
   {
    "duration": 13,
    "start_time": "2025-04-25T01:48:29.855Z"
   },
   {
    "duration": 17,
    "start_time": "2025-04-25T01:48:35.853Z"
   },
   {
    "duration": 17,
    "start_time": "2025-04-25T01:48:55.172Z"
   },
   {
    "duration": 13,
    "start_time": "2025-04-25T01:48:57.371Z"
   },
   {
    "duration": 19,
    "start_time": "2025-04-25T01:49:01.999Z"
   },
   {
    "duration": 11,
    "start_time": "2025-04-25T01:49:03.719Z"
   },
   {
    "duration": 25,
    "start_time": "2025-04-25T01:50:05.228Z"
   },
   {
    "duration": 11,
    "start_time": "2025-04-25T01:53:22.697Z"
   },
   {
    "duration": 18,
    "start_time": "2025-04-25T01:56:41.523Z"
   },
   {
    "duration": 15,
    "start_time": "2025-04-25T02:05:26.499Z"
   },
   {
    "duration": 11,
    "start_time": "2025-04-25T02:05:32.484Z"
   },
   {
    "duration": 10,
    "start_time": "2025-04-25T02:05:52.102Z"
   },
   {
    "duration": 90,
    "start_time": "2025-04-25T02:07:25.473Z"
   },
   {
    "duration": 21,
    "start_time": "2025-04-25T02:07:37.027Z"
   },
   {
    "duration": 19,
    "start_time": "2025-04-25T02:07:41.924Z"
   },
   {
    "duration": 453,
    "start_time": "2025-04-25T02:09:58.287Z"
   },
   {
    "duration": 5,
    "start_time": "2025-04-25T02:10:08.096Z"
   },
   {
    "duration": 4,
    "start_time": "2025-04-25T02:10:51.542Z"
   },
   {
    "duration": 13,
    "start_time": "2025-04-25T02:12:40.379Z"
   },
   {
    "duration": 5,
    "start_time": "2025-04-25T02:13:34.825Z"
   },
   {
    "duration": 4,
    "start_time": "2025-04-25T02:13:49.181Z"
   },
   {
    "duration": 592,
    "start_time": "2025-04-25T02:16:06.800Z"
   },
   {
    "duration": 5,
    "start_time": "2025-04-25T02:16:25.394Z"
   },
   {
    "duration": 17,
    "start_time": "2025-04-25T02:17:38.041Z"
   },
   {
    "duration": 289,
    "start_time": "2025-04-25T02:17:49.578Z"
   },
   {
    "duration": 26,
    "start_time": "2025-04-25T02:17:49.869Z"
   },
   {
    "duration": 6,
    "start_time": "2025-04-25T02:17:49.897Z"
   },
   {
    "duration": 4,
    "start_time": "2025-04-25T02:17:49.904Z"
   },
   {
    "duration": 28,
    "start_time": "2025-04-25T02:17:49.910Z"
   },
   {
    "duration": 8,
    "start_time": "2025-04-25T02:17:49.940Z"
   },
   {
    "duration": 23,
    "start_time": "2025-04-25T02:17:49.950Z"
   },
   {
    "duration": 4,
    "start_time": "2025-04-25T02:17:49.975Z"
   },
   {
    "duration": 6,
    "start_time": "2025-04-25T02:17:49.981Z"
   },
   {
    "duration": 42,
    "start_time": "2025-04-25T02:17:49.989Z"
   },
   {
    "duration": 11,
    "start_time": "2025-04-25T02:17:50.034Z"
   },
   {
    "duration": 18,
    "start_time": "2025-04-25T02:17:50.048Z"
   },
   {
    "duration": 10,
    "start_time": "2025-04-25T02:17:50.068Z"
   },
   {
    "duration": 12,
    "start_time": "2025-04-25T02:17:50.081Z"
   },
   {
    "duration": 49,
    "start_time": "2025-04-25T02:17:50.094Z"
   },
   {
    "duration": 603,
    "start_time": "2025-04-25T02:17:50.145Z"
   },
   {
    "duration": 6,
    "start_time": "2025-04-25T02:18:10.566Z"
   },
   {
    "duration": 4,
    "start_time": "2025-04-25T02:18:23.897Z"
   },
   {
    "duration": 18,
    "start_time": "2025-04-25T02:18:28.464Z"
   },
   {
    "duration": 316,
    "start_time": "2025-04-25T02:18:42.065Z"
   },
   {
    "duration": 23,
    "start_time": "2025-04-25T02:18:42.383Z"
   },
   {
    "duration": 5,
    "start_time": "2025-04-25T02:18:42.408Z"
   },
   {
    "duration": 2,
    "start_time": "2025-04-25T02:18:42.415Z"
   },
   {
    "duration": 11,
    "start_time": "2025-04-25T02:18:42.432Z"
   },
   {
    "duration": 8,
    "start_time": "2025-04-25T02:18:42.445Z"
   },
   {
    "duration": 21,
    "start_time": "2025-04-25T02:18:42.454Z"
   },
   {
    "duration": 4,
    "start_time": "2025-04-25T02:18:42.476Z"
   },
   {
    "duration": 3,
    "start_time": "2025-04-25T02:18:42.482Z"
   },
   {
    "duration": 6,
    "start_time": "2025-04-25T02:18:42.487Z"
   },
   {
    "duration": 42,
    "start_time": "2025-04-25T02:18:42.494Z"
   },
   {
    "duration": 17,
    "start_time": "2025-04-25T02:18:42.538Z"
   },
   {
    "duration": 11,
    "start_time": "2025-04-25T02:18:42.556Z"
   },
   {
    "duration": 10,
    "start_time": "2025-04-25T02:18:42.570Z"
   },
   {
    "duration": 16,
    "start_time": "2025-04-25T02:18:42.582Z"
   },
   {
    "duration": 556,
    "start_time": "2025-04-25T02:18:42.631Z"
   },
   {
    "duration": 5,
    "start_time": "2025-04-25T02:19:12.886Z"
   },
   {
    "duration": 5,
    "start_time": "2025-04-25T02:19:19.429Z"
   },
   {
    "duration": 16,
    "start_time": "2025-04-25T02:21:45.925Z"
   },
   {
    "duration": 287,
    "start_time": "2025-04-25T02:21:52.105Z"
   },
   {
    "duration": 25,
    "start_time": "2025-04-25T02:22:03.187Z"
   },
   {
    "duration": 168,
    "start_time": "2025-04-25T02:22:14.752Z"
   },
   {
    "duration": 10,
    "start_time": "2025-04-25T02:22:21.905Z"
   },
   {
    "duration": 11,
    "start_time": "2025-04-25T02:22:45.631Z"
   },
   {
    "duration": 13,
    "start_time": "2025-04-25T02:22:53.348Z"
   },
   {
    "duration": 8,
    "start_time": "2025-04-25T02:28:40.169Z"
   },
   {
    "duration": 9,
    "start_time": "2025-04-25T02:28:44.633Z"
   },
   {
    "duration": 10,
    "start_time": "2025-04-25T02:29:26.364Z"
   },
   {
    "duration": 9,
    "start_time": "2025-04-25T02:29:54.866Z"
   },
   {
    "duration": 10,
    "start_time": "2025-04-25T02:30:24.467Z"
   },
   {
    "duration": 19,
    "start_time": "2025-04-25T02:30:31.159Z"
   },
   {
    "duration": 43,
    "start_time": "2025-04-25T02:30:38.780Z"
   },
   {
    "duration": 9,
    "start_time": "2025-04-25T02:32:36.658Z"
   },
   {
    "duration": 11,
    "start_time": "2025-04-25T02:32:43.733Z"
   },
   {
    "duration": 22,
    "start_time": "2025-04-25T02:33:31.315Z"
   },
   {
    "duration": 23,
    "start_time": "2025-04-25T02:33:43.429Z"
   },
   {
    "duration": 11,
    "start_time": "2025-04-25T02:33:50.464Z"
   },
   {
    "duration": 12,
    "start_time": "2025-04-25T02:34:02.508Z"
   },
   {
    "duration": 19,
    "start_time": "2025-04-25T02:36:30.912Z"
   },
   {
    "duration": 19,
    "start_time": "2025-04-25T02:36:47.553Z"
   },
   {
    "duration": 10,
    "start_time": "2025-04-25T02:36:55.970Z"
   },
   {
    "duration": 19,
    "start_time": "2025-04-25T02:37:35.395Z"
   },
   {
    "duration": 14,
    "start_time": "2025-04-25T02:37:51.146Z"
   },
   {
    "duration": 18,
    "start_time": "2025-04-25T02:38:27.063Z"
   },
   {
    "duration": 13,
    "start_time": "2025-04-25T02:38:49.404Z"
   },
   {
    "duration": 13,
    "start_time": "2025-04-25T02:41:24.895Z"
   },
   {
    "duration": 21,
    "start_time": "2025-04-25T02:42:07.777Z"
   },
   {
    "duration": 23,
    "start_time": "2025-04-25T02:42:11.760Z"
   },
   {
    "duration": 2429,
    "start_time": "2025-04-25T02:43:24.128Z"
   },
   {
    "duration": 60,
    "start_time": "2025-04-25T02:44:17.274Z"
   },
   {
    "duration": 276,
    "start_time": "2025-04-25T02:44:25.647Z"
   },
   {
    "duration": 8,
    "start_time": "2025-04-25T03:02:20.577Z"
   },
   {
    "duration": 4,
    "start_time": "2025-04-25T03:02:26.959Z"
   },
   {
    "duration": 5,
    "start_time": "2025-04-25T03:02:50.112Z"
   },
   {
    "duration": 5,
    "start_time": "2025-04-25T03:02:59.938Z"
   },
   {
    "duration": 4,
    "start_time": "2025-04-25T03:03:07.548Z"
   },
   {
    "duration": 690,
    "start_time": "2025-04-25T03:03:27.470Z"
   },
   {
    "duration": 256,
    "start_time": "2025-04-25T03:06:34.147Z"
   },
   {
    "duration": 264,
    "start_time": "2025-04-25T03:06:57.777Z"
   },
   {
    "duration": 6,
    "start_time": "2025-04-25T03:07:14.011Z"
   },
   {
    "duration": 254,
    "start_time": "2025-04-25T03:07:22.172Z"
   },
   {
    "duration": 390,
    "start_time": "2025-04-25T03:07:31.285Z"
   },
   {
    "duration": 245,
    "start_time": "2025-04-25T03:10:14.169Z"
   },
   {
    "duration": 18,
    "start_time": "2025-04-25T03:14:56.226Z"
   },
   {
    "duration": 13,
    "start_time": "2025-04-25T03:15:03.288Z"
   },
   {
    "duration": 16,
    "start_time": "2025-04-25T03:15:30.789Z"
   },
   {
    "duration": 14,
    "start_time": "2025-04-25T03:15:53.864Z"
   },
   {
    "duration": 18,
    "start_time": "2025-04-25T03:24:31.975Z"
   },
   {
    "duration": 25,
    "start_time": "2025-04-25T03:24:36.363Z"
   },
   {
    "duration": 23,
    "start_time": "2025-04-25T03:25:46.415Z"
   },
   {
    "duration": 18,
    "start_time": "2025-04-25T03:28:01.953Z"
   },
   {
    "duration": 16,
    "start_time": "2025-04-25T03:29:24.506Z"
   },
   {
    "duration": 19,
    "start_time": "2025-04-25T03:34:36.704Z"
   },
   {
    "duration": 12,
    "start_time": "2025-04-25T03:34:43.584Z"
   },
   {
    "duration": 10,
    "start_time": "2025-04-25T03:35:11.843Z"
   },
   {
    "duration": 21,
    "start_time": "2025-04-25T03:36:00.560Z"
   },
   {
    "duration": 22,
    "start_time": "2025-04-25T03:36:04.981Z"
   },
   {
    "duration": 21,
    "start_time": "2025-04-25T03:36:07.746Z"
   },
   {
    "duration": 2746,
    "start_time": "2025-04-25T17:47:29.707Z"
   },
   {
    "duration": 48,
    "start_time": "2025-04-25T17:47:32.455Z"
   },
   {
    "duration": 5,
    "start_time": "2025-04-25T17:47:32.505Z"
   },
   {
    "duration": 3,
    "start_time": "2025-04-25T17:47:32.513Z"
   },
   {
    "duration": 12,
    "start_time": "2025-04-25T17:47:32.517Z"
   },
   {
    "duration": 8,
    "start_time": "2025-04-25T17:47:32.530Z"
   },
   {
    "duration": 42,
    "start_time": "2025-04-25T17:47:32.539Z"
   },
   {
    "duration": 19,
    "start_time": "2025-04-25T17:47:32.582Z"
   },
   {
    "duration": 4,
    "start_time": "2025-04-25T17:47:32.603Z"
   },
   {
    "duration": 6,
    "start_time": "2025-04-25T17:47:32.611Z"
   },
   {
    "duration": 10,
    "start_time": "2025-04-25T17:47:32.618Z"
   },
   {
    "duration": 17,
    "start_time": "2025-04-25T17:47:32.629Z"
   },
   {
    "duration": 46,
    "start_time": "2025-04-25T17:47:32.648Z"
   },
   {
    "duration": 12,
    "start_time": "2025-04-25T17:47:32.696Z"
   },
   {
    "duration": 16,
    "start_time": "2025-04-25T17:47:32.710Z"
   },
   {
    "duration": 4,
    "start_time": "2025-04-25T17:47:32.728Z"
   },
   {
    "duration": 284,
    "start_time": "2025-04-25T17:47:32.734Z"
   },
   {
    "duration": 9,
    "start_time": "2025-04-25T17:47:33.020Z"
   },
   {
    "duration": 171,
    "start_time": "2025-04-25T17:47:33.031Z"
   },
   {
    "duration": 18,
    "start_time": "2025-04-25T17:48:07.009Z"
   },
   {
    "duration": 6,
    "start_time": "2025-04-25T17:48:14.802Z"
   },
   {
    "duration": 21,
    "start_time": "2025-04-25T17:48:40.086Z"
   },
   {
    "duration": 34,
    "start_time": "2025-04-25T17:49:46.798Z"
   },
   {
    "duration": 22,
    "start_time": "2025-04-25T17:49:58.608Z"
   },
   {
    "duration": 118,
    "start_time": "2025-04-25T17:53:00.230Z"
   },
   {
    "duration": 21,
    "start_time": "2025-04-25T17:53:05.464Z"
   },
   {
    "duration": 29,
    "start_time": "2025-04-25T17:53:07.366Z"
   },
   {
    "duration": 20,
    "start_time": "2025-04-25T17:53:09.401Z"
   },
   {
    "duration": 8,
    "start_time": "2025-04-25T17:55:09.915Z"
   },
   {
    "duration": 17,
    "start_time": "2025-04-25T18:01:12.737Z"
   },
   {
    "duration": 9,
    "start_time": "2025-04-25T18:01:16.494Z"
   },
   {
    "duration": 13,
    "start_time": "2025-04-25T18:01:19.993Z"
   },
   {
    "duration": 18,
    "start_time": "2025-04-25T18:01:33.663Z"
   },
   {
    "duration": 311,
    "start_time": "2025-04-25T18:01:34.942Z"
   },
   {
    "duration": 17,
    "start_time": "2025-04-25T18:03:53.517Z"
   },
   {
    "duration": 41,
    "start_time": "2025-04-25T18:04:05.855Z"
   },
   {
    "duration": 48,
    "start_time": "2025-04-25T18:05:08.034Z"
   },
   {
    "duration": 23,
    "start_time": "2025-04-25T18:05:18.391Z"
   },
   {
    "duration": 20,
    "start_time": "2025-04-25T18:05:33.508Z"
   },
   {
    "duration": 22,
    "start_time": "2025-04-25T18:06:07.089Z"
   },
   {
    "duration": 6,
    "start_time": "2025-04-25T18:06:18.255Z"
   },
   {
    "duration": 3,
    "start_time": "2025-04-25T18:06:26.045Z"
   },
   {
    "duration": 19,
    "start_time": "2025-04-25T18:06:28.609Z"
   },
   {
    "duration": 16,
    "start_time": "2025-04-25T18:06:33.796Z"
   },
   {
    "duration": 23,
    "start_time": "2025-04-25T18:09:14.178Z"
   },
   {
    "duration": 3,
    "start_time": "2025-04-25T18:29:02.265Z"
   },
   {
    "duration": 5,
    "start_time": "2025-04-25T18:29:10.141Z"
   },
   {
    "duration": 40,
    "start_time": "2025-04-25T18:29:42.455Z"
   },
   {
    "duration": 9,
    "start_time": "2025-04-25T18:29:45.435Z"
   },
   {
    "duration": 6,
    "start_time": "2025-04-25T18:29:47.564Z"
   },
   {
    "duration": 19,
    "start_time": "2025-04-25T18:29:49.521Z"
   },
   {
    "duration": 37,
    "start_time": "2025-04-25T18:29:52.362Z"
   },
   {
    "duration": 4,
    "start_time": "2025-04-25T18:32:41.115Z"
   },
   {
    "duration": 17,
    "start_time": "2025-04-25T18:32:56.007Z"
   },
   {
    "duration": 4,
    "start_time": "2025-04-25T18:34:05.426Z"
   },
   {
    "duration": 18,
    "start_time": "2025-04-25T18:34:07.475Z"
   },
   {
    "duration": 17,
    "start_time": "2025-04-25T18:34:15.446Z"
   },
   {
    "duration": 5,
    "start_time": "2025-04-25T18:34:42.368Z"
   },
   {
    "duration": 4,
    "start_time": "2025-04-25T18:35:32.731Z"
   },
   {
    "duration": 18,
    "start_time": "2025-04-25T18:35:39.487Z"
   },
   {
    "duration": 3,
    "start_time": "2025-04-25T18:37:21.642Z"
   },
   {
    "duration": 4,
    "start_time": "2025-04-25T18:37:23.044Z"
   },
   {
    "duration": 3,
    "start_time": "2025-04-25T18:37:25.231Z"
   },
   {
    "duration": 17,
    "start_time": "2025-04-25T18:37:45.130Z"
   },
   {
    "duration": 4,
    "start_time": "2025-04-25T18:38:06.899Z"
   },
   {
    "duration": 4,
    "start_time": "2025-04-25T18:38:08.852Z"
   },
   {
    "duration": 4,
    "start_time": "2025-04-25T18:38:10.298Z"
   },
   {
    "duration": 16,
    "start_time": "2025-04-25T18:38:25.254Z"
   },
   {
    "duration": 13,
    "start_time": "2025-04-25T18:41:18.220Z"
   },
   {
    "duration": 377,
    "start_time": "2025-04-25T18:41:20.462Z"
   },
   {
    "duration": 15,
    "start_time": "2025-04-25T18:41:22.007Z"
   },
   {
    "duration": 14,
    "start_time": "2025-04-25T18:43:26.394Z"
   },
   {
    "duration": 62,
    "start_time": "2025-04-25T18:43:30.983Z"
   },
   {
    "duration": 22,
    "start_time": "2025-04-25T18:43:32.782Z"
   },
   {
    "duration": 3,
    "start_time": "2025-04-25T18:43:46.040Z"
   },
   {
    "duration": 9,
    "start_time": "2025-04-25T18:43:53.624Z"
   },
   {
    "duration": 79,
    "start_time": "2025-04-25T18:43:57.155Z"
   },
   {
    "duration": 8,
    "start_time": "2025-04-25T18:43:58.994Z"
   },
   {
    "duration": 148,
    "start_time": "2025-04-25T18:44:33.690Z"
   },
   {
    "duration": 140,
    "start_time": "2025-04-25T18:45:05.291Z"
   },
   {
    "duration": 24,
    "start_time": "2025-04-25T18:45:25.783Z"
   },
   {
    "duration": 142,
    "start_time": "2025-04-25T18:45:32.757Z"
   },
   {
    "duration": 146,
    "start_time": "2025-04-25T18:45:40.198Z"
   },
   {
    "duration": 198,
    "start_time": "2025-04-25T18:45:48.254Z"
   },
   {
    "duration": 147,
    "start_time": "2025-04-25T18:45:54.813Z"
   },
   {
    "duration": 8,
    "start_time": "2025-04-25T18:53:44.011Z"
   },
   {
    "duration": 6,
    "start_time": "2025-04-25T18:53:48.056Z"
   },
   {
    "duration": 5,
    "start_time": "2025-04-25T18:54:33.242Z"
   },
   {
    "duration": 6,
    "start_time": "2025-04-25T18:54:49.815Z"
   },
   {
    "duration": 10,
    "start_time": "2025-04-25T18:54:55.842Z"
   },
   {
    "duration": 6,
    "start_time": "2025-04-25T18:54:57.326Z"
   },
   {
    "duration": 6,
    "start_time": "2025-04-25T18:55:01.118Z"
   },
   {
    "duration": 6,
    "start_time": "2025-04-25T18:55:07.155Z"
   },
   {
    "duration": 6,
    "start_time": "2025-04-25T18:55:17.057Z"
   },
   {
    "duration": 19,
    "start_time": "2025-04-25T18:55:19.766Z"
   },
   {
    "duration": 6,
    "start_time": "2025-04-25T18:55:22.202Z"
   },
   {
    "duration": 6,
    "start_time": "2025-04-25T18:55:28.742Z"
   },
   {
    "duration": 21,
    "start_time": "2025-04-25T18:56:23.701Z"
   },
   {
    "duration": 6,
    "start_time": "2025-04-25T18:56:34.520Z"
   },
   {
    "duration": 6,
    "start_time": "2025-04-25T18:57:26.475Z"
   },
   {
    "duration": 834,
    "start_time": "2025-04-25T18:58:35.886Z"
   },
   {
    "duration": 24,
    "start_time": "2025-04-25T18:58:36.723Z"
   },
   {
    "duration": 13,
    "start_time": "2025-04-25T18:58:36.748Z"
   },
   {
    "duration": 3,
    "start_time": "2025-04-25T18:58:36.763Z"
   },
   {
    "duration": 11,
    "start_time": "2025-04-25T18:58:36.771Z"
   },
   {
    "duration": 8,
    "start_time": "2025-04-25T18:58:36.783Z"
   },
   {
    "duration": 35,
    "start_time": "2025-04-25T18:58:36.793Z"
   },
   {
    "duration": 5,
    "start_time": "2025-04-25T18:58:36.830Z"
   },
   {
    "duration": 7,
    "start_time": "2025-04-25T18:58:36.837Z"
   },
   {
    "duration": 6,
    "start_time": "2025-04-25T18:58:36.846Z"
   },
   {
    "duration": 39,
    "start_time": "2025-04-25T18:58:36.854Z"
   },
   {
    "duration": 18,
    "start_time": "2025-04-25T18:58:36.901Z"
   },
   {
    "duration": 10,
    "start_time": "2025-04-25T18:58:36.921Z"
   },
   {
    "duration": 10,
    "start_time": "2025-04-25T18:58:36.934Z"
   },
   {
    "duration": 16,
    "start_time": "2025-04-25T18:58:36.946Z"
   },
   {
    "duration": 21,
    "start_time": "2025-04-25T18:58:36.972Z"
   },
   {
    "duration": 303,
    "start_time": "2025-04-25T18:58:36.995Z"
   },
   {
    "duration": 12,
    "start_time": "2025-04-25T18:58:37.300Z"
   },
   {
    "duration": 5,
    "start_time": "2025-04-25T18:58:37.314Z"
   },
   {
    "duration": 21,
    "start_time": "2025-04-25T18:58:37.321Z"
   },
   {
    "duration": 10,
    "start_time": "2025-04-25T18:58:37.344Z"
   },
   {
    "duration": 289,
    "start_time": "2025-04-25T18:58:37.356Z"
   },
   {
    "duration": 0,
    "start_time": "2025-04-25T18:58:37.647Z"
   },
   {
    "duration": 0,
    "start_time": "2025-04-25T18:58:37.649Z"
   },
   {
    "duration": 0,
    "start_time": "2025-04-25T18:58:37.650Z"
   },
   {
    "duration": 0,
    "start_time": "2025-04-25T18:58:37.652Z"
   },
   {
    "duration": 0,
    "start_time": "2025-04-25T18:58:37.653Z"
   },
   {
    "duration": 155,
    "start_time": "2025-04-25T18:58:46.343Z"
   },
   {
    "duration": 166,
    "start_time": "2025-04-25T18:58:49.443Z"
   },
   {
    "duration": 140,
    "start_time": "2025-04-25T18:58:52.021Z"
   },
   {
    "duration": 208,
    "start_time": "2025-04-25T18:58:54.575Z"
   },
   {
    "duration": 134,
    "start_time": "2025-04-25T18:58:57.222Z"
   },
   {
    "duration": 8,
    "start_time": "2025-04-25T19:17:29.291Z"
   },
   {
    "duration": 36,
    "start_time": "2025-04-25T19:18:18.168Z"
   },
   {
    "duration": 18,
    "start_time": "2025-04-25T19:19:05.204Z"
   },
   {
    "duration": 14,
    "start_time": "2025-04-25T19:21:15.752Z"
   },
   {
    "duration": 6,
    "start_time": "2025-04-25T19:21:34.967Z"
   },
   {
    "duration": 41,
    "start_time": "2025-04-25T19:21:53.856Z"
   },
   {
    "duration": 16,
    "start_time": "2025-04-25T19:22:48.995Z"
   },
   {
    "duration": 5,
    "start_time": "2025-04-25T19:22:54.039Z"
   },
   {
    "duration": 4,
    "start_time": "2025-04-25T19:23:17.936Z"
   },
   {
    "duration": 6,
    "start_time": "2025-04-25T19:23:22.996Z"
   },
   {
    "duration": 15,
    "start_time": "2025-04-25T19:23:31.542Z"
   },
   {
    "duration": 11,
    "start_time": "2025-04-25T19:25:05.508Z"
   },
   {
    "duration": 20,
    "start_time": "2025-04-25T19:25:27.284Z"
   },
   {
    "duration": 18,
    "start_time": "2025-04-25T19:25:47.397Z"
   },
   {
    "duration": 16,
    "start_time": "2025-04-25T19:26:15.351Z"
   },
   {
    "duration": 10,
    "start_time": "2025-04-25T19:26:35.994Z"
   },
   {
    "duration": 12,
    "start_time": "2025-04-25T19:27:03.256Z"
   },
   {
    "duration": 12,
    "start_time": "2025-04-25T19:27:17.313Z"
   },
   {
    "duration": 16,
    "start_time": "2025-04-25T19:27:42.487Z"
   },
   {
    "duration": 6,
    "start_time": "2025-04-25T19:28:13.659Z"
   },
   {
    "duration": 12,
    "start_time": "2025-04-25T19:28:22.999Z"
   },
   {
    "duration": 14,
    "start_time": "2025-04-25T19:28:32.892Z"
   },
   {
    "duration": 13,
    "start_time": "2025-04-25T19:36:08.391Z"
   },
   {
    "duration": 15,
    "start_time": "2025-04-25T19:36:18.197Z"
   },
   {
    "duration": 11,
    "start_time": "2025-04-25T19:36:21.011Z"
   },
   {
    "duration": 12,
    "start_time": "2025-04-25T19:36:43.195Z"
   },
   {
    "duration": 12,
    "start_time": "2025-04-25T19:36:48.540Z"
   },
   {
    "duration": 134,
    "start_time": "2025-04-25T19:37:42.800Z"
   },
   {
    "duration": 804,
    "start_time": "2025-04-25T19:39:25.546Z"
   },
   {
    "duration": 53,
    "start_time": "2025-04-25T19:39:26.353Z"
   },
   {
    "duration": 4,
    "start_time": "2025-04-25T19:39:26.408Z"
   },
   {
    "duration": 3,
    "start_time": "2025-04-25T19:39:26.414Z"
   },
   {
    "duration": 10,
    "start_time": "2025-04-25T19:39:26.420Z"
   },
   {
    "duration": 7,
    "start_time": "2025-04-25T19:39:26.432Z"
   },
   {
    "duration": 49,
    "start_time": "2025-04-25T19:39:26.440Z"
   },
   {
    "duration": 6,
    "start_time": "2025-04-25T19:39:26.497Z"
   },
   {
    "duration": 3,
    "start_time": "2025-04-25T19:39:26.505Z"
   },
   {
    "duration": 6,
    "start_time": "2025-04-25T19:39:26.509Z"
   },
   {
    "duration": 10,
    "start_time": "2025-04-25T19:39:26.517Z"
   },
   {
    "duration": 17,
    "start_time": "2025-04-25T19:39:26.529Z"
   },
   {
    "duration": 11,
    "start_time": "2025-04-25T19:39:26.547Z"
   },
   {
    "duration": 24,
    "start_time": "2025-04-25T19:39:26.574Z"
   },
   {
    "duration": 16,
    "start_time": "2025-04-25T19:39:26.600Z"
   },
   {
    "duration": 4,
    "start_time": "2025-04-25T19:39:26.617Z"
   },
   {
    "duration": 288,
    "start_time": "2025-04-25T19:39:26.623Z"
   },
   {
    "duration": 10,
    "start_time": "2025-04-25T19:39:26.912Z"
   },
   {
    "duration": 5,
    "start_time": "2025-04-25T19:39:26.924Z"
   },
   {
    "duration": 19,
    "start_time": "2025-04-25T19:39:26.930Z"
   },
   {
    "duration": 30,
    "start_time": "2025-04-25T19:39:26.951Z"
   },
   {
    "duration": 295,
    "start_time": "2025-04-25T19:39:26.990Z"
   },
   {
    "duration": 0,
    "start_time": "2025-04-25T19:39:27.287Z"
   },
   {
    "duration": 0,
    "start_time": "2025-04-25T19:39:27.288Z"
   },
   {
    "duration": 0,
    "start_time": "2025-04-25T19:39:27.289Z"
   },
   {
    "duration": 0,
    "start_time": "2025-04-25T19:39:27.290Z"
   },
   {
    "duration": 0,
    "start_time": "2025-04-25T19:39:27.291Z"
   },
   {
    "duration": 0,
    "start_time": "2025-04-25T19:39:27.292Z"
   },
   {
    "duration": 0,
    "start_time": "2025-04-25T19:39:27.293Z"
   },
   {
    "duration": 0,
    "start_time": "2025-04-25T19:39:27.294Z"
   },
   {
    "duration": 14,
    "start_time": "2025-04-25T19:39:28.551Z"
   },
   {
    "duration": 15,
    "start_time": "2025-04-25T19:39:28.798Z"
   },
   {
    "duration": 11,
    "start_time": "2025-04-25T19:39:35.799Z"
   },
   {
    "duration": 3815,
    "start_time": "2025-04-25T19:39:41.130Z"
   },
   {
    "duration": 20,
    "start_time": "2025-04-25T19:39:58.055Z"
   },
   {
    "duration": 16,
    "start_time": "2025-04-25T19:40:25.908Z"
   },
   {
    "duration": 4,
    "start_time": "2025-04-25T19:41:31.945Z"
   },
   {
    "duration": 14,
    "start_time": "2025-04-25T19:41:53.636Z"
   },
   {
    "duration": 4,
    "start_time": "2025-04-25T19:41:56.897Z"
   },
   {
    "duration": 36,
    "start_time": "2025-04-25T19:42:00.455Z"
   },
   {
    "duration": 8,
    "start_time": "2025-04-25T19:45:34.328Z"
   },
   {
    "duration": 16,
    "start_time": "2025-04-25T19:46:02.086Z"
   },
   {
    "duration": 19,
    "start_time": "2025-04-25T19:46:22.393Z"
   },
   {
    "duration": 4,
    "start_time": "2025-04-25T19:46:38.463Z"
   },
   {
    "duration": 16,
    "start_time": "2025-04-25T19:46:41.195Z"
   },
   {
    "duration": 103,
    "start_time": "2025-04-25T19:46:47.917Z"
   },
   {
    "duration": 8,
    "start_time": "2025-04-25T19:47:22.732Z"
   },
   {
    "duration": 123,
    "start_time": "2025-04-25T19:47:58.178Z"
   },
   {
    "duration": 16,
    "start_time": "2025-04-25T19:48:29.616Z"
   },
   {
    "duration": 12,
    "start_time": "2025-04-25T19:48:34.949Z"
   },
   {
    "duration": 11,
    "start_time": "2025-04-25T19:48:50.017Z"
   },
   {
    "duration": 4,
    "start_time": "2025-04-25T19:50:16.459Z"
   },
   {
    "duration": 142,
    "start_time": "2025-04-25T19:51:44.251Z"
   },
   {
    "duration": 18,
    "start_time": "2025-04-25T19:51:55.694Z"
   },
   {
    "duration": 12,
    "start_time": "2025-04-25T19:51:58.022Z"
   },
   {
    "duration": 9,
    "start_time": "2025-04-25T19:52:00.644Z"
   },
   {
    "duration": 88,
    "start_time": "2025-04-25T19:52:02.159Z"
   },
   {
    "duration": 92,
    "start_time": "2025-04-25T19:52:04.508Z"
   },
   {
    "duration": 17,
    "start_time": "2025-04-25T19:52:12.069Z"
   },
   {
    "duration": 13,
    "start_time": "2025-04-25T19:52:14.891Z"
   },
   {
    "duration": 10,
    "start_time": "2025-04-25T19:52:16.988Z"
   },
   {
    "duration": 100,
    "start_time": "2025-04-25T19:52:18.595Z"
   },
   {
    "duration": 99,
    "start_time": "2025-04-25T19:52:20.685Z"
   },
   {
    "duration": 115,
    "start_time": "2025-04-25T19:53:15.272Z"
   },
   {
    "duration": 194,
    "start_time": "2025-04-25T19:53:48.749Z"
   },
   {
    "duration": 15,
    "start_time": "2025-04-25T19:54:10.649Z"
   },
   {
    "duration": 111,
    "start_time": "2025-04-25T19:54:31.288Z"
   },
   {
    "duration": 108,
    "start_time": "2025-04-25T19:54:59.364Z"
   },
   {
    "duration": 104,
    "start_time": "2025-04-25T19:55:28.958Z"
   },
   {
    "duration": 2524,
    "start_time": "2025-04-26T03:39:14.194Z"
   },
   {
    "duration": 37,
    "start_time": "2025-04-26T03:39:16.720Z"
   },
   {
    "duration": 4,
    "start_time": "2025-04-26T03:39:16.758Z"
   },
   {
    "duration": 3,
    "start_time": "2025-04-26T03:39:16.765Z"
   },
   {
    "duration": 18,
    "start_time": "2025-04-26T03:39:16.770Z"
   },
   {
    "duration": 9,
    "start_time": "2025-04-26T03:39:16.789Z"
   },
   {
    "duration": 22,
    "start_time": "2025-04-26T03:39:16.799Z"
   },
   {
    "duration": 4,
    "start_time": "2025-04-26T03:39:16.823Z"
   },
   {
    "duration": 3,
    "start_time": "2025-04-26T03:39:16.829Z"
   },
   {
    "duration": 6,
    "start_time": "2025-04-26T03:39:16.834Z"
   },
   {
    "duration": 9,
    "start_time": "2025-04-26T03:39:16.842Z"
   },
   {
    "duration": 17,
    "start_time": "2025-04-26T03:39:16.887Z"
   },
   {
    "duration": 10,
    "start_time": "2025-04-26T03:39:16.905Z"
   },
   {
    "duration": 11,
    "start_time": "2025-04-26T03:39:16.916Z"
   },
   {
    "duration": 16,
    "start_time": "2025-04-26T03:39:16.928Z"
   },
   {
    "duration": 3,
    "start_time": "2025-04-26T03:39:16.946Z"
   },
   {
    "duration": 277,
    "start_time": "2025-04-26T03:39:16.951Z"
   },
   {
    "duration": 9,
    "start_time": "2025-04-26T03:39:17.230Z"
   },
   {
    "duration": 6,
    "start_time": "2025-04-26T03:39:17.240Z"
   },
   {
    "duration": 39,
    "start_time": "2025-04-26T03:39:17.247Z"
   },
   {
    "duration": 9,
    "start_time": "2025-04-26T03:39:17.288Z"
   },
   {
    "duration": 275,
    "start_time": "2025-04-26T03:39:17.299Z"
   },
   {
    "duration": 0,
    "start_time": "2025-04-26T03:39:17.576Z"
   },
   {
    "duration": 0,
    "start_time": "2025-04-26T03:39:17.577Z"
   },
   {
    "duration": 0,
    "start_time": "2025-04-26T03:39:17.579Z"
   },
   {
    "duration": 0,
    "start_time": "2025-04-26T03:39:17.579Z"
   },
   {
    "duration": 0,
    "start_time": "2025-04-26T03:39:17.586Z"
   },
   {
    "duration": 0,
    "start_time": "2025-04-26T03:39:17.587Z"
   },
   {
    "duration": 0,
    "start_time": "2025-04-26T03:39:17.588Z"
   },
   {
    "duration": 0,
    "start_time": "2025-04-26T03:39:17.590Z"
   },
   {
    "duration": 0,
    "start_time": "2025-04-26T03:39:17.591Z"
   },
   {
    "duration": 0,
    "start_time": "2025-04-26T03:39:17.592Z"
   },
   {
    "duration": 0,
    "start_time": "2025-04-26T03:39:17.593Z"
   },
   {
    "duration": 0,
    "start_time": "2025-04-26T03:39:17.595Z"
   },
   {
    "duration": 0,
    "start_time": "2025-04-26T03:39:17.596Z"
   },
   {
    "duration": 0,
    "start_time": "2025-04-26T03:39:17.597Z"
   },
   {
    "duration": 14,
    "start_time": "2025-04-26T03:40:25.068Z"
   },
   {
    "duration": 817,
    "start_time": "2025-04-26T03:40:31.059Z"
   },
   {
    "duration": 25,
    "start_time": "2025-04-26T03:40:31.879Z"
   },
   {
    "duration": 4,
    "start_time": "2025-04-26T03:40:31.905Z"
   },
   {
    "duration": 3,
    "start_time": "2025-04-26T03:40:31.911Z"
   },
   {
    "duration": 11,
    "start_time": "2025-04-26T03:40:31.916Z"
   },
   {
    "duration": 7,
    "start_time": "2025-04-26T03:40:31.929Z"
   },
   {
    "duration": 56,
    "start_time": "2025-04-26T03:40:31.938Z"
   },
   {
    "duration": 4,
    "start_time": "2025-04-26T03:40:31.995Z"
   },
   {
    "duration": 4,
    "start_time": "2025-04-26T03:40:32.001Z"
   },
   {
    "duration": 7,
    "start_time": "2025-04-26T03:40:32.009Z"
   },
   {
    "duration": 13,
    "start_time": "2025-04-26T03:40:32.018Z"
   },
   {
    "duration": 19,
    "start_time": "2025-04-26T03:40:32.032Z"
   },
   {
    "duration": 43,
    "start_time": "2025-04-26T03:40:32.052Z"
   },
   {
    "duration": 18,
    "start_time": "2025-04-26T03:40:32.096Z"
   },
   {
    "duration": 15,
    "start_time": "2025-04-26T03:40:32.116Z"
   },
   {
    "duration": 4,
    "start_time": "2025-04-26T03:40:32.133Z"
   },
   {
    "duration": 271,
    "start_time": "2025-04-26T03:40:32.138Z"
   },
   {
    "duration": 8,
    "start_time": "2025-04-26T03:40:32.411Z"
   },
   {
    "duration": 8,
    "start_time": "2025-04-26T03:40:32.421Z"
   },
   {
    "duration": 27,
    "start_time": "2025-04-26T03:40:32.431Z"
   },
   {
    "duration": 32,
    "start_time": "2025-04-26T03:40:32.462Z"
   },
   {
    "duration": 295,
    "start_time": "2025-04-26T03:40:32.496Z"
   },
   {
    "duration": 0,
    "start_time": "2025-04-26T03:40:32.794Z"
   },
   {
    "duration": 0,
    "start_time": "2025-04-26T03:40:32.796Z"
   },
   {
    "duration": 0,
    "start_time": "2025-04-26T03:40:32.797Z"
   },
   {
    "duration": 0,
    "start_time": "2025-04-26T03:40:32.799Z"
   },
   {
    "duration": 0,
    "start_time": "2025-04-26T03:40:32.801Z"
   },
   {
    "duration": 0,
    "start_time": "2025-04-26T03:40:32.802Z"
   },
   {
    "duration": 0,
    "start_time": "2025-04-26T03:40:32.804Z"
   },
   {
    "duration": 0,
    "start_time": "2025-04-26T03:40:32.806Z"
   },
   {
    "duration": 0,
    "start_time": "2025-04-26T03:40:32.808Z"
   },
   {
    "duration": 0,
    "start_time": "2025-04-26T03:40:32.809Z"
   },
   {
    "duration": 0,
    "start_time": "2025-04-26T03:40:32.811Z"
   },
   {
    "duration": 0,
    "start_time": "2025-04-26T03:40:32.813Z"
   },
   {
    "duration": 0,
    "start_time": "2025-04-26T03:40:32.814Z"
   },
   {
    "duration": 0,
    "start_time": "2025-04-26T03:40:32.816Z"
   },
   {
    "duration": 17,
    "start_time": "2025-04-26T03:40:33.887Z"
   },
   {
    "duration": 16,
    "start_time": "2025-04-26T03:40:38.055Z"
   },
   {
    "duration": 12,
    "start_time": "2025-04-26T03:40:40.354Z"
   },
   {
    "duration": 11,
    "start_time": "2025-04-26T03:40:42.063Z"
   },
   {
    "duration": 99,
    "start_time": "2025-04-26T03:40:43.435Z"
   },
   {
    "duration": 103,
    "start_time": "2025-04-26T03:40:45.901Z"
   },
   {
    "duration": 99,
    "start_time": "2025-04-26T03:40:48.704Z"
   },
   {
    "duration": 104,
    "start_time": "2025-04-26T03:40:52.069Z"
   },
   {
    "duration": 108,
    "start_time": "2025-04-26T03:40:55.332Z"
   },
   {
    "duration": 106,
    "start_time": "2025-04-26T03:40:58.130Z"
   },
   {
    "duration": 16,
    "start_time": "2025-04-26T03:48:52.008Z"
   },
   {
    "duration": 17,
    "start_time": "2025-04-26T03:49:19.988Z"
   },
   {
    "duration": 10,
    "start_time": "2025-04-26T03:50:43.731Z"
   },
   {
    "duration": 10,
    "start_time": "2025-04-26T03:51:03.934Z"
   },
   {
    "duration": 137,
    "start_time": "2025-04-26T03:51:10.667Z"
   },
   {
    "duration": 177,
    "start_time": "2025-04-26T03:51:22.286Z"
   },
   {
    "duration": 113,
    "start_time": "2025-04-26T03:52:05.440Z"
   },
   {
    "duration": 218,
    "start_time": "2025-04-26T03:52:21.476Z"
   },
   {
    "duration": 242,
    "start_time": "2025-04-26T03:52:30.806Z"
   },
   {
    "duration": 17,
    "start_time": "2025-04-26T03:59:36.624Z"
   },
   {
    "duration": 15,
    "start_time": "2025-04-26T04:01:16.214Z"
   },
   {
    "duration": 16,
    "start_time": "2025-04-26T04:01:48.546Z"
   },
   {
    "duration": 18,
    "start_time": "2025-04-26T04:02:08.870Z"
   },
   {
    "duration": 2702,
    "start_time": "2025-04-27T00:11:46.280Z"
   },
   {
    "duration": 36,
    "start_time": "2025-04-27T00:11:48.984Z"
   },
   {
    "duration": 4,
    "start_time": "2025-04-27T00:11:49.022Z"
   },
   {
    "duration": 3,
    "start_time": "2025-04-27T00:11:49.028Z"
   },
   {
    "duration": 30,
    "start_time": "2025-04-27T00:11:49.032Z"
   },
   {
    "duration": 9,
    "start_time": "2025-04-27T00:11:49.067Z"
   },
   {
    "duration": 20,
    "start_time": "2025-04-27T00:11:49.078Z"
   },
   {
    "duration": 3,
    "start_time": "2025-04-27T00:11:49.100Z"
   },
   {
    "duration": 4,
    "start_time": "2025-04-27T00:11:49.104Z"
   },
   {
    "duration": 6,
    "start_time": "2025-04-27T00:11:49.112Z"
   },
   {
    "duration": 10,
    "start_time": "2025-04-27T00:11:49.120Z"
   },
   {
    "duration": 35,
    "start_time": "2025-04-27T00:11:49.147Z"
   },
   {
    "duration": 11,
    "start_time": "2025-04-27T00:11:49.184Z"
   },
   {
    "duration": 11,
    "start_time": "2025-04-27T00:11:49.197Z"
   },
   {
    "duration": 16,
    "start_time": "2025-04-27T00:11:49.209Z"
   },
   {
    "duration": 5,
    "start_time": "2025-04-27T00:11:49.226Z"
   },
   {
    "duration": 284,
    "start_time": "2025-04-27T00:11:49.232Z"
   },
   {
    "duration": 9,
    "start_time": "2025-04-27T00:11:49.518Z"
   },
   {
    "duration": 41,
    "start_time": "2025-04-27T00:11:49.529Z"
   },
   {
    "duration": 20,
    "start_time": "2025-04-27T00:11:49.572Z"
   },
   {
    "duration": 9,
    "start_time": "2025-04-27T00:11:49.594Z"
   },
   {
    "duration": 244,
    "start_time": "2025-04-27T00:11:49.606Z"
   },
   {
    "duration": 0,
    "start_time": "2025-04-27T00:11:49.852Z"
   },
   {
    "duration": 0,
    "start_time": "2025-04-27T00:11:49.855Z"
   },
   {
    "duration": 0,
    "start_time": "2025-04-27T00:11:49.856Z"
   },
   {
    "duration": 0,
    "start_time": "2025-04-27T00:11:49.857Z"
   },
   {
    "duration": 0,
    "start_time": "2025-04-27T00:11:49.857Z"
   },
   {
    "duration": 0,
    "start_time": "2025-04-27T00:11:49.862Z"
   },
   {
    "duration": 0,
    "start_time": "2025-04-27T00:11:49.863Z"
   },
   {
    "duration": 0,
    "start_time": "2025-04-27T00:11:49.864Z"
   },
   {
    "duration": 0,
    "start_time": "2025-04-27T00:11:49.864Z"
   },
   {
    "duration": 0,
    "start_time": "2025-04-27T00:11:49.865Z"
   },
   {
    "duration": 0,
    "start_time": "2025-04-27T00:11:49.866Z"
   },
   {
    "duration": 0,
    "start_time": "2025-04-27T00:11:49.866Z"
   },
   {
    "duration": 0,
    "start_time": "2025-04-27T00:11:49.867Z"
   },
   {
    "duration": 0,
    "start_time": "2025-04-27T00:11:49.868Z"
   },
   {
    "duration": 0,
    "start_time": "2025-04-27T00:11:49.868Z"
   },
   {
    "duration": 0,
    "start_time": "2025-04-27T00:11:49.869Z"
   },
   {
    "duration": 263,
    "start_time": "2025-04-27T00:13:54.009Z"
   },
   {
    "duration": 78,
    "start_time": "2025-04-27T00:13:59.827Z"
   },
   {
    "duration": 5,
    "start_time": "2025-04-27T00:14:09.263Z"
   },
   {
    "duration": 8,
    "start_time": "2025-04-27T00:14:12.882Z"
   },
   {
    "duration": 6,
    "start_time": "2025-04-27T00:14:14.972Z"
   },
   {
    "duration": 20,
    "start_time": "2025-04-27T00:14:18.586Z"
   },
   {
    "duration": 10,
    "start_time": "2025-04-27T00:14:21.035Z"
   },
   {
    "duration": 18,
    "start_time": "2025-04-27T00:14:22.637Z"
   },
   {
    "duration": 138,
    "start_time": "2025-04-27T00:14:25.984Z"
   },
   {
    "duration": 147,
    "start_time": "2025-04-27T00:14:34.803Z"
   },
   {
    "duration": 135,
    "start_time": "2025-04-27T00:14:36.888Z"
   },
   {
    "duration": 159,
    "start_time": "2025-04-27T00:14:39.958Z"
   },
   {
    "duration": 202,
    "start_time": "2025-04-27T00:14:41.868Z"
   },
   {
    "duration": 140,
    "start_time": "2025-04-27T00:14:45.294Z"
   },
   {
    "duration": 14,
    "start_time": "2025-04-27T00:14:49.210Z"
   },
   {
    "duration": 16,
    "start_time": "2025-04-27T00:14:51.809Z"
   },
   {
    "duration": 11,
    "start_time": "2025-04-27T00:14:54.022Z"
   },
   {
    "duration": 8,
    "start_time": "2025-04-27T00:14:56.774Z"
   },
   {
    "duration": 103,
    "start_time": "2025-04-27T00:14:59.113Z"
   },
   {
    "duration": 104,
    "start_time": "2025-04-27T00:15:01.972Z"
   },
   {
    "duration": 139,
    "start_time": "2025-04-27T00:15:04.237Z"
   },
   {
    "duration": 111,
    "start_time": "2025-04-27T00:15:06.764Z"
   },
   {
    "duration": 108,
    "start_time": "2025-04-27T00:15:08.686Z"
   },
   {
    "duration": 143,
    "start_time": "2025-04-27T00:15:11.327Z"
   },
   {
    "duration": 9,
    "start_time": "2025-04-27T00:26:10.331Z"
   },
   {
    "duration": 7,
    "start_time": "2025-04-27T00:27:30.777Z"
   },
   {
    "duration": 7,
    "start_time": "2025-04-27T00:27:30.889Z"
   },
   {
    "duration": 10,
    "start_time": "2025-04-27T00:27:40.817Z"
   },
   {
    "duration": 163,
    "start_time": "2025-04-27T00:28:15.834Z"
   },
   {
    "duration": 288,
    "start_time": "2025-04-27T00:30:10.902Z"
   },
   {
    "duration": 190,
    "start_time": "2025-04-27T00:30:30.727Z"
   },
   {
    "duration": 583,
    "start_time": "2025-04-27T00:32:24.155Z"
   },
   {
    "duration": 31,
    "start_time": "2025-04-27T00:33:11.247Z"
   },
   {
    "duration": 200,
    "start_time": "2025-04-27T00:33:58.121Z"
   },
   {
    "duration": 200,
    "start_time": "2025-04-27T00:34:23.774Z"
   },
   {
    "duration": 7,
    "start_time": "2025-04-27T00:34:38.001Z"
   },
   {
    "duration": 209,
    "start_time": "2025-04-27T00:35:40.287Z"
   },
   {
    "duration": 228,
    "start_time": "2025-04-27T00:35:49.440Z"
   },
   {
    "duration": 156,
    "start_time": "2025-04-27T00:36:10.581Z"
   },
   {
    "duration": 187,
    "start_time": "2025-04-27T00:38:35.652Z"
   },
   {
    "duration": 187,
    "start_time": "2025-04-27T00:39:04.742Z"
   },
   {
    "duration": 16,
    "start_time": "2025-04-27T00:42:43.710Z"
   },
   {
    "duration": 22,
    "start_time": "2025-04-27T00:43:01.329Z"
   },
   {
    "duration": 8,
    "start_time": "2025-04-27T00:43:34.880Z"
   },
   {
    "duration": 169,
    "start_time": "2025-04-27T00:57:02.626Z"
   },
   {
    "duration": 12,
    "start_time": "2025-04-27T01:07:52.205Z"
   },
   {
    "duration": 964,
    "start_time": "2025-04-27T01:08:04.262Z"
   },
   {
    "duration": 62,
    "start_time": "2025-04-27T01:08:05.228Z"
   },
   {
    "duration": 12,
    "start_time": "2025-04-27T01:08:05.299Z"
   },
   {
    "duration": 5,
    "start_time": "2025-04-27T01:08:05.316Z"
   },
   {
    "duration": 11,
    "start_time": "2025-04-27T01:08:05.324Z"
   },
   {
    "duration": 33,
    "start_time": "2025-04-27T01:08:05.337Z"
   },
   {
    "duration": 42,
    "start_time": "2025-04-27T01:08:05.372Z"
   },
   {
    "duration": 4,
    "start_time": "2025-04-27T01:08:05.416Z"
   },
   {
    "duration": 4,
    "start_time": "2025-04-27T01:08:05.422Z"
   },
   {
    "duration": 6,
    "start_time": "2025-04-27T01:08:05.429Z"
   },
   {
    "duration": 36,
    "start_time": "2025-04-27T01:08:05.436Z"
   },
   {
    "duration": 29,
    "start_time": "2025-04-27T01:08:05.474Z"
   },
   {
    "duration": 13,
    "start_time": "2025-04-27T01:08:05.505Z"
   },
   {
    "duration": 10,
    "start_time": "2025-04-27T01:08:05.519Z"
   },
   {
    "duration": 38,
    "start_time": "2025-04-27T01:08:05.531Z"
   },
   {
    "duration": 7,
    "start_time": "2025-04-27T01:08:05.571Z"
   },
   {
    "duration": 315,
    "start_time": "2025-04-27T01:08:05.579Z"
   },
   {
    "duration": 11,
    "start_time": "2025-04-27T01:08:05.896Z"
   },
   {
    "duration": 6,
    "start_time": "2025-04-27T01:08:05.909Z"
   },
   {
    "duration": 45,
    "start_time": "2025-04-27T01:08:05.917Z"
   },
   {
    "duration": 25,
    "start_time": "2025-04-27T01:08:05.965Z"
   },
   {
    "duration": 249,
    "start_time": "2025-04-27T01:08:05.992Z"
   },
   {
    "duration": 183,
    "start_time": "2025-04-27T01:08:06.243Z"
   },
   {
    "duration": 198,
    "start_time": "2025-04-27T01:08:06.427Z"
   },
   {
    "duration": 251,
    "start_time": "2025-04-27T01:08:06.627Z"
   },
   {
    "duration": 202,
    "start_time": "2025-04-27T01:08:06.880Z"
   },
   {
    "duration": 20,
    "start_time": "2025-04-27T01:08:07.089Z"
   },
   {
    "duration": 12,
    "start_time": "2025-04-27T01:08:07.113Z"
   },
   {
    "duration": 8,
    "start_time": "2025-04-27T01:08:07.126Z"
   },
   {
    "duration": 140,
    "start_time": "2025-04-27T01:08:07.135Z"
   },
   {
    "duration": 142,
    "start_time": "2025-04-27T01:08:07.277Z"
   },
   {
    "duration": 154,
    "start_time": "2025-04-27T01:08:07.420Z"
   },
   {
    "duration": 128,
    "start_time": "2025-04-27T01:08:07.583Z"
   },
   {
    "duration": 121,
    "start_time": "2025-04-27T01:08:07.713Z"
   },
   {
    "duration": 162,
    "start_time": "2025-04-27T01:08:07.836Z"
   },
   {
    "duration": 399,
    "start_time": "2025-04-27T01:08:08.000Z"
   },
   {
    "duration": 33,
    "start_time": "2025-04-27T01:08:08.406Z"
   },
   {
    "duration": 246,
    "start_time": "2025-04-27T01:08:08.441Z"
   },
   {
    "duration": 203,
    "start_time": "2025-04-27T01:08:08.691Z"
   },
   {
    "duration": 12,
    "start_time": "2025-04-27T01:08:08.896Z"
   },
   {
    "duration": 0,
    "start_time": "2025-04-27T01:08:09.220Z"
   },
   {
    "duration": 13,
    "start_time": "2025-04-27T01:08:13.294Z"
   },
   {
    "duration": 41,
    "start_time": "2025-04-27T01:08:19.759Z"
   },
   {
    "duration": 13,
    "start_time": "2025-04-27T01:09:31.114Z"
   },
   {
    "duration": 15,
    "start_time": "2025-04-27T01:09:43.955Z"
   },
   {
    "duration": 24,
    "start_time": "2025-04-27T01:12:29.775Z"
   },
   {
    "duration": 53,
    "start_time": "2025-04-27T01:12:42.732Z"
   },
   {
    "duration": 22,
    "start_time": "2025-04-27T01:14:13.899Z"
   },
   {
    "duration": 21,
    "start_time": "2025-04-27T01:14:42.701Z"
   },
   {
    "duration": 25,
    "start_time": "2025-04-27T01:14:56.987Z"
   },
   {
    "duration": 157,
    "start_time": "2025-04-27T02:38:20.294Z"
   },
   {
    "duration": 2502,
    "start_time": "2025-04-27T02:38:35.628Z"
   },
   {
    "duration": 45,
    "start_time": "2025-04-27T02:38:38.133Z"
   },
   {
    "duration": 5,
    "start_time": "2025-04-27T02:38:38.179Z"
   },
   {
    "duration": 2,
    "start_time": "2025-04-27T02:38:38.187Z"
   },
   {
    "duration": 12,
    "start_time": "2025-04-27T02:38:38.191Z"
   },
   {
    "duration": 7,
    "start_time": "2025-04-27T02:38:38.205Z"
   },
   {
    "duration": 21,
    "start_time": "2025-04-27T02:38:38.213Z"
   },
   {
    "duration": 4,
    "start_time": "2025-04-27T02:38:38.236Z"
   },
   {
    "duration": 4,
    "start_time": "2025-04-27T02:38:38.241Z"
   },
   {
    "duration": 42,
    "start_time": "2025-04-27T02:38:38.248Z"
   },
   {
    "duration": 10,
    "start_time": "2025-04-27T02:38:38.291Z"
   },
   {
    "duration": 17,
    "start_time": "2025-04-27T02:38:38.303Z"
   },
   {
    "duration": 10,
    "start_time": "2025-04-27T02:38:38.322Z"
   },
   {
    "duration": 10,
    "start_time": "2025-04-27T02:38:38.334Z"
   },
   {
    "duration": 48,
    "start_time": "2025-04-27T02:38:38.346Z"
   },
   {
    "duration": 5,
    "start_time": "2025-04-27T02:38:38.396Z"
   },
   {
    "duration": 267,
    "start_time": "2025-04-27T02:38:38.402Z"
   },
   {
    "duration": 16,
    "start_time": "2025-04-27T02:38:38.671Z"
   },
   {
    "duration": 6,
    "start_time": "2025-04-27T02:38:38.688Z"
   },
   {
    "duration": 20,
    "start_time": "2025-04-27T02:38:38.696Z"
   },
   {
    "duration": 10,
    "start_time": "2025-04-27T02:38:38.717Z"
   },
   {
    "duration": 158,
    "start_time": "2025-04-27T02:38:38.728Z"
   },
   {
    "duration": 147,
    "start_time": "2025-04-27T02:38:38.888Z"
   },
   {
    "duration": 137,
    "start_time": "2025-04-27T02:38:39.037Z"
   },
   {
    "duration": 196,
    "start_time": "2025-04-27T02:38:39.176Z"
   },
   {
    "duration": 138,
    "start_time": "2025-04-27T02:38:39.373Z"
   },
   {
    "duration": 16,
    "start_time": "2025-04-27T02:38:39.513Z"
   },
   {
    "duration": 10,
    "start_time": "2025-04-27T02:38:39.533Z"
   },
   {
    "duration": 8,
    "start_time": "2025-04-27T02:38:39.545Z"
   },
   {
    "duration": 119,
    "start_time": "2025-04-27T02:38:39.555Z"
   },
   {
    "duration": 165,
    "start_time": "2025-04-27T02:38:39.676Z"
   },
   {
    "duration": 109,
    "start_time": "2025-04-27T02:38:39.843Z"
   },
   {
    "duration": 110,
    "start_time": "2025-04-27T02:38:39.954Z"
   },
   {
    "duration": 123,
    "start_time": "2025-04-27T02:38:40.065Z"
   },
   {
    "duration": 112,
    "start_time": "2025-04-27T02:38:40.190Z"
   },
   {
    "duration": 261,
    "start_time": "2025-04-27T02:38:40.304Z"
   },
   {
    "duration": 21,
    "start_time": "2025-04-27T02:38:40.567Z"
   },
   {
    "duration": 149,
    "start_time": "2025-04-27T02:38:40.590Z"
   },
   {
    "duration": 139,
    "start_time": "2025-04-27T02:38:40.742Z"
   },
   {
    "duration": 6,
    "start_time": "2025-04-27T02:38:40.883Z"
   },
   {
    "duration": 17,
    "start_time": "2025-04-27T02:38:40.892Z"
   },
   {
    "duration": 16,
    "start_time": "2025-04-27T02:39:48.845Z"
   },
   {
    "duration": 17,
    "start_time": "2025-04-27T02:40:07.436Z"
   },
   {
    "duration": 6,
    "start_time": "2025-04-27T02:40:33.680Z"
   },
   {
    "duration": 4,
    "start_time": "2025-04-27T02:40:43.771Z"
   },
   {
    "duration": 4,
    "start_time": "2025-04-27T02:40:51.870Z"
   },
   {
    "duration": 4,
    "start_time": "2025-04-27T02:41:06.417Z"
   },
   {
    "duration": 4,
    "start_time": "2025-04-27T02:41:13.699Z"
   },
   {
    "duration": 4,
    "start_time": "2025-04-27T02:41:16.551Z"
   },
   {
    "duration": 16,
    "start_time": "2025-04-27T02:41:21.971Z"
   },
   {
    "duration": 4,
    "start_time": "2025-04-27T02:50:56.541Z"
   },
   {
    "duration": 7,
    "start_time": "2025-04-27T02:51:11.500Z"
   },
   {
    "duration": 1206,
    "start_time": "2025-04-27T02:55:03.502Z"
   },
   {
    "duration": 344,
    "start_time": "2025-04-27T02:55:24.452Z"
   },
   {
    "duration": 468,
    "start_time": "2025-04-27T02:59:47.736Z"
   },
   {
    "duration": 2,
    "start_time": "2025-04-27T03:05:51.671Z"
   },
   {
    "duration": 141,
    "start_time": "2025-04-27T03:05:54.218Z"
   },
   {
    "duration": 16,
    "start_time": "2025-04-27T03:06:09.164Z"
   },
   {
    "duration": 148,
    "start_time": "2025-04-27T03:06:10.746Z"
   },
   {
    "duration": 337,
    "start_time": "2025-04-27T03:31:14.938Z"
   },
   {
    "duration": 157,
    "start_time": "2025-04-28T00:42:33.404Z"
   },
   {
    "duration": 2516,
    "start_time": "2025-04-28T00:44:47.284Z"
   },
   {
    "duration": 38,
    "start_time": "2025-04-28T00:44:49.802Z"
   },
   {
    "duration": 5,
    "start_time": "2025-04-28T00:44:49.841Z"
   },
   {
    "duration": 3,
    "start_time": "2025-04-28T00:44:49.848Z"
   },
   {
    "duration": 11,
    "start_time": "2025-04-28T00:44:49.853Z"
   },
   {
    "duration": 8,
    "start_time": "2025-04-28T00:44:49.870Z"
   },
   {
    "duration": 22,
    "start_time": "2025-04-28T00:44:49.879Z"
   },
   {
    "duration": 4,
    "start_time": "2025-04-28T00:44:49.902Z"
   },
   {
    "duration": 3,
    "start_time": "2025-04-28T00:44:49.908Z"
   },
   {
    "duration": 6,
    "start_time": "2025-04-28T00:44:49.914Z"
   },
   {
    "duration": 10,
    "start_time": "2025-04-28T00:44:49.921Z"
   },
   {
    "duration": 53,
    "start_time": "2025-04-28T00:44:49.933Z"
   },
   {
    "duration": 10,
    "start_time": "2025-04-28T00:44:49.988Z"
   },
   {
    "duration": 11,
    "start_time": "2025-04-28T00:44:50.000Z"
   },
   {
    "duration": 17,
    "start_time": "2025-04-28T00:44:50.012Z"
   },
   {
    "duration": 4,
    "start_time": "2025-04-28T00:44:50.031Z"
   },
   {
    "duration": 283,
    "start_time": "2025-04-28T00:44:50.037Z"
   },
   {
    "duration": 8,
    "start_time": "2025-04-28T00:44:50.323Z"
   },
   {
    "duration": 5,
    "start_time": "2025-04-28T00:44:50.333Z"
   },
   {
    "duration": 37,
    "start_time": "2025-04-28T00:44:50.341Z"
   },
   {
    "duration": 11,
    "start_time": "2025-04-28T00:44:50.379Z"
   },
   {
    "duration": 147,
    "start_time": "2025-04-28T00:44:50.393Z"
   },
   {
    "duration": 144,
    "start_time": "2025-04-28T00:44:50.542Z"
   },
   {
    "duration": 194,
    "start_time": "2025-04-28T00:44:50.688Z"
   },
   {
    "duration": 181,
    "start_time": "2025-04-28T00:44:50.885Z"
   },
   {
    "duration": 140,
    "start_time": "2025-04-28T00:44:51.067Z"
   },
   {
    "duration": 17,
    "start_time": "2025-04-28T00:44:51.208Z"
   },
   {
    "duration": 11,
    "start_time": "2025-04-28T00:44:51.230Z"
   },
   {
    "duration": 29,
    "start_time": "2025-04-28T00:44:51.242Z"
   },
   {
    "duration": 108,
    "start_time": "2025-04-28T00:44:51.273Z"
   },
   {
    "duration": 103,
    "start_time": "2025-04-28T00:44:51.387Z"
   },
   {
    "duration": 110,
    "start_time": "2025-04-28T00:44:51.491Z"
   },
   {
    "duration": 109,
    "start_time": "2025-04-28T00:44:51.603Z"
   },
   {
    "duration": 113,
    "start_time": "2025-04-28T00:44:51.714Z"
   },
   {
    "duration": 111,
    "start_time": "2025-04-28T00:44:51.828Z"
   },
   {
    "duration": 251,
    "start_time": "2025-04-28T00:44:51.941Z"
   },
   {
    "duration": 13,
    "start_time": "2025-04-28T00:44:52.195Z"
   },
   {
    "duration": 154,
    "start_time": "2025-04-28T00:44:52.210Z"
   },
   {
    "duration": 197,
    "start_time": "2025-04-28T00:44:52.366Z"
   },
   {
    "duration": 10,
    "start_time": "2025-04-28T00:44:52.565Z"
   },
   {
    "duration": 7,
    "start_time": "2025-04-28T00:44:52.577Z"
   },
   {
    "duration": 366,
    "start_time": "2025-04-28T00:44:52.585Z"
   },
   {
    "duration": 23,
    "start_time": "2025-04-28T00:44:52.953Z"
   },
   {
    "duration": 224,
    "start_time": "2025-04-28T01:01:05.150Z"
   },
   {
    "duration": 25,
    "start_time": "2025-04-28T01:01:20.054Z"
   },
   {
    "duration": 24,
    "start_time": "2025-04-28T01:01:46.570Z"
   },
   {
    "duration": 26,
    "start_time": "2025-04-28T01:01:55.720Z"
   },
   {
    "duration": 26,
    "start_time": "2025-04-28T01:02:03.037Z"
   },
   {
    "duration": 25,
    "start_time": "2025-04-28T01:09:30.114Z"
   },
   {
    "duration": 13,
    "start_time": "2025-04-28T01:11:12.153Z"
   },
   {
    "duration": 20,
    "start_time": "2025-04-28T01:11:15.885Z"
   },
   {
    "duration": 5,
    "start_time": "2025-04-28T01:11:17.704Z"
   },
   {
    "duration": 4,
    "start_time": "2025-04-28T01:11:56.942Z"
   },
   {
    "duration": 3,
    "start_time": "2025-04-28T01:11:59.556Z"
   },
   {
    "duration": 10,
    "start_time": "2025-04-28T01:31:36.732Z"
   },
   {
    "duration": 83,
    "start_time": "2025-04-28T01:34:45.925Z"
   },
   {
    "duration": 76,
    "start_time": "2025-04-28T01:35:00.195Z"
   },
   {
    "duration": 14,
    "start_time": "2025-04-28T01:35:02.883Z"
   },
   {
    "duration": 74,
    "start_time": "2025-04-28T01:35:22.737Z"
   },
   {
    "duration": 72,
    "start_time": "2025-04-28T01:35:25.583Z"
   },
   {
    "duration": 2571,
    "start_time": "2025-04-28T03:03:07.306Z"
   },
   {
    "duration": 140,
    "start_time": "2025-04-28T03:03:09.882Z"
   },
   {
    "duration": 8,
    "start_time": "2025-04-28T03:03:10.024Z"
   },
   {
    "duration": 3,
    "start_time": "2025-04-28T03:03:10.034Z"
   },
   {
    "duration": 13,
    "start_time": "2025-04-28T03:03:10.041Z"
   },
   {
    "duration": 7,
    "start_time": "2025-04-28T03:03:10.055Z"
   },
   {
    "duration": 22,
    "start_time": "2025-04-28T03:03:10.064Z"
   },
   {
    "duration": 32,
    "start_time": "2025-04-28T03:03:10.088Z"
   },
   {
    "duration": 3,
    "start_time": "2025-04-28T03:03:10.122Z"
   },
   {
    "duration": 8,
    "start_time": "2025-04-28T03:03:10.127Z"
   },
   {
    "duration": 9,
    "start_time": "2025-04-28T03:03:10.137Z"
   },
   {
    "duration": 17,
    "start_time": "2025-04-28T03:03:10.148Z"
   },
   {
    "duration": 10,
    "start_time": "2025-04-28T03:03:10.167Z"
   },
   {
    "duration": 39,
    "start_time": "2025-04-28T03:03:10.181Z"
   },
   {
    "duration": 17,
    "start_time": "2025-04-28T03:03:10.222Z"
   },
   {
    "duration": 4,
    "start_time": "2025-04-28T03:03:10.240Z"
   },
   {
    "duration": 285,
    "start_time": "2025-04-28T03:03:10.246Z"
   },
   {
    "duration": 11,
    "start_time": "2025-04-28T03:03:10.533Z"
   },
   {
    "duration": 6,
    "start_time": "2025-04-28T03:03:10.545Z"
   },
   {
    "duration": 20,
    "start_time": "2025-04-28T03:03:10.554Z"
   },
   {
    "duration": 9,
    "start_time": "2025-04-28T03:03:10.576Z"
   },
   {
    "duration": 163,
    "start_time": "2025-04-28T03:03:10.587Z"
   },
   {
    "duration": 156,
    "start_time": "2025-04-28T03:03:10.752Z"
   },
   {
    "duration": 198,
    "start_time": "2025-04-28T03:03:10.911Z"
   },
   {
    "duration": 198,
    "start_time": "2025-04-28T03:03:11.111Z"
   },
   {
    "duration": 152,
    "start_time": "2025-04-28T03:03:11.311Z"
   },
   {
    "duration": 16,
    "start_time": "2025-04-28T03:03:11.465Z"
   },
   {
    "duration": 11,
    "start_time": "2025-04-28T03:03:11.482Z"
   },
   {
    "duration": 30,
    "start_time": "2025-04-28T03:03:11.494Z"
   },
   {
    "duration": 104,
    "start_time": "2025-04-28T03:03:11.526Z"
   },
   {
    "duration": 105,
    "start_time": "2025-04-28T03:03:11.632Z"
   },
   {
    "duration": 113,
    "start_time": "2025-04-28T03:03:11.739Z"
   },
   {
    "duration": 103,
    "start_time": "2025-04-28T03:03:11.855Z"
   },
   {
    "duration": 116,
    "start_time": "2025-04-28T03:03:11.960Z"
   },
   {
    "duration": 122,
    "start_time": "2025-04-28T03:03:12.078Z"
   },
   {
    "duration": 258,
    "start_time": "2025-04-28T03:03:12.202Z"
   },
   {
    "duration": 15,
    "start_time": "2025-04-28T03:03:12.461Z"
   },
   {
    "duration": 163,
    "start_time": "2025-04-28T03:03:12.478Z"
   },
   {
    "duration": 223,
    "start_time": "2025-04-28T03:03:12.643Z"
   },
   {
    "duration": 6,
    "start_time": "2025-04-28T03:03:12.867Z"
   },
   {
    "duration": 5,
    "start_time": "2025-04-28T03:03:12.879Z"
   },
   {
    "duration": 371,
    "start_time": "2025-04-28T03:03:12.886Z"
   },
   {
    "duration": 21,
    "start_time": "2025-04-28T03:03:13.258Z"
   },
   {
    "duration": 92,
    "start_time": "2025-04-28T03:03:13.280Z"
   },
   {
    "duration": 86,
    "start_time": "2025-04-28T03:03:13.374Z"
   },
   {
    "duration": 82,
    "start_time": "2025-04-28T03:03:13.462Z"
   },
   {
    "duration": 77,
    "start_time": "2025-04-28T03:03:29.329Z"
   },
   {
    "duration": 78,
    "start_time": "2025-04-28T03:03:52.679Z"
   },
   {
    "duration": 85,
    "start_time": "2025-04-28T03:04:02.429Z"
   },
   {
    "duration": 74,
    "start_time": "2025-04-28T03:04:53.461Z"
   },
   {
    "duration": 371,
    "start_time": "2025-04-28T03:05:10.480Z"
   },
   {
    "duration": 87,
    "start_time": "2025-04-28T03:05:20.527Z"
   },
   {
    "duration": 91,
    "start_time": "2025-04-28T03:05:26.180Z"
   },
   {
    "duration": 88,
    "start_time": "2025-04-28T03:05:29.593Z"
   },
   {
    "duration": 79,
    "start_time": "2025-04-28T03:06:33.837Z"
   },
   {
    "duration": 80,
    "start_time": "2025-04-28T03:07:10.971Z"
   },
   {
    "duration": 6,
    "start_time": "2025-04-28T03:08:31.265Z"
   },
   {
    "duration": 103,
    "start_time": "2025-04-28T03:08:37.721Z"
   },
   {
    "duration": 87,
    "start_time": "2025-04-28T03:08:44.919Z"
   },
   {
    "duration": 83,
    "start_time": "2025-04-28T03:09:57.769Z"
   },
   {
    "duration": 75,
    "start_time": "2025-04-28T03:10:10.152Z"
   },
   {
    "duration": 80,
    "start_time": "2025-04-28T03:11:27.520Z"
   },
   {
    "duration": 104,
    "start_time": "2025-04-28T03:14:29.728Z"
   },
   {
    "duration": 93,
    "start_time": "2025-04-28T03:14:38.606Z"
   },
   {
    "duration": 88,
    "start_time": "2025-04-28T03:14:47.839Z"
   },
   {
    "duration": 825,
    "start_time": "2025-04-28T03:15:10.810Z"
   },
   {
    "duration": 147,
    "start_time": "2025-04-28T03:15:36.063Z"
   },
   {
    "duration": 77,
    "start_time": "2025-04-28T03:16:06.384Z"
   },
   {
    "duration": 79,
    "start_time": "2025-04-28T03:16:54.227Z"
   },
   {
    "duration": 90,
    "start_time": "2025-04-28T03:17:14.613Z"
   },
   {
    "duration": 81,
    "start_time": "2025-04-28T03:17:17.771Z"
   },
   {
    "duration": 78,
    "start_time": "2025-04-28T03:17:29.786Z"
   },
   {
    "duration": 80,
    "start_time": "2025-04-28T03:19:03.173Z"
   },
   {
    "duration": 75,
    "start_time": "2025-04-28T03:19:42.921Z"
   },
   {
    "duration": 78,
    "start_time": "2025-04-28T03:20:23.200Z"
   },
   {
    "duration": 75,
    "start_time": "2025-04-28T03:21:12.500Z"
   },
   {
    "duration": 80,
    "start_time": "2025-04-28T03:21:45.369Z"
   },
   {
    "duration": 82,
    "start_time": "2025-04-28T03:21:52.378Z"
   },
   {
    "duration": 83,
    "start_time": "2025-04-28T03:22:03.996Z"
   },
   {
    "duration": 85,
    "start_time": "2025-04-28T03:22:10.279Z"
   },
   {
    "duration": 5,
    "start_time": "2025-04-28T03:22:36.402Z"
   },
   {
    "duration": 4,
    "start_time": "2025-04-28T03:22:45.528Z"
   },
   {
    "duration": 4,
    "start_time": "2025-04-28T03:22:56.977Z"
   },
   {
    "duration": 76,
    "start_time": "2025-04-28T03:23:01.805Z"
   },
   {
    "duration": 79,
    "start_time": "2025-04-28T03:23:09.867Z"
   },
   {
    "duration": 79,
    "start_time": "2025-04-28T03:23:15.788Z"
   },
   {
    "duration": 79,
    "start_time": "2025-04-28T03:23:21.471Z"
   },
   {
    "duration": 81,
    "start_time": "2025-04-28T03:23:25.690Z"
   },
   {
    "duration": 92,
    "start_time": "2025-04-28T03:23:56.989Z"
   },
   {
    "duration": 79,
    "start_time": "2025-04-28T03:24:45.295Z"
   },
   {
    "duration": 85,
    "start_time": "2025-04-28T03:25:54.853Z"
   },
   {
    "duration": 80,
    "start_time": "2025-04-28T03:27:24.992Z"
   },
   {
    "duration": 81,
    "start_time": "2025-04-28T03:27:32.197Z"
   },
   {
    "duration": 81,
    "start_time": "2025-04-28T03:27:47.088Z"
   },
   {
    "duration": 244,
    "start_time": "2025-04-28T03:28:34.385Z"
   },
   {
    "duration": 205,
    "start_time": "2025-04-28T03:28:39.466Z"
   },
   {
    "duration": 84,
    "start_time": "2025-04-28T03:29:17.854Z"
   },
   {
    "duration": 10,
    "start_time": "2025-04-28T03:31:30.743Z"
   },
   {
    "duration": 22,
    "start_time": "2025-04-28T03:34:48.895Z"
   },
   {
    "duration": 76,
    "start_time": "2025-04-28T03:34:50.868Z"
   },
   {
    "duration": 79,
    "start_time": "2025-04-28T03:34:54.128Z"
   },
   {
    "duration": 7,
    "start_time": "2025-04-28T03:37:59.273Z"
   },
   {
    "duration": 211,
    "start_time": "2025-04-28T03:38:45.658Z"
   },
   {
    "duration": 8,
    "start_time": "2025-04-28T03:38:55.611Z"
   },
   {
    "duration": 12,
    "start_time": "2025-04-28T03:39:36.097Z"
   },
   {
    "duration": 4,
    "start_time": "2025-04-28T04:14:49.748Z"
   },
   {
    "duration": 16,
    "start_time": "2025-04-28T04:15:23.402Z"
   },
   {
    "duration": 6,
    "start_time": "2025-04-28T04:16:27.653Z"
   },
   {
    "duration": 15,
    "start_time": "2025-04-28T04:16:35.834Z"
   },
   {
    "duration": 5,
    "start_time": "2025-04-28T04:16:43.714Z"
   },
   {
    "duration": 9,
    "start_time": "2025-04-28T04:16:54.984Z"
   },
   {
    "duration": 8,
    "start_time": "2025-04-28T04:17:01.869Z"
   },
   {
    "duration": 8,
    "start_time": "2025-04-28T04:17:11.697Z"
   },
   {
    "duration": 8,
    "start_time": "2025-04-28T04:17:24.817Z"
   },
   {
    "duration": 9,
    "start_time": "2025-04-28T04:17:40.757Z"
   },
   {
    "duration": 12,
    "start_time": "2025-04-28T04:17:45.792Z"
   },
   {
    "duration": 9,
    "start_time": "2025-04-28T04:17:48.208Z"
   },
   {
    "duration": 20,
    "start_time": "2025-04-28T04:18:01.333Z"
   },
   {
    "duration": 9,
    "start_time": "2025-04-28T04:18:03.628Z"
   },
   {
    "duration": 8,
    "start_time": "2025-04-28T04:18:20.695Z"
   },
   {
    "duration": 18,
    "start_time": "2025-04-28T04:18:34.777Z"
   },
   {
    "duration": 4,
    "start_time": "2025-04-28T04:19:35.433Z"
   },
   {
    "duration": 19,
    "start_time": "2025-04-28T04:19:48.706Z"
   },
   {
    "duration": 6,
    "start_time": "2025-04-28T04:21:34.667Z"
   },
   {
    "duration": 7,
    "start_time": "2025-04-28T04:22:50.564Z"
   },
   {
    "duration": 16,
    "start_time": "2025-04-28T04:24:34.625Z"
   },
   {
    "duration": 13,
    "start_time": "2025-04-28T04:24:41.678Z"
   },
   {
    "duration": 16,
    "start_time": "2025-04-28T04:24:46.062Z"
   },
   {
    "duration": 11,
    "start_time": "2025-04-28T04:25:34.894Z"
   },
   {
    "duration": 10,
    "start_time": "2025-04-28T04:25:56.374Z"
   },
   {
    "duration": 933,
    "start_time": "2025-04-28T04:30:38.033Z"
   },
   {
    "duration": 557,
    "start_time": "2025-04-28T04:34:07.742Z"
   },
   {
    "duration": 559,
    "start_time": "2025-04-28T04:34:15.132Z"
   },
   {
    "duration": 586,
    "start_time": "2025-04-28T04:34:23.111Z"
   },
   {
    "duration": 563,
    "start_time": "2025-04-28T04:34:34.283Z"
   },
   {
    "duration": 129,
    "start_time": "2025-04-28T04:34:51.073Z"
   },
   {
    "duration": 579,
    "start_time": "2025-04-28T04:35:00.753Z"
   },
   {
    "duration": 162,
    "start_time": "2025-04-29T02:32:41.091Z"
   },
   {
    "duration": 2534,
    "start_time": "2025-04-29T02:32:50.793Z"
   },
   {
    "duration": 35,
    "start_time": "2025-04-29T02:32:53.329Z"
   },
   {
    "duration": 5,
    "start_time": "2025-04-29T02:32:53.365Z"
   },
   {
    "duration": 2,
    "start_time": "2025-04-29T02:32:53.372Z"
   },
   {
    "duration": 17,
    "start_time": "2025-04-29T02:32:53.376Z"
   },
   {
    "duration": 8,
    "start_time": "2025-04-29T02:32:53.395Z"
   },
   {
    "duration": 20,
    "start_time": "2025-04-29T02:32:53.404Z"
   },
   {
    "duration": 4,
    "start_time": "2025-04-29T02:32:53.426Z"
   },
   {
    "duration": 4,
    "start_time": "2025-04-29T02:32:53.432Z"
   },
   {
    "duration": 6,
    "start_time": "2025-04-29T02:32:53.438Z"
   },
   {
    "duration": 47,
    "start_time": "2025-04-29T02:32:53.445Z"
   },
   {
    "duration": 16,
    "start_time": "2025-04-29T02:32:53.494Z"
   },
   {
    "duration": 11,
    "start_time": "2025-04-29T02:32:53.511Z"
   },
   {
    "duration": 11,
    "start_time": "2025-04-29T02:32:53.523Z"
   },
   {
    "duration": 16,
    "start_time": "2025-04-29T02:32:53.537Z"
   },
   {
    "duration": 33,
    "start_time": "2025-04-29T02:32:53.554Z"
   },
   {
    "duration": 256,
    "start_time": "2025-04-29T02:32:53.589Z"
   },
   {
    "duration": 10,
    "start_time": "2025-04-29T02:32:53.847Z"
   },
   {
    "duration": 6,
    "start_time": "2025-04-29T02:32:53.858Z"
   },
   {
    "duration": 32,
    "start_time": "2025-04-29T02:32:53.866Z"
   },
   {
    "duration": 9,
    "start_time": "2025-04-29T02:32:53.899Z"
   },
   {
    "duration": 152,
    "start_time": "2025-04-29T02:32:53.910Z"
   },
   {
    "duration": 143,
    "start_time": "2025-04-29T02:32:54.064Z"
   },
   {
    "duration": 195,
    "start_time": "2025-04-29T02:32:54.208Z"
   },
   {
    "duration": 194,
    "start_time": "2025-04-29T02:32:54.405Z"
   },
   {
    "duration": 143,
    "start_time": "2025-04-29T02:32:54.602Z"
   },
   {
    "duration": 16,
    "start_time": "2025-04-29T02:32:54.748Z"
   },
   {
    "duration": 25,
    "start_time": "2025-04-29T02:32:54.769Z"
   },
   {
    "duration": 9,
    "start_time": "2025-04-29T02:32:54.796Z"
   },
   {
    "duration": 114,
    "start_time": "2025-04-29T02:32:54.806Z"
   },
   {
    "duration": 105,
    "start_time": "2025-04-29T02:32:54.922Z"
   },
   {
    "duration": 106,
    "start_time": "2025-04-29T02:32:55.029Z"
   },
   {
    "duration": 108,
    "start_time": "2025-04-29T02:32:55.136Z"
   },
   {
    "duration": 120,
    "start_time": "2025-04-29T02:32:55.246Z"
   },
   {
    "duration": 113,
    "start_time": "2025-04-29T02:32:55.368Z"
   },
   {
    "duration": 254,
    "start_time": "2025-04-29T02:32:55.486Z"
   },
   {
    "duration": 13,
    "start_time": "2025-04-29T02:32:55.742Z"
   },
   {
    "duration": 154,
    "start_time": "2025-04-29T02:32:55.757Z"
   },
   {
    "duration": 220,
    "start_time": "2025-04-29T02:32:55.913Z"
   },
   {
    "duration": 6,
    "start_time": "2025-04-29T02:32:56.135Z"
   },
   {
    "duration": 7,
    "start_time": "2025-04-29T02:32:56.143Z"
   },
   {
    "duration": 366,
    "start_time": "2025-04-29T02:32:56.152Z"
   },
   {
    "duration": 21,
    "start_time": "2025-04-29T02:32:56.519Z"
   },
   {
    "duration": 99,
    "start_time": "2025-04-29T02:32:56.542Z"
   },
   {
    "duration": 85,
    "start_time": "2025-04-29T02:32:56.643Z"
   },
   {
    "duration": 91,
    "start_time": "2025-04-29T02:32:56.730Z"
   },
   {
    "duration": 7,
    "start_time": "2025-04-29T02:32:56.823Z"
   },
   {
    "duration": 11,
    "start_time": "2025-04-29T02:32:56.833Z"
   },
   {
    "duration": 16,
    "start_time": "2025-04-29T02:32:56.845Z"
   },
   {
    "duration": 590,
    "start_time": "2025-04-29T02:32:56.863Z"
   },
   {
    "duration": 116,
    "start_time": "2025-04-29T02:34:12.806Z"
   },
   {
    "duration": 117,
    "start_time": "2025-04-29T02:35:22.179Z"
   },
   {
    "duration": 753,
    "start_time": "2025-04-29T02:35:48.069Z"
   },
   {
    "duration": 116,
    "start_time": "2025-04-29T02:35:54.473Z"
   },
   {
    "duration": 122,
    "start_time": "2025-04-29T02:36:22.613Z"
   },
   {
    "duration": 117,
    "start_time": "2025-04-29T02:36:33.880Z"
   },
   {
    "duration": 86,
    "start_time": "2025-04-29T02:36:48.639Z"
   },
   {
    "duration": 152,
    "start_time": "2025-04-29T02:36:57.543Z"
   },
   {
    "duration": 90,
    "start_time": "2025-04-29T02:37:10.478Z"
   },
   {
    "duration": 121,
    "start_time": "2025-04-29T02:37:22.148Z"
   },
   {
    "duration": 144,
    "start_time": "2025-04-29T02:37:32.060Z"
   },
   {
    "duration": 508,
    "start_time": "2025-04-29T02:44:10.500Z"
   },
   {
    "duration": 5,
    "start_time": "2025-04-29T02:45:52.038Z"
   },
   {
    "duration": 19,
    "start_time": "2025-04-29T03:00:19.533Z"
   },
   {
    "duration": 116,
    "start_time": "2025-04-29T03:03:48.310Z"
   },
   {
    "duration": 74,
    "start_time": "2025-04-29T03:03:56.445Z"
   },
   {
    "duration": 15,
    "start_time": "2025-04-29T03:04:23.264Z"
   },
   {
    "duration": 19,
    "start_time": "2025-04-29T03:04:27.911Z"
   },
   {
    "duration": 33,
    "start_time": "2025-04-29T03:05:01.814Z"
   },
   {
    "duration": 149,
    "start_time": "2025-04-29T03:05:06.731Z"
   },
   {
    "duration": 8,
    "start_time": "2025-04-29T03:05:19.936Z"
   },
   {
    "duration": 4,
    "start_time": "2025-04-29T03:06:10.705Z"
   },
   {
    "duration": 3,
    "start_time": "2025-04-29T03:06:17.412Z"
   },
   {
    "duration": 5,
    "start_time": "2025-04-29T03:06:29.615Z"
   },
   {
    "duration": 21,
    "start_time": "2025-04-29T03:06:39.719Z"
   },
   {
    "duration": 131,
    "start_time": "2025-04-29T03:06:57.843Z"
   },
   {
    "duration": 48,
    "start_time": "2025-04-29T03:08:57.233Z"
   },
   {
    "duration": 13,
    "start_time": "2025-04-29T03:12:11.644Z"
   },
   {
    "duration": 300,
    "start_time": "2025-04-29T03:12:21.200Z"
   },
   {
    "duration": 25,
    "start_time": "2025-04-29T03:12:36.978Z"
   },
   {
    "duration": 20,
    "start_time": "2025-04-29T03:13:22.917Z"
   },
   {
    "duration": 3,
    "start_time": "2025-04-29T03:13:38.726Z"
   },
   {
    "duration": 20,
    "start_time": "2025-04-29T03:13:42.274Z"
   },
   {
    "duration": 13,
    "start_time": "2025-04-29T03:13:55.350Z"
   },
   {
    "duration": 4,
    "start_time": "2025-04-29T03:14:13.300Z"
   },
   {
    "duration": 4,
    "start_time": "2025-04-29T03:14:35.265Z"
   },
   {
    "duration": 14,
    "start_time": "2025-04-29T03:26:27.616Z"
   },
   {
    "duration": 4,
    "start_time": "2025-04-29T03:26:58.793Z"
   },
   {
    "duration": 5,
    "start_time": "2025-04-29T03:27:39.712Z"
   },
   {
    "duration": 6,
    "start_time": "2025-04-29T03:27:53.633Z"
   },
   {
    "duration": 6,
    "start_time": "2025-04-29T03:28:01.251Z"
   },
   {
    "duration": 5,
    "start_time": "2025-04-29T03:28:05.222Z"
   },
   {
    "duration": 5,
    "start_time": "2025-04-29T03:28:11.265Z"
   },
   {
    "duration": 156,
    "start_time": "2025-05-01T01:25:26.858Z"
   },
   {
    "duration": 2505,
    "start_time": "2025-05-01T01:25:38.008Z"
   },
   {
    "duration": 38,
    "start_time": "2025-05-01T01:25:40.515Z"
   },
   {
    "duration": 5,
    "start_time": "2025-05-01T01:25:40.555Z"
   },
   {
    "duration": 3,
    "start_time": "2025-05-01T01:25:40.561Z"
   },
   {
    "duration": 12,
    "start_time": "2025-05-01T01:25:40.567Z"
   },
   {
    "duration": 7,
    "start_time": "2025-05-01T01:25:40.580Z"
   },
   {
    "duration": 21,
    "start_time": "2025-05-01T01:25:40.589Z"
   },
   {
    "duration": 4,
    "start_time": "2025-05-01T01:25:40.611Z"
   },
   {
    "duration": 3,
    "start_time": "2025-05-01T01:25:40.616Z"
   },
   {
    "duration": 6,
    "start_time": "2025-05-01T01:25:40.621Z"
   },
   {
    "duration": 43,
    "start_time": "2025-05-01T01:25:40.628Z"
   },
   {
    "duration": 17,
    "start_time": "2025-05-01T01:25:40.672Z"
   },
   {
    "duration": 12,
    "start_time": "2025-05-01T01:25:40.691Z"
   },
   {
    "duration": 10,
    "start_time": "2025-05-01T01:25:40.708Z"
   },
   {
    "duration": 16,
    "start_time": "2025-05-01T01:25:40.719Z"
   },
   {
    "duration": 34,
    "start_time": "2025-05-01T01:25:40.737Z"
   },
   {
    "duration": 263,
    "start_time": "2025-05-01T01:25:40.773Z"
   },
   {
    "duration": 9,
    "start_time": "2025-05-01T01:25:41.038Z"
   },
   {
    "duration": 5,
    "start_time": "2025-05-01T01:25:41.049Z"
   },
   {
    "duration": 21,
    "start_time": "2025-05-01T01:25:41.069Z"
   },
   {
    "duration": 10,
    "start_time": "2025-05-01T01:25:41.091Z"
   },
   {
    "duration": 151,
    "start_time": "2025-05-01T01:25:41.102Z"
   },
   {
    "duration": 141,
    "start_time": "2025-05-01T01:25:41.255Z"
   },
   {
    "duration": 145,
    "start_time": "2025-05-01T01:25:41.398Z"
   },
   {
    "duration": 242,
    "start_time": "2025-05-01T01:25:41.545Z"
   },
   {
    "duration": 143,
    "start_time": "2025-05-01T01:25:41.789Z"
   },
   {
    "duration": 17,
    "start_time": "2025-05-01T01:25:41.934Z"
   },
   {
    "duration": 24,
    "start_time": "2025-05-01T01:25:41.952Z"
   },
   {
    "duration": 8,
    "start_time": "2025-05-01T01:25:41.977Z"
   },
   {
    "duration": 122,
    "start_time": "2025-05-01T01:25:41.987Z"
   },
   {
    "duration": 113,
    "start_time": "2025-05-01T01:25:42.110Z"
   },
   {
    "duration": 107,
    "start_time": "2025-05-01T01:25:42.224Z"
   },
   {
    "duration": 106,
    "start_time": "2025-05-01T01:25:42.333Z"
   },
   {
    "duration": 112,
    "start_time": "2025-05-01T01:25:42.441Z"
   },
   {
    "duration": 118,
    "start_time": "2025-05-01T01:25:42.555Z"
   },
   {
    "duration": 256,
    "start_time": "2025-05-01T01:25:42.675Z"
   },
   {
    "duration": 13,
    "start_time": "2025-05-01T01:25:42.933Z"
   },
   {
    "duration": 165,
    "start_time": "2025-05-01T01:25:42.948Z"
   },
   {
    "duration": 137,
    "start_time": "2025-05-01T01:25:43.115Z"
   },
   {
    "duration": 7,
    "start_time": "2025-05-01T01:25:43.254Z"
   },
   {
    "duration": 6,
    "start_time": "2025-05-01T01:25:43.274Z"
   },
   {
    "duration": 430,
    "start_time": "2025-05-01T01:25:43.282Z"
   },
   {
    "duration": 22,
    "start_time": "2025-05-01T01:25:43.714Z"
   },
   {
    "duration": 94,
    "start_time": "2025-05-01T01:25:43.738Z"
   },
   {
    "duration": 94,
    "start_time": "2025-05-01T01:25:43.833Z"
   },
   {
    "duration": 91,
    "start_time": "2025-05-01T01:25:43.929Z"
   },
   {
    "duration": 7,
    "start_time": "2025-05-01T01:25:44.021Z"
   },
   {
    "duration": 11,
    "start_time": "2025-05-01T01:25:44.030Z"
   },
   {
    "duration": 31,
    "start_time": "2025-05-01T01:25:44.043Z"
   },
   {
    "duration": 6,
    "start_time": "2025-05-01T01:25:44.076Z"
   },
   {
    "duration": 0,
    "start_time": "2025-05-01T01:25:44.084Z"
   },
   {
    "duration": 0,
    "start_time": "2025-05-01T01:25:44.085Z"
   },
   {
    "duration": 0,
    "start_time": "2025-05-01T01:25:44.087Z"
   },
   {
    "duration": 229,
    "start_time": "2025-05-01T01:26:50.667Z"
   },
   {
    "duration": 844,
    "start_time": "2025-05-01T01:27:01.382Z"
   },
   {
    "duration": 105,
    "start_time": "2025-05-01T01:27:12.914Z"
   },
   {
    "duration": 117,
    "start_time": "2025-05-01T01:28:27.249Z"
   },
   {
    "duration": 14,
    "start_time": "2025-05-01T01:28:38.571Z"
   },
   {
    "duration": 14,
    "start_time": "2025-05-01T01:28:51.153Z"
   },
   {
    "duration": 6,
    "start_time": "2025-05-01T01:29:04.373Z"
   },
   {
    "duration": 5,
    "start_time": "2025-05-01T01:31:40.441Z"
   },
   {
    "duration": 15,
    "start_time": "2025-05-01T01:31:48.893Z"
   },
   {
    "duration": 4,
    "start_time": "2025-05-01T01:31:58.592Z"
   },
   {
    "duration": 19,
    "start_time": "2025-05-01T01:33:25.065Z"
   },
   {
    "duration": 27,
    "start_time": "2025-05-01T01:34:16.089Z"
   },
   {
    "duration": 27,
    "start_time": "2025-05-01T01:34:38.941Z"
   },
   {
    "duration": 27,
    "start_time": "2025-05-01T01:34:45.964Z"
   },
   {
    "duration": 3,
    "start_time": "2025-05-01T01:34:54.204Z"
   },
   {
    "duration": 25,
    "start_time": "2025-05-01T01:34:57.073Z"
   },
   {
    "duration": 21,
    "start_time": "2025-05-01T01:35:09.917Z"
   },
   {
    "duration": 12,
    "start_time": "2025-05-01T01:40:50.079Z"
   },
   {
    "duration": 16,
    "start_time": "2025-05-01T01:41:23.475Z"
   },
   {
    "duration": 9,
    "start_time": "2025-05-01T01:41:57.894Z"
   },
   {
    "duration": 139,
    "start_time": "2025-05-01T01:42:42.387Z"
   },
   {
    "duration": 16,
    "start_time": "2025-05-01T02:17:02.047Z"
   },
   {
    "duration": 13,
    "start_time": "2025-05-01T02:19:45.405Z"
   },
   {
    "duration": 13,
    "start_time": "2025-05-01T02:19:53.637Z"
   },
   {
    "duration": 9,
    "start_time": "2025-05-01T02:19:59.355Z"
   },
   {
    "duration": 215,
    "start_time": "2025-05-01T02:21:30.020Z"
   },
   {
    "duration": 9,
    "start_time": "2025-05-01T02:21:51.207Z"
   },
   {
    "duration": 8,
    "start_time": "2025-05-01T02:22:01.818Z"
   },
   {
    "duration": 11,
    "start_time": "2025-05-01T02:22:20.885Z"
   },
   {
    "duration": 12,
    "start_time": "2025-05-01T02:23:25.343Z"
   },
   {
    "duration": 6,
    "start_time": "2025-05-01T02:23:58.875Z"
   },
   {
    "duration": 3,
    "start_time": "2025-05-01T02:24:35.198Z"
   },
   {
    "duration": 9,
    "start_time": "2025-05-01T02:24:54.225Z"
   },
   {
    "duration": 8,
    "start_time": "2025-05-01T02:25:10.701Z"
   },
   {
    "duration": 12,
    "start_time": "2025-05-01T02:25:28.933Z"
   },
   {
    "duration": 13,
    "start_time": "2025-05-01T02:25:40.778Z"
   },
   {
    "duration": 8,
    "start_time": "2025-05-01T02:26:06.185Z"
   },
   {
    "duration": 10,
    "start_time": "2025-05-01T02:26:12.013Z"
   },
   {
    "duration": 10,
    "start_time": "2025-05-01T02:26:26.838Z"
   },
   {
    "duration": 11,
    "start_time": "2025-05-01T02:26:57.546Z"
   },
   {
    "duration": 20,
    "start_time": "2025-05-01T02:29:20.781Z"
   },
   {
    "duration": 107,
    "start_time": "2025-05-01T02:29:30.333Z"
   },
   {
    "duration": 107,
    "start_time": "2025-05-01T02:30:15.826Z"
   },
   {
    "duration": 21,
    "start_time": "2025-05-01T02:31:15.744Z"
   },
   {
    "duration": 115,
    "start_time": "2025-05-01T02:31:22.744Z"
   },
   {
    "duration": 27,
    "start_time": "2025-05-01T02:37:43.090Z"
   },
   {
    "duration": 25,
    "start_time": "2025-05-01T02:39:35.712Z"
   },
   {
    "duration": 537,
    "start_time": "2025-05-01T02:39:50.143Z"
   },
   {
    "duration": 333,
    "start_time": "2025-05-01T02:40:12.900Z"
   },
   {
    "duration": 119,
    "start_time": "2025-05-01T02:41:17.772Z"
   },
   {
    "duration": 4,
    "start_time": "2025-05-01T02:41:21.601Z"
   },
   {
    "duration": 509,
    "start_time": "2025-05-01T02:42:34.407Z"
   },
   {
    "duration": 331,
    "start_time": "2025-05-01T02:42:41.063Z"
   },
   {
    "duration": 118,
    "start_time": "2025-05-01T02:44:10.162Z"
   },
   {
    "duration": 14,
    "start_time": "2025-05-01T02:44:36.943Z"
   },
   {
    "duration": 180,
    "start_time": "2025-05-01T02:44:42.679Z"
   },
   {
    "duration": 0,
    "start_time": "2025-05-01T02:45:16.355Z"
   },
   {
    "duration": 862,
    "start_time": "2025-05-01T02:45:30.187Z"
   },
   {
    "duration": 29,
    "start_time": "2025-05-01T02:45:31.052Z"
   },
   {
    "duration": 5,
    "start_time": "2025-05-01T02:45:31.082Z"
   },
   {
    "duration": 3,
    "start_time": "2025-05-01T02:45:31.089Z"
   },
   {
    "duration": 11,
    "start_time": "2025-05-01T02:45:31.095Z"
   },
   {
    "duration": 8,
    "start_time": "2025-05-01T02:45:31.107Z"
   },
   {
    "duration": 21,
    "start_time": "2025-05-01T02:45:31.116Z"
   },
   {
    "duration": 35,
    "start_time": "2025-05-01T02:45:31.138Z"
   },
   {
    "duration": 3,
    "start_time": "2025-05-01T02:45:31.175Z"
   },
   {
    "duration": 7,
    "start_time": "2025-05-01T02:45:31.179Z"
   },
   {
    "duration": 12,
    "start_time": "2025-05-01T02:45:31.187Z"
   },
   {
    "duration": 16,
    "start_time": "2025-05-01T02:45:31.201Z"
   },
   {
    "duration": 9,
    "start_time": "2025-05-01T02:45:31.219Z"
   },
   {
    "duration": 39,
    "start_time": "2025-05-01T02:45:31.232Z"
   },
   {
    "duration": 16,
    "start_time": "2025-05-01T02:45:31.273Z"
   },
   {
    "duration": 4,
    "start_time": "2025-05-01T02:45:31.291Z"
   },
   {
    "duration": 263,
    "start_time": "2025-05-01T02:45:31.296Z"
   },
   {
    "duration": 15,
    "start_time": "2025-05-01T02:45:31.561Z"
   },
   {
    "duration": 5,
    "start_time": "2025-05-01T02:45:31.578Z"
   },
   {
    "duration": 21,
    "start_time": "2025-05-01T02:45:31.585Z"
   },
   {
    "duration": 11,
    "start_time": "2025-05-01T02:45:31.607Z"
   },
   {
    "duration": 208,
    "start_time": "2025-05-01T02:45:31.620Z"
   },
   {
    "duration": 159,
    "start_time": "2025-05-01T02:45:31.830Z"
   },
   {
    "duration": 139,
    "start_time": "2025-05-01T02:45:31.992Z"
   },
   {
    "duration": 183,
    "start_time": "2025-05-01T02:45:32.132Z"
   },
   {
    "duration": 143,
    "start_time": "2025-05-01T02:45:32.316Z"
   },
   {
    "duration": 22,
    "start_time": "2025-05-01T02:45:32.461Z"
   },
   {
    "duration": 11,
    "start_time": "2025-05-01T02:45:32.484Z"
   },
   {
    "duration": 11,
    "start_time": "2025-05-01T02:45:32.497Z"
   },
   {
    "duration": 112,
    "start_time": "2025-05-01T02:45:32.509Z"
   },
   {
    "duration": 107,
    "start_time": "2025-05-01T02:45:32.622Z"
   },
   {
    "duration": 106,
    "start_time": "2025-05-01T02:45:32.731Z"
   },
   {
    "duration": 115,
    "start_time": "2025-05-01T02:45:32.839Z"
   },
   {
    "duration": 115,
    "start_time": "2025-05-01T02:45:32.956Z"
   },
   {
    "duration": 111,
    "start_time": "2025-05-01T02:45:33.073Z"
   },
   {
    "duration": 308,
    "start_time": "2025-05-01T02:45:33.186Z"
   },
   {
    "duration": 13,
    "start_time": "2025-05-01T02:45:33.496Z"
   },
   {
    "duration": 158,
    "start_time": "2025-05-01T02:45:33.511Z"
   },
   {
    "duration": 142,
    "start_time": "2025-05-01T02:45:33.671Z"
   },
   {
    "duration": 7,
    "start_time": "2025-05-01T02:45:33.814Z"
   },
   {
    "duration": 6,
    "start_time": "2025-05-01T02:45:33.825Z"
   },
   {
    "duration": 396,
    "start_time": "2025-05-01T02:45:33.832Z"
   },
   {
    "duration": 22,
    "start_time": "2025-05-01T02:45:34.229Z"
   },
   {
    "duration": 91,
    "start_time": "2025-05-01T02:45:34.253Z"
   },
   {
    "duration": 90,
    "start_time": "2025-05-01T02:45:34.346Z"
   },
   {
    "duration": 86,
    "start_time": "2025-05-01T02:45:34.439Z"
   },
   {
    "duration": 7,
    "start_time": "2025-05-01T02:45:34.527Z"
   },
   {
    "duration": 11,
    "start_time": "2025-05-01T02:45:34.535Z"
   },
   {
    "duration": 35,
    "start_time": "2025-05-01T02:45:34.549Z"
   },
   {
    "duration": 522,
    "start_time": "2025-05-01T02:45:34.586Z"
   },
   {
    "duration": 631,
    "start_time": "2025-05-01T02:45:35.110Z"
   },
   {
    "duration": 0,
    "start_time": "2025-05-01T02:45:35.743Z"
   },
   {
    "duration": 0,
    "start_time": "2025-05-01T02:45:35.744Z"
   },
   {
    "duration": 0,
    "start_time": "2025-05-01T02:45:35.744Z"
   },
   {
    "duration": 0,
    "start_time": "2025-05-01T02:45:35.746Z"
   },
   {
    "duration": 0,
    "start_time": "2025-05-01T02:45:35.747Z"
   },
   {
    "duration": 0,
    "start_time": "2025-05-01T02:45:35.749Z"
   },
   {
    "duration": 9,
    "start_time": "2025-05-01T02:45:50.450Z"
   },
   {
    "duration": 4,
    "start_time": "2025-05-01T02:46:45.902Z"
   },
   {
    "duration": 14,
    "start_time": "2025-05-01T02:47:08.038Z"
   },
   {
    "duration": 3,
    "start_time": "2025-05-01T02:47:12.849Z"
   },
   {
    "duration": 144,
    "start_time": "2025-05-01T02:47:20.788Z"
   },
   {
    "duration": 194,
    "start_time": "2025-05-01T02:47:30.603Z"
   },
   {
    "duration": 110,
    "start_time": "2025-05-01T02:47:53.488Z"
   },
   {
    "duration": 105,
    "start_time": "2025-05-01T02:47:56.205Z"
   },
   {
    "duration": 112,
    "start_time": "2025-05-01T02:48:02.518Z"
   },
   {
    "duration": 108,
    "start_time": "2025-05-01T02:48:09.818Z"
   },
   {
    "duration": 28,
    "start_time": "2025-05-01T02:51:44.611Z"
   },
   {
    "duration": 4,
    "start_time": "2025-05-01T02:51:52.562Z"
   },
   {
    "duration": 5,
    "start_time": "2025-05-01T03:04:38.815Z"
   },
   {
    "duration": 24,
    "start_time": "2025-05-01T03:04:49.378Z"
   },
   {
    "duration": 15,
    "start_time": "2025-05-01T03:06:49.924Z"
   },
   {
    "duration": 25,
    "start_time": "2025-05-01T03:09:23.499Z"
   },
   {
    "duration": 794,
    "start_time": "2025-05-01T03:09:45.576Z"
   },
   {
    "duration": 24,
    "start_time": "2025-05-01T03:09:46.372Z"
   },
   {
    "duration": 5,
    "start_time": "2025-05-01T03:09:46.397Z"
   },
   {
    "duration": 2,
    "start_time": "2025-05-01T03:09:46.404Z"
   },
   {
    "duration": 11,
    "start_time": "2025-05-01T03:09:46.408Z"
   },
   {
    "duration": 7,
    "start_time": "2025-05-01T03:09:46.421Z"
   },
   {
    "duration": 49,
    "start_time": "2025-05-01T03:09:46.429Z"
   },
   {
    "duration": 4,
    "start_time": "2025-05-01T03:09:46.480Z"
   },
   {
    "duration": 3,
    "start_time": "2025-05-01T03:09:46.486Z"
   },
   {
    "duration": 5,
    "start_time": "2025-05-01T03:09:46.493Z"
   },
   {
    "duration": 9,
    "start_time": "2025-05-01T03:09:46.502Z"
   },
   {
    "duration": 16,
    "start_time": "2025-05-01T03:09:46.513Z"
   },
   {
    "duration": 42,
    "start_time": "2025-05-01T03:09:46.531Z"
   },
   {
    "duration": 11,
    "start_time": "2025-05-01T03:09:46.574Z"
   },
   {
    "duration": 16,
    "start_time": "2025-05-01T03:09:46.587Z"
   },
   {
    "duration": 5,
    "start_time": "2025-05-01T03:09:46.605Z"
   },
   {
    "duration": 279,
    "start_time": "2025-05-01T03:09:46.612Z"
   },
   {
    "duration": 9,
    "start_time": "2025-05-01T03:09:46.893Z"
   },
   {
    "duration": 6,
    "start_time": "2025-05-01T03:09:46.904Z"
   },
   {
    "duration": 19,
    "start_time": "2025-05-01T03:09:46.911Z"
   },
   {
    "duration": 9,
    "start_time": "2025-05-01T03:09:46.932Z"
   },
   {
    "duration": 207,
    "start_time": "2025-05-01T03:09:46.942Z"
   },
   {
    "duration": 145,
    "start_time": "2025-05-01T03:09:47.151Z"
   },
   {
    "duration": 140,
    "start_time": "2025-05-01T03:09:47.298Z"
   },
   {
    "duration": 197,
    "start_time": "2025-05-01T03:09:47.440Z"
   },
   {
    "duration": 141,
    "start_time": "2025-05-01T03:09:47.639Z"
   },
   {
    "duration": 16,
    "start_time": "2025-05-01T03:09:47.782Z"
   },
   {
    "duration": 11,
    "start_time": "2025-05-01T03:09:47.803Z"
   },
   {
    "duration": 9,
    "start_time": "2025-05-01T03:09:47.815Z"
   },
   {
    "duration": 122,
    "start_time": "2025-05-01T03:09:47.825Z"
   },
   {
    "duration": 106,
    "start_time": "2025-05-01T03:09:47.948Z"
   },
   {
    "duration": 114,
    "start_time": "2025-05-01T03:09:48.057Z"
   },
   {
    "duration": 114,
    "start_time": "2025-05-01T03:09:48.173Z"
   },
   {
    "duration": 114,
    "start_time": "2025-05-01T03:09:48.289Z"
   },
   {
    "duration": 117,
    "start_time": "2025-05-01T03:09:48.405Z"
   },
   {
    "duration": 311,
    "start_time": "2025-05-01T03:09:48.523Z"
   },
   {
    "duration": 13,
    "start_time": "2025-05-01T03:09:48.836Z"
   },
   {
    "duration": 156,
    "start_time": "2025-05-01T03:09:48.851Z"
   },
   {
    "duration": 135,
    "start_time": "2025-05-01T03:09:49.009Z"
   },
   {
    "duration": 7,
    "start_time": "2025-05-01T03:09:49.146Z"
   },
   {
    "duration": 19,
    "start_time": "2025-05-01T03:09:49.154Z"
   },
   {
    "duration": 360,
    "start_time": "2025-05-01T03:09:49.174Z"
   },
   {
    "duration": 21,
    "start_time": "2025-05-01T03:09:49.536Z"
   },
   {
    "duration": 84,
    "start_time": "2025-05-01T03:09:49.558Z"
   },
   {
    "duration": 91,
    "start_time": "2025-05-01T03:09:49.643Z"
   },
   {
    "duration": 85,
    "start_time": "2025-05-01T03:09:49.736Z"
   },
   {
    "duration": 7,
    "start_time": "2025-05-01T03:09:49.822Z"
   },
   {
    "duration": 11,
    "start_time": "2025-05-01T03:09:49.831Z"
   },
   {
    "duration": 38,
    "start_time": "2025-05-01T03:09:49.844Z"
   },
   {
    "duration": 493,
    "start_time": "2025-05-01T03:09:49.883Z"
   },
   {
    "duration": 616,
    "start_time": "2025-05-01T03:09:50.378Z"
   },
   {
    "duration": 0,
    "start_time": "2025-05-01T03:09:50.996Z"
   },
   {
    "duration": 0,
    "start_time": "2025-05-01T03:09:50.997Z"
   },
   {
    "duration": 0,
    "start_time": "2025-05-01T03:09:50.998Z"
   },
   {
    "duration": 0,
    "start_time": "2025-05-01T03:09:50.999Z"
   },
   {
    "duration": 0,
    "start_time": "2025-05-01T03:09:51.001Z"
   },
   {
    "duration": 0,
    "start_time": "2025-05-01T03:09:51.001Z"
   },
   {
    "duration": 0,
    "start_time": "2025-05-01T03:09:51.003Z"
   },
   {
    "duration": 0,
    "start_time": "2025-05-01T03:09:51.004Z"
   },
   {
    "duration": 16,
    "start_time": "2025-05-01T03:11:03.189Z"
   },
   {
    "duration": 786,
    "start_time": "2025-05-01T03:11:12.372Z"
   },
   {
    "duration": 29,
    "start_time": "2025-05-01T03:11:13.161Z"
   },
   {
    "duration": 5,
    "start_time": "2025-05-01T03:11:13.191Z"
   },
   {
    "duration": 3,
    "start_time": "2025-05-01T03:11:13.197Z"
   },
   {
    "duration": 10,
    "start_time": "2025-05-01T03:11:13.203Z"
   },
   {
    "duration": 7,
    "start_time": "2025-05-01T03:11:13.215Z"
   },
   {
    "duration": 47,
    "start_time": "2025-05-01T03:11:13.224Z"
   },
   {
    "duration": 4,
    "start_time": "2025-05-01T03:11:13.272Z"
   },
   {
    "duration": 4,
    "start_time": "2025-05-01T03:11:13.278Z"
   },
   {
    "duration": 6,
    "start_time": "2025-05-01T03:11:13.283Z"
   },
   {
    "duration": 9,
    "start_time": "2025-05-01T03:11:13.290Z"
   },
   {
    "duration": 17,
    "start_time": "2025-05-01T03:11:13.302Z"
   },
   {
    "duration": 10,
    "start_time": "2025-05-01T03:11:13.321Z"
   },
   {
    "duration": 11,
    "start_time": "2025-05-01T03:11:13.370Z"
   },
   {
    "duration": 17,
    "start_time": "2025-05-01T03:11:13.383Z"
   },
   {
    "duration": 4,
    "start_time": "2025-05-01T03:11:13.402Z"
   },
   {
    "duration": 268,
    "start_time": "2025-05-01T03:11:13.407Z"
   },
   {
    "duration": 10,
    "start_time": "2025-05-01T03:11:13.676Z"
   },
   {
    "duration": 5,
    "start_time": "2025-05-01T03:11:13.688Z"
   },
   {
    "duration": 23,
    "start_time": "2025-05-01T03:11:13.695Z"
   },
   {
    "duration": 10,
    "start_time": "2025-05-01T03:11:13.721Z"
   },
   {
    "duration": 217,
    "start_time": "2025-05-01T03:11:13.732Z"
   },
   {
    "duration": 143,
    "start_time": "2025-05-01T03:11:13.953Z"
   },
   {
    "duration": 151,
    "start_time": "2025-05-01T03:11:14.098Z"
   },
   {
    "duration": 198,
    "start_time": "2025-05-01T03:11:14.251Z"
   },
   {
    "duration": 144,
    "start_time": "2025-05-01T03:11:14.450Z"
   },
   {
    "duration": 17,
    "start_time": "2025-05-01T03:11:14.596Z"
   },
   {
    "duration": 12,
    "start_time": "2025-05-01T03:11:14.615Z"
   },
   {
    "duration": 9,
    "start_time": "2025-05-01T03:11:14.628Z"
   },
   {
    "duration": 133,
    "start_time": "2025-05-01T03:11:14.638Z"
   },
   {
    "duration": 107,
    "start_time": "2025-05-01T03:11:14.773Z"
   },
   {
    "duration": 108,
    "start_time": "2025-05-01T03:11:14.882Z"
   },
   {
    "duration": 109,
    "start_time": "2025-05-01T03:11:14.992Z"
   },
   {
    "duration": 125,
    "start_time": "2025-05-01T03:11:15.103Z"
   },
   {
    "duration": 118,
    "start_time": "2025-05-01T03:11:15.230Z"
   },
   {
    "duration": 311,
    "start_time": "2025-05-01T03:11:15.350Z"
   },
   {
    "duration": 14,
    "start_time": "2025-05-01T03:11:15.663Z"
   },
   {
    "duration": 154,
    "start_time": "2025-05-01T03:11:15.679Z"
   },
   {
    "duration": 136,
    "start_time": "2025-05-01T03:11:15.835Z"
   },
   {
    "duration": 7,
    "start_time": "2025-05-01T03:11:15.973Z"
   },
   {
    "duration": 6,
    "start_time": "2025-05-01T03:11:15.985Z"
   },
   {
    "duration": 378,
    "start_time": "2025-05-01T03:11:15.992Z"
   },
   {
    "duration": 22,
    "start_time": "2025-05-01T03:11:16.371Z"
   },
   {
    "duration": 86,
    "start_time": "2025-05-01T03:11:16.396Z"
   },
   {
    "duration": 95,
    "start_time": "2025-05-01T03:11:16.483Z"
   },
   {
    "duration": 75,
    "start_time": "2025-05-01T03:11:16.580Z"
   },
   {
    "duration": 6,
    "start_time": "2025-05-01T03:11:16.671Z"
   },
   {
    "duration": 12,
    "start_time": "2025-05-01T03:11:16.678Z"
   },
   {
    "duration": 15,
    "start_time": "2025-05-01T03:11:16.692Z"
   },
   {
    "duration": 544,
    "start_time": "2025-05-01T03:11:16.708Z"
   },
   {
    "duration": 632,
    "start_time": "2025-05-01T03:11:17.255Z"
   },
   {
    "duration": 0,
    "start_time": "2025-05-01T03:11:17.889Z"
   },
   {
    "duration": 0,
    "start_time": "2025-05-01T03:11:17.891Z"
   },
   {
    "duration": 0,
    "start_time": "2025-05-01T03:11:17.893Z"
   },
   {
    "duration": 0,
    "start_time": "2025-05-01T03:11:17.894Z"
   },
   {
    "duration": 0,
    "start_time": "2025-05-01T03:11:17.895Z"
   },
   {
    "duration": 0,
    "start_time": "2025-05-01T03:11:17.897Z"
   },
   {
    "duration": 0,
    "start_time": "2025-05-01T03:11:17.900Z"
   },
   {
    "duration": 0,
    "start_time": "2025-05-01T03:11:17.902Z"
   },
   {
    "duration": 14,
    "start_time": "2025-05-01T03:11:26.196Z"
   },
   {
    "duration": 5,
    "start_time": "2025-05-01T03:11:31.298Z"
   },
   {
    "duration": 28,
    "start_time": "2025-05-01T03:11:33.540Z"
   },
   {
    "duration": 10,
    "start_time": "2025-05-01T03:14:29.416Z"
   },
   {
    "duration": 25,
    "start_time": "2025-05-01T03:15:15.644Z"
   },
   {
    "duration": 3,
    "start_time": "2025-05-01T03:15:33.511Z"
   },
   {
    "duration": 138,
    "start_time": "2025-05-01T03:15:37.194Z"
   },
   {
    "duration": 233,
    "start_time": "2025-05-01T03:16:30.418Z"
   },
   {
    "duration": 146,
    "start_time": "2025-05-01T03:16:57.158Z"
   },
   {
    "duration": 17,
    "start_time": "2025-05-01T03:17:06.959Z"
   },
   {
    "duration": 21,
    "start_time": "2025-05-01T03:18:22.145Z"
   },
   {
    "duration": 486,
    "start_time": "2025-05-01T03:19:26.363Z"
   },
   {
    "duration": 57,
    "start_time": "2025-05-01T03:21:01.236Z"
   },
   {
    "duration": 133,
    "start_time": "2025-05-01T03:22:07.129Z"
   },
   {
    "duration": 16,
    "start_time": "2025-05-01T03:22:33.099Z"
   },
   {
    "duration": 21,
    "start_time": "2025-05-01T03:22:50.713Z"
   },
   {
    "duration": 152,
    "start_time": "2025-05-01T03:24:18.966Z"
   },
   {
    "duration": 146,
    "start_time": "2025-05-01T03:24:29.848Z"
   },
   {
    "duration": 294,
    "start_time": "2025-05-01T03:26:07.971Z"
   },
   {
    "duration": 258,
    "start_time": "2025-05-01T03:26:24.387Z"
   },
   {
    "duration": 253,
    "start_time": "2025-05-01T03:26:29.146Z"
   },
   {
    "duration": 7,
    "start_time": "2025-05-01T03:27:02.240Z"
   },
   {
    "duration": 275,
    "start_time": "2025-05-01T03:27:15.661Z"
   },
   {
    "duration": 344,
    "start_time": "2025-05-01T03:30:14.844Z"
   },
   {
    "duration": 5,
    "start_time": "2025-05-01T03:30:48.645Z"
   },
   {
    "duration": 7,
    "start_time": "2025-05-01T03:30:52.411Z"
   },
   {
    "duration": 1387,
    "start_time": "2025-05-01T03:31:11.352Z"
   },
   {
    "duration": 405,
    "start_time": "2025-05-01T03:31:39.238Z"
   },
   {
    "duration": 417,
    "start_time": "2025-05-01T03:32:05.290Z"
   },
   {
    "duration": 111,
    "start_time": "2025-05-01T03:33:08.852Z"
   },
   {
    "duration": 24,
    "start_time": "2025-05-01T03:52:56.959Z"
   },
   {
    "duration": 62,
    "start_time": "2025-05-01T03:53:39.415Z"
   },
   {
    "duration": 106,
    "start_time": "2025-05-01T03:53:57.025Z"
   },
   {
    "duration": 111,
    "start_time": "2025-05-01T03:54:36.980Z"
   },
   {
    "duration": 55,
    "start_time": "2025-05-01T03:54:49.627Z"
   },
   {
    "duration": 109,
    "start_time": "2025-05-01T03:54:56.055Z"
   },
   {
    "duration": 30,
    "start_time": "2025-05-01T03:57:41.933Z"
   },
   {
    "duration": 8,
    "start_time": "2025-05-01T03:58:06.133Z"
   },
   {
    "duration": 13,
    "start_time": "2025-05-01T03:58:09.985Z"
   },
   {
    "duration": 16,
    "start_time": "2025-05-01T03:58:12.851Z"
   },
   {
    "duration": 29,
    "start_time": "2025-05-01T03:58:19.883Z"
   },
   {
    "duration": 26,
    "start_time": "2025-05-01T03:58:36.807Z"
   },
   {
    "duration": 14,
    "start_time": "2025-05-01T03:58:56.124Z"
   },
   {
    "duration": 16,
    "start_time": "2025-05-01T03:59:00.830Z"
   },
   {
    "duration": 29,
    "start_time": "2025-05-01T03:59:03.339Z"
   },
   {
    "duration": 27,
    "start_time": "2025-05-01T03:59:08.842Z"
   },
   {
    "duration": 216,
    "start_time": "2025-05-01T03:59:18.039Z"
   },
   {
    "duration": 416,
    "start_time": "2025-05-01T03:59:22.676Z"
   },
   {
    "duration": 630,
    "start_time": "2025-05-01T03:59:26.240Z"
   },
   {
    "duration": 612,
    "start_time": "2025-05-01T03:59:30.950Z"
   },
   {
    "duration": 7,
    "start_time": "2025-05-01T04:02:12.669Z"
   },
   {
    "duration": 15,
    "start_time": "2025-05-01T04:02:18.554Z"
   },
   {
    "duration": 595,
    "start_time": "2025-05-01T04:03:11.085Z"
   },
   {
    "duration": 602,
    "start_time": "2025-05-01T04:03:44.288Z"
   },
   {
    "duration": 4,
    "start_time": "2025-05-01T04:04:20.636Z"
   },
   {
    "duration": 421,
    "start_time": "2025-05-01T04:04:27.260Z"
   },
   {
    "duration": 379,
    "start_time": "2025-05-01T04:04:40.476Z"
   },
   {
    "duration": 2453,
    "start_time": "2025-05-02T02:27:12.001Z"
   },
   {
    "duration": 35,
    "start_time": "2025-05-02T02:27:14.457Z"
   },
   {
    "duration": 5,
    "start_time": "2025-05-02T02:27:14.493Z"
   },
   {
    "duration": 3,
    "start_time": "2025-05-02T02:27:14.500Z"
   },
   {
    "duration": 16,
    "start_time": "2025-05-02T02:27:14.504Z"
   },
   {
    "duration": 7,
    "start_time": "2025-05-02T02:27:14.522Z"
   },
   {
    "duration": 20,
    "start_time": "2025-05-02T02:27:14.531Z"
   },
   {
    "duration": 3,
    "start_time": "2025-05-02T02:27:14.553Z"
   },
   {
    "duration": 3,
    "start_time": "2025-05-02T02:27:14.558Z"
   },
   {
    "duration": 5,
    "start_time": "2025-05-02T02:27:14.564Z"
   },
   {
    "duration": 9,
    "start_time": "2025-05-02T02:27:14.571Z"
   },
   {
    "duration": 52,
    "start_time": "2025-05-02T02:27:14.582Z"
   },
   {
    "duration": 10,
    "start_time": "2025-05-02T02:27:14.636Z"
   },
   {
    "duration": 10,
    "start_time": "2025-05-02T02:27:14.647Z"
   },
   {
    "duration": 16,
    "start_time": "2025-05-02T02:27:14.658Z"
   },
   {
    "duration": 5,
    "start_time": "2025-05-02T02:27:14.675Z"
   },
   {
    "duration": 273,
    "start_time": "2025-05-02T02:27:14.682Z"
   },
   {
    "duration": 9,
    "start_time": "2025-05-02T02:27:14.957Z"
   },
   {
    "duration": 6,
    "start_time": "2025-05-02T02:27:14.968Z"
   },
   {
    "duration": 19,
    "start_time": "2025-05-02T02:27:14.976Z"
   },
   {
    "duration": 30,
    "start_time": "2025-05-02T02:27:14.997Z"
   },
   {
    "duration": 137,
    "start_time": "2025-05-02T02:27:15.028Z"
   },
   {
    "duration": 145,
    "start_time": "2025-05-02T02:27:15.166Z"
   },
   {
    "duration": 146,
    "start_time": "2025-05-02T02:27:15.313Z"
   },
   {
    "duration": 185,
    "start_time": "2025-05-02T02:27:15.461Z"
   },
   {
    "duration": 140,
    "start_time": "2025-05-02T02:27:15.648Z"
   },
   {
    "duration": 16,
    "start_time": "2025-05-02T02:27:15.791Z"
   },
   {
    "duration": 10,
    "start_time": "2025-05-02T02:27:15.820Z"
   },
   {
    "duration": 62,
    "start_time": "2025-05-02T02:27:15.832Z"
   },
   {
    "duration": 111,
    "start_time": "2025-05-02T02:27:15.896Z"
   },
   {
    "duration": 105,
    "start_time": "2025-05-02T02:27:16.009Z"
   },
   {
    "duration": 104,
    "start_time": "2025-05-02T02:27:16.120Z"
   },
   {
    "duration": 103,
    "start_time": "2025-05-02T02:27:16.225Z"
   },
   {
    "duration": 118,
    "start_time": "2025-05-02T02:27:16.330Z"
   },
   {
    "duration": 118,
    "start_time": "2025-05-02T02:27:16.449Z"
   },
   {
    "duration": 238,
    "start_time": "2025-05-02T02:27:16.569Z"
   },
   {
    "duration": 22,
    "start_time": "2025-05-02T02:27:16.809Z"
   },
   {
    "duration": 147,
    "start_time": "2025-05-02T02:27:16.832Z"
   },
   {
    "duration": 134,
    "start_time": "2025-05-02T02:27:16.981Z"
   },
   {
    "duration": 6,
    "start_time": "2025-05-02T02:27:17.119Z"
   },
   {
    "duration": 7,
    "start_time": "2025-05-02T02:27:17.127Z"
   },
   {
    "duration": 356,
    "start_time": "2025-05-02T02:27:17.136Z"
   },
   {
    "duration": 25,
    "start_time": "2025-05-02T02:27:17.494Z"
   },
   {
    "duration": 152,
    "start_time": "2025-05-02T02:27:17.521Z"
   },
   {
    "duration": 81,
    "start_time": "2025-05-02T02:27:17.675Z"
   },
   {
    "duration": 82,
    "start_time": "2025-05-02T02:27:17.757Z"
   },
   {
    "duration": 7,
    "start_time": "2025-05-02T02:27:17.841Z"
   },
   {
    "duration": 11,
    "start_time": "2025-05-02T02:27:17.849Z"
   },
   {
    "duration": 15,
    "start_time": "2025-05-02T02:27:17.862Z"
   },
   {
    "duration": 513,
    "start_time": "2025-05-02T02:27:17.878Z"
   },
   {
    "duration": 640,
    "start_time": "2025-05-02T02:27:18.393Z"
   },
   {
    "duration": 0,
    "start_time": "2025-05-02T02:27:19.036Z"
   },
   {
    "duration": 0,
    "start_time": "2025-05-02T02:27:19.037Z"
   },
   {
    "duration": 0,
    "start_time": "2025-05-02T02:27:19.038Z"
   },
   {
    "duration": 0,
    "start_time": "2025-05-02T02:27:19.040Z"
   },
   {
    "duration": 0,
    "start_time": "2025-05-02T02:27:19.041Z"
   },
   {
    "duration": 0,
    "start_time": "2025-05-02T02:27:19.042Z"
   },
   {
    "duration": 0,
    "start_time": "2025-05-02T02:27:19.043Z"
   },
   {
    "duration": 0,
    "start_time": "2025-05-02T02:27:19.044Z"
   },
   {
    "duration": 0,
    "start_time": "2025-05-02T02:27:19.045Z"
   },
   {
    "duration": 0,
    "start_time": "2025-05-02T02:27:19.047Z"
   },
   {
    "duration": 0,
    "start_time": "2025-05-02T02:27:19.048Z"
   },
   {
    "duration": 0,
    "start_time": "2025-05-02T02:27:19.049Z"
   },
   {
    "duration": 0,
    "start_time": "2025-05-02T02:27:19.050Z"
   },
   {
    "duration": 15,
    "start_time": "2025-05-02T02:30:50.159Z"
   },
   {
    "duration": 18,
    "start_time": "2025-05-02T02:30:56.016Z"
   },
   {
    "duration": 4,
    "start_time": "2025-05-02T02:31:05.610Z"
   },
   {
    "duration": 17,
    "start_time": "2025-05-02T02:31:09.247Z"
   },
   {
    "duration": 107,
    "start_time": "2025-05-02T02:32:26.863Z"
   },
   {
    "duration": 5,
    "start_time": "2025-05-02T02:35:23.515Z"
   },
   {
    "duration": 472,
    "start_time": "2025-05-02T02:35:34.778Z"
   },
   {
    "duration": 6,
    "start_time": "2025-05-02T02:35:49.553Z"
   },
   {
    "duration": 484,
    "start_time": "2025-05-02T02:38:15.127Z"
   },
   {
    "duration": 107,
    "start_time": "2025-05-02T02:38:30.584Z"
   },
   {
    "duration": 111,
    "start_time": "2025-05-02T02:38:40.521Z"
   },
   {
    "duration": 115,
    "start_time": "2025-05-02T02:38:51.906Z"
   },
   {
    "duration": 10,
    "start_time": "2025-05-02T02:50:51.904Z"
   },
   {
    "duration": 9,
    "start_time": "2025-05-02T02:51:05.372Z"
   },
   {
    "duration": 65,
    "start_time": "2025-05-02T02:52:06.577Z"
   },
   {
    "duration": 110,
    "start_time": "2025-05-02T02:52:15.669Z"
   },
   {
    "duration": 100,
    "start_time": "2025-05-02T02:59:13.756Z"
   },
   {
    "duration": 101,
    "start_time": "2025-05-02T02:59:27.156Z"
   },
   {
    "duration": 5,
    "start_time": "2025-05-02T03:00:14.787Z"
   },
   {
    "duration": 107,
    "start_time": "2025-05-02T03:00:21.101Z"
   },
   {
    "duration": 145,
    "start_time": "2025-05-02T03:02:24.111Z"
   },
   {
    "duration": 141,
    "start_time": "2025-05-02T03:02:39.839Z"
   },
   {
    "duration": 100,
    "start_time": "2025-05-02T03:03:00.455Z"
   },
   {
    "duration": 104,
    "start_time": "2025-05-02T03:03:04.649Z"
   },
   {
    "duration": 295,
    "start_time": "2025-05-02T03:03:39.913Z"
   },
   {
    "duration": 107,
    "start_time": "2025-05-02T03:03:51.918Z"
   },
   {
    "duration": 109,
    "start_time": "2025-05-02T03:07:16.867Z"
   },
   {
    "duration": 15,
    "start_time": "2025-05-02T03:37:26.127Z"
   },
   {
    "duration": 15,
    "start_time": "2025-05-02T03:37:37.071Z"
   },
   {
    "duration": 17,
    "start_time": "2025-05-02T03:37:44.302Z"
   },
   {
    "duration": 7,
    "start_time": "2025-05-02T03:42:11.762Z"
   },
   {
    "duration": 14,
    "start_time": "2025-05-02T03:43:04.685Z"
   },
   {
    "duration": 4,
    "start_time": "2025-05-02T03:44:31.810Z"
   },
   {
    "duration": 10,
    "start_time": "2025-05-02T03:44:44.341Z"
   },
   {
    "duration": 18,
    "start_time": "2025-05-02T03:45:02.477Z"
   },
   {
    "duration": 3,
    "start_time": "2025-05-02T03:49:24.648Z"
   },
   {
    "duration": 3,
    "start_time": "2025-05-02T03:49:35.098Z"
   },
   {
    "duration": 19,
    "start_time": "2025-05-02T03:49:39.147Z"
   },
   {
    "duration": 169,
    "start_time": "2025-05-02T03:53:29.114Z"
   },
   {
    "duration": 10,
    "start_time": "2025-05-02T03:54:01.255Z"
   },
   {
    "duration": 8,
    "start_time": "2025-05-02T03:55:17.432Z"
   },
   {
    "duration": 3,
    "start_time": "2025-05-02T03:57:04.808Z"
   },
   {
    "duration": 20,
    "start_time": "2025-05-02T04:00:32.243Z"
   },
   {
    "duration": 10,
    "start_time": "2025-05-02T04:00:43.257Z"
   },
   {
    "duration": 6,
    "start_time": "2025-05-02T04:10:23.758Z"
   },
   {
    "duration": 16,
    "start_time": "2025-05-02T04:10:33.375Z"
   },
   {
    "duration": 15,
    "start_time": "2025-05-02T04:10:39.802Z"
   },
   {
    "duration": 8,
    "start_time": "2025-05-02T04:10:48.249Z"
   },
   {
    "duration": 14,
    "start_time": "2025-05-02T04:10:50.077Z"
   },
   {
    "duration": 2,
    "start_time": "2025-05-02T04:10:53.719Z"
   },
   {
    "duration": 4,
    "start_time": "2025-05-02T04:10:55.622Z"
   },
   {
    "duration": 12,
    "start_time": "2025-05-02T04:30:41.742Z"
   },
   {
    "duration": 15,
    "start_time": "2025-05-02T04:31:13.956Z"
   },
   {
    "duration": 101,
    "start_time": "2025-05-02T04:43:02.433Z"
   },
   {
    "duration": 18,
    "start_time": "2025-05-02T04:43:57.666Z"
   },
   {
    "duration": 17,
    "start_time": "2025-05-02T04:44:20.787Z"
   },
   {
    "duration": 4,
    "start_time": "2025-05-02T04:44:54.437Z"
   },
   {
    "duration": 2,
    "start_time": "2025-05-02T04:45:34.214Z"
   },
   {
    "duration": 9,
    "start_time": "2025-05-02T04:45:36.465Z"
   },
   {
    "duration": 2,
    "start_time": "2025-05-02T04:45:41.438Z"
   },
   {
    "duration": 9,
    "start_time": "2025-05-02T04:45:42.947Z"
   },
   {
    "duration": 4,
    "start_time": "2025-05-02T04:45:44.509Z"
   },
   {
    "duration": 2,
    "start_time": "2025-05-02T04:45:53.487Z"
   },
   {
    "duration": 9,
    "start_time": "2025-05-02T04:45:54.926Z"
   },
   {
    "duration": 4,
    "start_time": "2025-05-02T04:45:56.270Z"
   },
   {
    "duration": 16,
    "start_time": "2025-05-02T04:54:58.193Z"
   },
   {
    "duration": 14,
    "start_time": "2025-05-02T04:55:19.389Z"
   },
   {
    "duration": 13,
    "start_time": "2025-05-02T04:55:25.545Z"
   },
   {
    "duration": 11,
    "start_time": "2025-05-02T04:55:37.086Z"
   },
   {
    "duration": 18,
    "start_time": "2025-05-02T04:55:45.114Z"
   },
   {
    "duration": 4,
    "start_time": "2025-05-02T04:56:09.279Z"
   },
   {
    "duration": 15,
    "start_time": "2025-05-02T04:57:57.153Z"
   },
   {
    "duration": 9,
    "start_time": "2025-05-02T04:58:00.424Z"
   },
   {
    "duration": 2,
    "start_time": "2025-05-02T04:58:03.368Z"
   },
   {
    "duration": 9,
    "start_time": "2025-05-02T04:58:04.762Z"
   },
   {
    "duration": 4,
    "start_time": "2025-05-02T04:58:06.005Z"
   },
   {
    "duration": 4,
    "start_time": "2025-05-02T04:58:17.252Z"
   },
   {
    "duration": 3,
    "start_time": "2025-05-02T04:58:25.149Z"
   },
   {
    "duration": 10,
    "start_time": "2025-05-02T04:58:26.251Z"
   },
   {
    "duration": 3,
    "start_time": "2025-05-02T04:58:27.450Z"
   },
   {
    "duration": 4,
    "start_time": "2025-05-02T04:58:40.466Z"
   },
   {
    "duration": 2,
    "start_time": "2025-05-02T04:58:51.388Z"
   },
   {
    "duration": 13,
    "start_time": "2025-05-02T04:58:56.034Z"
   },
   {
    "duration": 3,
    "start_time": "2025-05-02T04:58:58.069Z"
   },
   {
    "duration": 10,
    "start_time": "2025-05-02T04:59:04.558Z"
   },
   {
    "duration": 4,
    "start_time": "2025-05-02T04:59:06.043Z"
   },
   {
    "duration": 3,
    "start_time": "2025-05-02T04:59:10.412Z"
   },
   {
    "duration": 9,
    "start_time": "2025-05-02T04:59:11.600Z"
   },
   {
    "duration": 4,
    "start_time": "2025-05-02T04:59:12.765Z"
   },
   {
    "duration": 3,
    "start_time": "2025-05-02T04:59:20.461Z"
   },
   {
    "duration": 3,
    "start_time": "2025-05-02T04:59:24.481Z"
   },
   {
    "duration": 167,
    "start_time": "2025-05-02T16:13:25.284Z"
   },
   {
    "duration": 12,
    "start_time": "2025-05-02T16:13:31.572Z"
   },
   {
    "duration": 2598,
    "start_time": "2025-05-02T16:13:36.879Z"
   },
   {
    "duration": 35,
    "start_time": "2025-05-02T16:13:39.480Z"
   },
   {
    "duration": 4,
    "start_time": "2025-05-02T16:13:39.517Z"
   },
   {
    "duration": 4,
    "start_time": "2025-05-02T16:13:39.523Z"
   },
   {
    "duration": 17,
    "start_time": "2025-05-02T16:13:39.530Z"
   },
   {
    "duration": 8,
    "start_time": "2025-05-02T16:13:39.548Z"
   },
   {
    "duration": 27,
    "start_time": "2025-05-02T16:13:39.559Z"
   },
   {
    "duration": 14,
    "start_time": "2025-05-02T16:13:39.588Z"
   },
   {
    "duration": 24,
    "start_time": "2025-05-02T16:13:39.603Z"
   },
   {
    "duration": 8,
    "start_time": "2025-05-02T16:13:39.630Z"
   },
   {
    "duration": 10,
    "start_time": "2025-05-02T16:13:39.640Z"
   },
   {
    "duration": 17,
    "start_time": "2025-05-02T16:13:39.653Z"
   },
   {
    "duration": 11,
    "start_time": "2025-05-02T16:13:39.672Z"
   },
   {
    "duration": 45,
    "start_time": "2025-05-02T16:13:39.687Z"
   },
   {
    "duration": 19,
    "start_time": "2025-05-02T16:13:39.734Z"
   },
   {
    "duration": 4,
    "start_time": "2025-05-02T16:13:39.755Z"
   },
   {
    "duration": 280,
    "start_time": "2025-05-02T16:13:39.761Z"
   },
   {
    "duration": 9,
    "start_time": "2025-05-02T16:13:40.044Z"
   },
   {
    "duration": 5,
    "start_time": "2025-05-02T16:13:40.055Z"
   },
   {
    "duration": 20,
    "start_time": "2025-05-02T16:13:40.062Z"
   },
   {
    "duration": 40,
    "start_time": "2025-05-02T16:13:40.084Z"
   },
   {
    "duration": 145,
    "start_time": "2025-05-02T16:13:40.126Z"
   },
   {
    "duration": 150,
    "start_time": "2025-05-02T16:13:40.273Z"
   },
   {
    "duration": 207,
    "start_time": "2025-05-02T16:13:40.425Z"
   },
   {
    "duration": 195,
    "start_time": "2025-05-02T16:13:40.634Z"
   },
   {
    "duration": 147,
    "start_time": "2025-05-02T16:13:40.831Z"
   },
   {
    "duration": 17,
    "start_time": "2025-05-02T16:13:40.979Z"
   },
   {
    "duration": 29,
    "start_time": "2025-05-02T16:13:40.998Z"
   },
   {
    "duration": 9,
    "start_time": "2025-05-02T16:13:41.030Z"
   },
   {
    "duration": 115,
    "start_time": "2025-05-02T16:13:41.040Z"
   },
   {
    "duration": 120,
    "start_time": "2025-05-02T16:13:41.157Z"
   },
   {
    "duration": 113,
    "start_time": "2025-05-02T16:13:41.278Z"
   },
   {
    "duration": 109,
    "start_time": "2025-05-02T16:13:41.393Z"
   },
   {
    "duration": 121,
    "start_time": "2025-05-02T16:13:41.505Z"
   },
   {
    "duration": 112,
    "start_time": "2025-05-02T16:13:41.628Z"
   },
   {
    "duration": 256,
    "start_time": "2025-05-02T16:13:41.742Z"
   },
   {
    "duration": 24,
    "start_time": "2025-05-02T16:13:42.000Z"
   },
   {
    "duration": 149,
    "start_time": "2025-05-02T16:13:42.026Z"
   },
   {
    "duration": 227,
    "start_time": "2025-05-02T16:13:42.178Z"
   },
   {
    "duration": 6,
    "start_time": "2025-05-02T16:13:42.407Z"
   },
   {
    "duration": 12,
    "start_time": "2025-05-02T16:13:42.418Z"
   },
   {
    "duration": 379,
    "start_time": "2025-05-02T16:13:42.432Z"
   },
   {
    "duration": 29,
    "start_time": "2025-05-02T16:13:42.813Z"
   },
   {
    "duration": 92,
    "start_time": "2025-05-02T16:13:42.844Z"
   },
   {
    "duration": 86,
    "start_time": "2025-05-02T16:13:42.938Z"
   },
   {
    "duration": 81,
    "start_time": "2025-05-02T16:13:43.026Z"
   },
   {
    "duration": 8,
    "start_time": "2025-05-02T16:13:43.125Z"
   },
   {
    "duration": 12,
    "start_time": "2025-05-02T16:13:43.135Z"
   },
   {
    "duration": 15,
    "start_time": "2025-05-02T16:13:43.148Z"
   },
   {
    "duration": 539,
    "start_time": "2025-05-02T16:13:43.165Z"
   },
   {
    "duration": 646,
    "start_time": "2025-05-02T16:13:43.707Z"
   },
   {
    "duration": 0,
    "start_time": "2025-05-02T16:13:44.355Z"
   },
   {
    "duration": 0,
    "start_time": "2025-05-02T16:13:44.356Z"
   },
   {
    "duration": 0,
    "start_time": "2025-05-02T16:13:44.357Z"
   },
   {
    "duration": 0,
    "start_time": "2025-05-02T16:13:44.358Z"
   },
   {
    "duration": 0,
    "start_time": "2025-05-02T16:13:44.359Z"
   },
   {
    "duration": 0,
    "start_time": "2025-05-02T16:13:44.361Z"
   },
   {
    "duration": 0,
    "start_time": "2025-05-02T16:13:44.363Z"
   },
   {
    "duration": 0,
    "start_time": "2025-05-02T16:13:44.364Z"
   },
   {
    "duration": 0,
    "start_time": "2025-05-02T16:13:44.366Z"
   },
   {
    "duration": 0,
    "start_time": "2025-05-02T16:13:44.367Z"
   },
   {
    "duration": 0,
    "start_time": "2025-05-02T16:13:44.368Z"
   },
   {
    "duration": 0,
    "start_time": "2025-05-02T16:13:44.369Z"
   },
   {
    "duration": 0,
    "start_time": "2025-05-02T16:13:44.370Z"
   },
   {
    "duration": 0,
    "start_time": "2025-05-02T16:13:44.372Z"
   },
   {
    "duration": 0,
    "start_time": "2025-05-02T16:13:44.372Z"
   },
   {
    "duration": 0,
    "start_time": "2025-05-02T16:13:44.373Z"
   },
   {
    "duration": 0,
    "start_time": "2025-05-02T16:13:44.374Z"
   },
   {
    "duration": 0,
    "start_time": "2025-05-02T16:13:44.376Z"
   },
   {
    "duration": 0,
    "start_time": "2025-05-02T16:13:44.377Z"
   },
   {
    "duration": 0,
    "start_time": "2025-05-02T16:13:44.379Z"
   },
   {
    "duration": 0,
    "start_time": "2025-05-02T16:13:44.380Z"
   },
   {
    "duration": 0,
    "start_time": "2025-05-02T16:13:44.382Z"
   },
   {
    "duration": 0,
    "start_time": "2025-05-02T16:13:44.424Z"
   },
   {
    "duration": 0,
    "start_time": "2025-05-02T16:13:44.426Z"
   },
   {
    "duration": 0,
    "start_time": "2025-05-02T16:13:44.428Z"
   },
   {
    "duration": 483,
    "start_time": "2025-05-02T16:15:17.653Z"
   },
   {
    "duration": 178,
    "start_time": "2025-05-02T16:15:23.273Z"
   },
   {
    "duration": 17,
    "start_time": "2025-05-02T16:17:02.318Z"
   },
   {
    "duration": 6,
    "start_time": "2025-05-02T16:17:17.221Z"
   },
   {
    "duration": 5,
    "start_time": "2025-05-02T16:17:25.869Z"
   },
   {
    "duration": 68,
    "start_time": "2025-05-02T16:17:49.594Z"
   },
   {
    "duration": 3,
    "start_time": "2025-05-02T16:18:30.736Z"
   },
   {
    "duration": 9,
    "start_time": "2025-05-02T16:18:57.432Z"
   },
   {
    "duration": 15,
    "start_time": "2025-05-02T16:19:49.765Z"
   },
   {
    "duration": 13,
    "start_time": "2025-05-02T16:19:53.965Z"
   },
   {
    "duration": 7,
    "start_time": "2025-05-02T16:21:16.545Z"
   },
   {
    "duration": 4,
    "start_time": "2025-05-02T16:21:41.864Z"
   },
   {
    "duration": 3,
    "start_time": "2025-05-02T16:22:08.797Z"
   },
   {
    "duration": 4,
    "start_time": "2025-05-02T16:22:09.496Z"
   },
   {
    "duration": 3,
    "start_time": "2025-05-02T16:22:09.696Z"
   },
   {
    "duration": 6,
    "start_time": "2025-05-02T16:22:09.869Z"
   },
   {
    "duration": 3,
    "start_time": "2025-05-02T16:22:10.047Z"
   },
   {
    "duration": 4,
    "start_time": "2025-05-02T16:22:10.205Z"
   },
   {
    "duration": 3,
    "start_time": "2025-05-02T16:25:23.236Z"
   },
   {
    "duration": 5,
    "start_time": "2025-05-02T16:27:23.812Z"
   },
   {
    "duration": 3,
    "start_time": "2025-05-02T16:27:56.428Z"
   },
   {
    "duration": 4,
    "start_time": "2025-05-02T16:27:57.449Z"
   },
   {
    "duration": 3,
    "start_time": "2025-05-02T16:27:57.621Z"
   },
   {
    "duration": 3,
    "start_time": "2025-05-02T16:27:57.797Z"
   },
   {
    "duration": 3,
    "start_time": "2025-05-02T16:27:59.861Z"
   },
   {
    "duration": 4,
    "start_time": "2025-05-02T16:28:17.179Z"
   },
   {
    "duration": 18,
    "start_time": "2025-05-02T16:42:50.044Z"
   },
   {
    "duration": 5,
    "start_time": "2025-05-02T16:42:53.461Z"
   },
   {
    "duration": 407,
    "start_time": "2025-05-02T16:42:54.596Z"
   },
   {
    "duration": 8,
    "start_time": "2025-05-02T16:45:36.075Z"
   },
   {
    "duration": 16,
    "start_time": "2025-05-02T16:45:38.614Z"
   },
   {
    "duration": 3,
    "start_time": "2025-05-02T16:45:41.625Z"
   },
   {
    "duration": 3,
    "start_time": "2025-05-02T16:45:43.976Z"
   },
   {
    "duration": 9,
    "start_time": "2025-05-02T16:45:45.139Z"
   },
   {
    "duration": 4,
    "start_time": "2025-05-02T16:45:46.345Z"
   },
   {
    "duration": 394,
    "start_time": "2025-05-02T16:52:41.138Z"
   },
   {
    "duration": 4,
    "start_time": "2025-05-02T16:53:36.448Z"
   },
   {
    "duration": 111,
    "start_time": "2025-05-02T16:53:37.696Z"
   },
   {
    "duration": 110,
    "start_time": "2025-05-02T16:53:40.460Z"
   },
   {
    "duration": 12,
    "start_time": "2025-05-02T16:56:29.844Z"
   },
   {
    "duration": 4,
    "start_time": "2025-05-02T16:56:32.640Z"
   }
  ],
  "kernelspec": {
   "display_name": "base",
   "language": "python",
   "name": "python3"
  },
  "language_info": {
   "codemirror_mode": {
    "name": "ipython",
    "version": 3
   },
   "file_extension": ".py",
   "mimetype": "text/x-python",
   "name": "python",
   "nbconvert_exporter": "python",
   "pygments_lexer": "ipython3",
   "version": "3.12.7"
  },
  "toc": {
   "base_numbering": 1,
   "nav_menu": {},
   "number_sections": true,
   "sideBar": true,
   "skip_h1_title": true,
   "title_cell": "Table of Contents",
   "title_sidebar": "Contents",
   "toc_cell": false,
   "toc_position": {},
   "toc_section_display": true,
   "toc_window_display": false
  }
 },
 "nbformat": 4,
 "nbformat_minor": 2
}
